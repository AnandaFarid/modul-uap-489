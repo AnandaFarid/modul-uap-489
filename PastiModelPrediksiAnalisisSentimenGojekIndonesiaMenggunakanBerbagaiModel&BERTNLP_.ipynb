{
  "metadata": {
    "kernelspec": {
      "name": "python3",
      "display_name": "Python 3",
      "language": "python"
    },
    "language_info": {
      "name": "python",
      "version": "3.10.13",
      "mimetype": "text/x-python",
      "codemirror_mode": {
        "name": "ipython",
        "version": 3
      },
      "pygments_lexer": "ipython3",
      "nbconvert_exporter": "python",
      "file_extension": ".py"
    },
    "kaggle": {
      "accelerator": "none",
      "dataSources": [
        {
          "sourceId": 7545387,
          "sourceType": "datasetVersion",
          "datasetId": 4394044
        }
      ],
      "dockerImageVersionId": 30646,
      "isInternetEnabled": true,
      "language": "python",
      "sourceType": "notebook",
      "isGpuEnabled": false
    },
    "colab": {
      "provenance": []
    }
  },
  "nbformat_minor": 0,
  "nbformat": 4,
  "cells": [
    {
      "source": [
        "# IMPORTANT: RUN THIS CELL IN ORDER TO IMPORT YOUR KAGGLE DATA SOURCES,\n",
        "# THEN FEEL FREE TO DELETE THIS CELL.\n",
        "# NOTE: THIS NOTEBOOK ENVIRONMENT DIFFERS FROM KAGGLE'S PYTHON\n",
        "# ENVIRONMENT SO THERE MAY BE MISSING LIBRARIES USED BY YOUR\n",
        "# NOTEBOOK.\n",
        "import kagglehub\n",
        "ucupsedaya_gojek_app_reviews_bahasa_indonesia_path = kagglehub.dataset_download('ucupsedaya/gojek-app-reviews-bahasa-indonesia')\n",
        "\n",
        "print('Data source import complete.')\n"
      ],
      "metadata": {
        "id": "kO1LXzjqgfTK",
        "colab": {
          "base_uri": "https://localhost:8080/"
        },
        "outputId": "50203341-db99-4010-b6e6-10368b49c809"
      },
      "cell_type": "code",
      "outputs": [
        {
          "output_type": "stream",
          "name": "stdout",
          "text": [
            "Warning: Looks like you're using an outdated `kagglehub` version (installed: 0.3.5), please consider upgrading to the latest version (0.3.6).\n",
            "Data source import complete.\n"
          ]
        }
      ],
      "execution_count": 1
    },
    {
      "cell_type": "markdown",
      "source": [
        "## Gojek Review Sentiment Analysis"
      ],
      "metadata": {
        "id": "tOBjHaPMgfTN"
      }
    },
    {
      "cell_type": "markdown",
      "source": [
        "### Problem Introduction"
      ],
      "metadata": {
        "id": "cOAyn1YrgfTO"
      }
    },
    {
      "cell_type": "markdown",
      "source": [
        "Even with a high rating of 4.7 and 4.4 on AppStore and PlayStore respectively. Gojek always strives to be a better man.. i meant app. It wants to know what worked and what didn't, so that Gojek can improve and make the world better with technology."
      ],
      "metadata": {
        "id": "PySaCToYgwSO"
      }
    },
    {
      "cell_type": "markdown",
      "source": [
        "### Objective:\n",
        "\n",
        "Create a model that is able to systematically classify positive and negative reviews. The model will classify reviews from all platforms and social media. This will lead to further action, such as gathering negative reviewers and performing a Focus Group Discusions (FGD).\n",
        "\n",
        "### Contents of Notebook:\n",
        "1. Basic EDA and Text Pre-processing\n",
        "2. Traditional Machine Learning, Natural Language Processing by counting, Bag of Words (BoW).\n",
        "3. Deep Learning Model, taking into account word order and meaning with Embedding.\n",
        "4. Transfer Learning and Fine Tune Fill-Mask BERT Base Indonesian Model."
      ],
      "metadata": {
        "id": "KRFl5VDIgfTO"
      }
    },
    {
      "cell_type": "code",
      "source": [
        "import numpy as np\n",
        "import pandas as pd\n",
        "import seaborn as sns\n",
        "import matplotlib.pyplot as plt\n",
        "\n",
        "from sklearn.feature_extraction.text import TfidfVectorizer\n",
        "\n",
        "from sklearn.linear_model import LogisticRegression\n",
        "from xgboost import XGBClassifier\n",
        "\n",
        "from sklearn.model_selection import GridSearchCV\n",
        "from sklearn.model_selection import train_test_split\n",
        "\n",
        "from sklearn.metrics import confusion_matrix, ConfusionMatrixDisplay, classification_report, make_scorer, precision_score\n",
        "from sklearn.metrics import roc_auc_score, f1_score"
      ],
      "metadata": {
        "execution": {
          "iopub.status.busy": "2024-02-19T03:57:41.366974Z",
          "iopub.execute_input": "2024-02-19T03:57:41.367389Z",
          "iopub.status.idle": "2024-02-19T03:57:42.884902Z",
          "shell.execute_reply.started": "2024-02-19T03:57:41.367349Z",
          "shell.execute_reply": "2024-02-19T03:57:42.884078Z"
        },
        "trusted": true,
        "id": "4oMA8dEGgfTO"
      },
      "execution_count": 4,
      "outputs": []
    },
    {
      "cell_type": "code",
      "source": [
        "df = pd.read_csv('GojekAppReviewV4.0.0-V4.9.3_Cleaned.csv')"
      ],
      "metadata": {
        "execution": {
          "iopub.status.busy": "2024-02-19T03:58:20.704765Z",
          "iopub.execute_input": "2024-02-19T03:58:20.705302Z",
          "iopub.status.idle": "2024-02-19T03:58:21.68426Z",
          "shell.execute_reply.started": "2024-02-19T03:58:20.705265Z",
          "shell.execute_reply": "2024-02-19T03:58:21.683087Z"
        },
        "trusted": true,
        "id": "ohdeBGh_gfTP"
      },
      "execution_count": 5,
      "outputs": []
    },
    {
      "cell_type": "markdown",
      "source": [
        "#Exploratory Data Analysis (EDA)"
      ],
      "metadata": {
        "id": "wqJeCvAYgfTP"
      }
    },
    {
      "cell_type": "code",
      "source": [
        "df.info()"
      ],
      "metadata": {
        "execution": {
          "iopub.status.busy": "2024-02-19T03:58:27.943185Z",
          "iopub.execute_input": "2024-02-19T03:58:27.943544Z",
          "iopub.status.idle": "2024-02-19T03:58:28.022198Z",
          "shell.execute_reply.started": "2024-02-19T03:58:27.943518Z",
          "shell.execute_reply": "2024-02-19T03:58:28.021101Z"
        },
        "trusted": true,
        "id": "qYd4t-GUgfTP",
        "colab": {
          "base_uri": "https://localhost:8080/"
        },
        "outputId": "57ddcf41-9cbf-4419-b7f3-bdc566fdad00"
      },
      "execution_count": 6,
      "outputs": [
        {
          "output_type": "stream",
          "name": "stdout",
          "text": [
            "<class 'pandas.core.frame.DataFrame'>\n",
            "RangeIndex: 225002 entries, 0 to 225001\n",
            "Data columns (total 5 columns):\n",
            " #   Column      Non-Null Count   Dtype \n",
            "---  ------      --------------   ----- \n",
            " 0   userName    225002 non-null  object\n",
            " 1   content     225000 non-null  object\n",
            " 2   score       225002 non-null  int64 \n",
            " 3   at          225002 non-null  object\n",
            " 4   appVersion  225002 non-null  object\n",
            "dtypes: int64(1), object(4)\n",
            "memory usage: 8.6+ MB\n"
          ]
        }
      ]
    },
    {
      "cell_type": "code",
      "source": [
        "# removing name for privacy and to reduce any bias\n",
        "df = df.drop(columns=['userName']);"
      ],
      "metadata": {
        "execution": {
          "iopub.status.busy": "2024-02-19T03:58:32.141567Z",
          "iopub.execute_input": "2024-02-19T03:58:32.142068Z",
          "iopub.status.idle": "2024-02-19T03:58:32.178355Z",
          "shell.execute_reply.started": "2024-02-19T03:58:32.142025Z",
          "shell.execute_reply": "2024-02-19T03:58:32.177085Z"
        },
        "trusted": true,
        "id": "oPk5DOSugfTQ"
      },
      "execution_count": 7,
      "outputs": []
    },
    {
      "cell_type": "code",
      "source": [
        "df.head()"
      ],
      "metadata": {
        "execution": {
          "iopub.status.busy": "2024-02-19T03:58:39.346834Z",
          "iopub.execute_input": "2024-02-19T03:58:39.34767Z",
          "iopub.status.idle": "2024-02-19T03:58:39.363232Z",
          "shell.execute_reply.started": "2024-02-19T03:58:39.347634Z",
          "shell.execute_reply": "2024-02-19T03:58:39.362182Z"
        },
        "trusted": true,
        "id": "3thZ0pv8gfTQ",
        "colab": {
          "base_uri": "https://localhost:8080/",
          "height": 293
        },
        "outputId": "475252ed-8db1-4a1c-851c-50c5eadddc44"
      },
      "execution_count": 8,
      "outputs": [
        {
          "output_type": "execute_result",
          "data": {
            "text/plain": [
              "                                             content  score  \\\n",
              "0                            akun gopay saya di blok      1   \n",
              "1  Lambat sekali sekarang ini bosssku apk gojek g...      3   \n",
              "2  Kenapa sih dari kemarin sy buka aplikasi gojek...      4   \n",
              "3  Baru download gojek dan hape baru trus ditop u...      1   \n",
              "4                                             Mantap      5   \n",
              "\n",
              "                    at appVersion  \n",
              "0  2022-01-21 10:52:12      4.9.3  \n",
              "1  2021-11-30 15:40:38      4.9.3  \n",
              "2  2021-11-29 22:58:12      4.9.3  \n",
              "3  2022-09-03 15:21:17      4.9.3  \n",
              "4  2022-01-15 10:05:27      4.9.3  "
            ],
            "text/html": [
              "\n",
              "  <div id=\"df-7a8f39d0-a176-4036-98c9-455c6b5344dc\" class=\"colab-df-container\">\n",
              "    <div>\n",
              "<style scoped>\n",
              "    .dataframe tbody tr th:only-of-type {\n",
              "        vertical-align: middle;\n",
              "    }\n",
              "\n",
              "    .dataframe tbody tr th {\n",
              "        vertical-align: top;\n",
              "    }\n",
              "\n",
              "    .dataframe thead th {\n",
              "        text-align: right;\n",
              "    }\n",
              "</style>\n",
              "<table border=\"1\" class=\"dataframe\">\n",
              "  <thead>\n",
              "    <tr style=\"text-align: right;\">\n",
              "      <th></th>\n",
              "      <th>content</th>\n",
              "      <th>score</th>\n",
              "      <th>at</th>\n",
              "      <th>appVersion</th>\n",
              "    </tr>\n",
              "  </thead>\n",
              "  <tbody>\n",
              "    <tr>\n",
              "      <th>0</th>\n",
              "      <td>akun gopay saya di blok</td>\n",
              "      <td>1</td>\n",
              "      <td>2022-01-21 10:52:12</td>\n",
              "      <td>4.9.3</td>\n",
              "    </tr>\n",
              "    <tr>\n",
              "      <th>1</th>\n",
              "      <td>Lambat sekali sekarang ini bosssku apk gojek g...</td>\n",
              "      <td>3</td>\n",
              "      <td>2021-11-30 15:40:38</td>\n",
              "      <td>4.9.3</td>\n",
              "    </tr>\n",
              "    <tr>\n",
              "      <th>2</th>\n",
              "      <td>Kenapa sih dari kemarin sy buka aplikasi gojek...</td>\n",
              "      <td>4</td>\n",
              "      <td>2021-11-29 22:58:12</td>\n",
              "      <td>4.9.3</td>\n",
              "    </tr>\n",
              "    <tr>\n",
              "      <th>3</th>\n",
              "      <td>Baru download gojek dan hape baru trus ditop u...</td>\n",
              "      <td>1</td>\n",
              "      <td>2022-09-03 15:21:17</td>\n",
              "      <td>4.9.3</td>\n",
              "    </tr>\n",
              "    <tr>\n",
              "      <th>4</th>\n",
              "      <td>Mantap</td>\n",
              "      <td>5</td>\n",
              "      <td>2022-01-15 10:05:27</td>\n",
              "      <td>4.9.3</td>\n",
              "    </tr>\n",
              "  </tbody>\n",
              "</table>\n",
              "</div>\n",
              "    <div class=\"colab-df-buttons\">\n",
              "\n",
              "  <div class=\"colab-df-container\">\n",
              "    <button class=\"colab-df-convert\" onclick=\"convertToInteractive('df-7a8f39d0-a176-4036-98c9-455c6b5344dc')\"\n",
              "            title=\"Convert this dataframe to an interactive table.\"\n",
              "            style=\"display:none;\">\n",
              "\n",
              "  <svg xmlns=\"http://www.w3.org/2000/svg\" height=\"24px\" viewBox=\"0 -960 960 960\">\n",
              "    <path d=\"M120-120v-720h720v720H120Zm60-500h600v-160H180v160Zm220 220h160v-160H400v160Zm0 220h160v-160H400v160ZM180-400h160v-160H180v160Zm440 0h160v-160H620v160ZM180-180h160v-160H180v160Zm440 0h160v-160H620v160Z\"/>\n",
              "  </svg>\n",
              "    </button>\n",
              "\n",
              "  <style>\n",
              "    .colab-df-container {\n",
              "      display:flex;\n",
              "      gap: 12px;\n",
              "    }\n",
              "\n",
              "    .colab-df-convert {\n",
              "      background-color: #E8F0FE;\n",
              "      border: none;\n",
              "      border-radius: 50%;\n",
              "      cursor: pointer;\n",
              "      display: none;\n",
              "      fill: #1967D2;\n",
              "      height: 32px;\n",
              "      padding: 0 0 0 0;\n",
              "      width: 32px;\n",
              "    }\n",
              "\n",
              "    .colab-df-convert:hover {\n",
              "      background-color: #E2EBFA;\n",
              "      box-shadow: 0px 1px 2px rgba(60, 64, 67, 0.3), 0px 1px 3px 1px rgba(60, 64, 67, 0.15);\n",
              "      fill: #174EA6;\n",
              "    }\n",
              "\n",
              "    .colab-df-buttons div {\n",
              "      margin-bottom: 4px;\n",
              "    }\n",
              "\n",
              "    [theme=dark] .colab-df-convert {\n",
              "      background-color: #3B4455;\n",
              "      fill: #D2E3FC;\n",
              "    }\n",
              "\n",
              "    [theme=dark] .colab-df-convert:hover {\n",
              "      background-color: #434B5C;\n",
              "      box-shadow: 0px 1px 3px 1px rgba(0, 0, 0, 0.15);\n",
              "      filter: drop-shadow(0px 1px 2px rgba(0, 0, 0, 0.3));\n",
              "      fill: #FFFFFF;\n",
              "    }\n",
              "  </style>\n",
              "\n",
              "    <script>\n",
              "      const buttonEl =\n",
              "        document.querySelector('#df-7a8f39d0-a176-4036-98c9-455c6b5344dc button.colab-df-convert');\n",
              "      buttonEl.style.display =\n",
              "        google.colab.kernel.accessAllowed ? 'block' : 'none';\n",
              "\n",
              "      async function convertToInteractive(key) {\n",
              "        const element = document.querySelector('#df-7a8f39d0-a176-4036-98c9-455c6b5344dc');\n",
              "        const dataTable =\n",
              "          await google.colab.kernel.invokeFunction('convertToInteractive',\n",
              "                                                    [key], {});\n",
              "        if (!dataTable) return;\n",
              "\n",
              "        const docLinkHtml = 'Like what you see? Visit the ' +\n",
              "          '<a target=\"_blank\" href=https://colab.research.google.com/notebooks/data_table.ipynb>data table notebook</a>'\n",
              "          + ' to learn more about interactive tables.';\n",
              "        element.innerHTML = '';\n",
              "        dataTable['output_type'] = 'display_data';\n",
              "        await google.colab.output.renderOutput(dataTable, element);\n",
              "        const docLink = document.createElement('div');\n",
              "        docLink.innerHTML = docLinkHtml;\n",
              "        element.appendChild(docLink);\n",
              "      }\n",
              "    </script>\n",
              "  </div>\n",
              "\n",
              "\n",
              "<div id=\"df-e2f78711-2e90-42d8-9bdd-a288fdc34049\">\n",
              "  <button class=\"colab-df-quickchart\" onclick=\"quickchart('df-e2f78711-2e90-42d8-9bdd-a288fdc34049')\"\n",
              "            title=\"Suggest charts\"\n",
              "            style=\"display:none;\">\n",
              "\n",
              "<svg xmlns=\"http://www.w3.org/2000/svg\" height=\"24px\"viewBox=\"0 0 24 24\"\n",
              "     width=\"24px\">\n",
              "    <g>\n",
              "        <path d=\"M19 3H5c-1.1 0-2 .9-2 2v14c0 1.1.9 2 2 2h14c1.1 0 2-.9 2-2V5c0-1.1-.9-2-2-2zM9 17H7v-7h2v7zm4 0h-2V7h2v10zm4 0h-2v-4h2v4z\"/>\n",
              "    </g>\n",
              "</svg>\n",
              "  </button>\n",
              "\n",
              "<style>\n",
              "  .colab-df-quickchart {\n",
              "      --bg-color: #E8F0FE;\n",
              "      --fill-color: #1967D2;\n",
              "      --hover-bg-color: #E2EBFA;\n",
              "      --hover-fill-color: #174EA6;\n",
              "      --disabled-fill-color: #AAA;\n",
              "      --disabled-bg-color: #DDD;\n",
              "  }\n",
              "\n",
              "  [theme=dark] .colab-df-quickchart {\n",
              "      --bg-color: #3B4455;\n",
              "      --fill-color: #D2E3FC;\n",
              "      --hover-bg-color: #434B5C;\n",
              "      --hover-fill-color: #FFFFFF;\n",
              "      --disabled-bg-color: #3B4455;\n",
              "      --disabled-fill-color: #666;\n",
              "  }\n",
              "\n",
              "  .colab-df-quickchart {\n",
              "    background-color: var(--bg-color);\n",
              "    border: none;\n",
              "    border-radius: 50%;\n",
              "    cursor: pointer;\n",
              "    display: none;\n",
              "    fill: var(--fill-color);\n",
              "    height: 32px;\n",
              "    padding: 0;\n",
              "    width: 32px;\n",
              "  }\n",
              "\n",
              "  .colab-df-quickchart:hover {\n",
              "    background-color: var(--hover-bg-color);\n",
              "    box-shadow: 0 1px 2px rgba(60, 64, 67, 0.3), 0 1px 3px 1px rgba(60, 64, 67, 0.15);\n",
              "    fill: var(--button-hover-fill-color);\n",
              "  }\n",
              "\n",
              "  .colab-df-quickchart-complete:disabled,\n",
              "  .colab-df-quickchart-complete:disabled:hover {\n",
              "    background-color: var(--disabled-bg-color);\n",
              "    fill: var(--disabled-fill-color);\n",
              "    box-shadow: none;\n",
              "  }\n",
              "\n",
              "  .colab-df-spinner {\n",
              "    border: 2px solid var(--fill-color);\n",
              "    border-color: transparent;\n",
              "    border-bottom-color: var(--fill-color);\n",
              "    animation:\n",
              "      spin 1s steps(1) infinite;\n",
              "  }\n",
              "\n",
              "  @keyframes spin {\n",
              "    0% {\n",
              "      border-color: transparent;\n",
              "      border-bottom-color: var(--fill-color);\n",
              "      border-left-color: var(--fill-color);\n",
              "    }\n",
              "    20% {\n",
              "      border-color: transparent;\n",
              "      border-left-color: var(--fill-color);\n",
              "      border-top-color: var(--fill-color);\n",
              "    }\n",
              "    30% {\n",
              "      border-color: transparent;\n",
              "      border-left-color: var(--fill-color);\n",
              "      border-top-color: var(--fill-color);\n",
              "      border-right-color: var(--fill-color);\n",
              "    }\n",
              "    40% {\n",
              "      border-color: transparent;\n",
              "      border-right-color: var(--fill-color);\n",
              "      border-top-color: var(--fill-color);\n",
              "    }\n",
              "    60% {\n",
              "      border-color: transparent;\n",
              "      border-right-color: var(--fill-color);\n",
              "    }\n",
              "    80% {\n",
              "      border-color: transparent;\n",
              "      border-right-color: var(--fill-color);\n",
              "      border-bottom-color: var(--fill-color);\n",
              "    }\n",
              "    90% {\n",
              "      border-color: transparent;\n",
              "      border-bottom-color: var(--fill-color);\n",
              "    }\n",
              "  }\n",
              "</style>\n",
              "\n",
              "  <script>\n",
              "    async function quickchart(key) {\n",
              "      const quickchartButtonEl =\n",
              "        document.querySelector('#' + key + ' button');\n",
              "      quickchartButtonEl.disabled = true;  // To prevent multiple clicks.\n",
              "      quickchartButtonEl.classList.add('colab-df-spinner');\n",
              "      try {\n",
              "        const charts = await google.colab.kernel.invokeFunction(\n",
              "            'suggestCharts', [key], {});\n",
              "      } catch (error) {\n",
              "        console.error('Error during call to suggestCharts:', error);\n",
              "      }\n",
              "      quickchartButtonEl.classList.remove('colab-df-spinner');\n",
              "      quickchartButtonEl.classList.add('colab-df-quickchart-complete');\n",
              "    }\n",
              "    (() => {\n",
              "      let quickchartButtonEl =\n",
              "        document.querySelector('#df-e2f78711-2e90-42d8-9bdd-a288fdc34049 button');\n",
              "      quickchartButtonEl.style.display =\n",
              "        google.colab.kernel.accessAllowed ? 'block' : 'none';\n",
              "    })();\n",
              "  </script>\n",
              "</div>\n",
              "\n",
              "    </div>\n",
              "  </div>\n"
            ],
            "application/vnd.google.colaboratory.intrinsic+json": {
              "type": "dataframe",
              "variable_name": "df"
            }
          },
          "metadata": {},
          "execution_count": 8
        }
      ]
    },
    {
      "cell_type": "code",
      "source": [
        "# removing neutral review\n",
        "df = df[df['score'] != 3]"
      ],
      "metadata": {
        "execution": {
          "iopub.status.busy": "2024-02-19T03:58:43.029549Z",
          "iopub.execute_input": "2024-02-19T03:58:43.029929Z",
          "iopub.status.idle": "2024-02-19T03:58:43.050764Z",
          "shell.execute_reply.started": "2024-02-19T03:58:43.029898Z",
          "shell.execute_reply": "2024-02-19T03:58:43.049832Z"
        },
        "trusted": true,
        "id": "CUdXAeAAgfTQ"
      },
      "execution_count": 9,
      "outputs": []
    },
    {
      "cell_type": "code",
      "source": [
        "# Map 1-2 review into Negative, and 4-5 into Positive, not as good as manual human label.\n",
        "target_map = {1: 'negative', 2: 'negative', 4: 'positive', 5: 'positive'}\n",
        "df['target'] = df['score'].map(target_map)\n",
        "\n",
        "# Map category into binar integer for model target\n",
        "target_map = {'negative': 0, 'positive' : 1}\n",
        "df['target_binary'] = df['target'].map(target_map)"
      ],
      "metadata": {
        "execution": {
          "iopub.status.busy": "2024-02-19T03:58:50.101135Z",
          "iopub.execute_input": "2024-02-19T03:58:50.101542Z",
          "iopub.status.idle": "2024-02-19T03:58:50.128679Z",
          "shell.execute_reply.started": "2024-02-19T03:58:50.101513Z",
          "shell.execute_reply": "2024-02-19T03:58:50.127599Z"
        },
        "trusted": true,
        "id": "YHFT_1kIgfTQ",
        "colab": {
          "base_uri": "https://localhost:8080/"
        },
        "outputId": "b01ac86a-c24f-4350-cd79-0338c0f5847f"
      },
      "execution_count": 10,
      "outputs": [
        {
          "output_type": "stream",
          "name": "stderr",
          "text": [
            "<ipython-input-10-a7fefa787ace>:3: SettingWithCopyWarning: \n",
            "A value is trying to be set on a copy of a slice from a DataFrame.\n",
            "Try using .loc[row_indexer,col_indexer] = value instead\n",
            "\n",
            "See the caveats in the documentation: https://pandas.pydata.org/pandas-docs/stable/user_guide/indexing.html#returning-a-view-versus-a-copy\n",
            "  df['target'] = df['score'].map(target_map)\n",
            "<ipython-input-10-a7fefa787ace>:7: SettingWithCopyWarning: \n",
            "A value is trying to be set on a copy of a slice from a DataFrame.\n",
            "Try using .loc[row_indexer,col_indexer] = value instead\n",
            "\n",
            "See the caveats in the documentation: https://pandas.pydata.org/pandas-docs/stable/user_guide/indexing.html#returning-a-view-versus-a-copy\n",
            "  df['target_binary'] = df['target'].map(target_map)\n"
          ]
        }
      ]
    },
    {
      "cell_type": "code",
      "source": [
        "df.head()"
      ],
      "metadata": {
        "execution": {
          "iopub.status.busy": "2024-02-19T03:58:54.287341Z",
          "iopub.execute_input": "2024-02-19T03:58:54.287727Z",
          "iopub.status.idle": "2024-02-19T03:58:54.299236Z",
          "shell.execute_reply.started": "2024-02-19T03:58:54.287697Z",
          "shell.execute_reply": "2024-02-19T03:58:54.298201Z"
        },
        "trusted": true,
        "id": "1JaEBoIBgfTQ",
        "colab": {
          "base_uri": "https://localhost:8080/",
          "height": 328
        },
        "outputId": "335da1ab-96cd-4bed-8a3b-42204f5edb98"
      },
      "execution_count": 11,
      "outputs": [
        {
          "output_type": "execute_result",
          "data": {
            "text/plain": [
              "                                             content  score  \\\n",
              "0                            akun gopay saya di blok      1   \n",
              "2  Kenapa sih dari kemarin sy buka aplikasi gojek...      4   \n",
              "3  Baru download gojek dan hape baru trus ditop u...      1   \n",
              "4                                             Mantap      5   \n",
              "5                                              Bagus      4   \n",
              "\n",
              "                    at appVersion    target  target_binary  \n",
              "0  2022-01-21 10:52:12      4.9.3  negative              0  \n",
              "2  2021-11-29 22:58:12      4.9.3  positive              1  \n",
              "3  2022-09-03 15:21:17      4.9.3  negative              0  \n",
              "4  2022-01-15 10:05:27      4.9.3  positive              1  \n",
              "5  2022-02-01 05:50:40      4.9.3  positive              1  "
            ],
            "text/html": [
              "\n",
              "  <div id=\"df-cf672626-5cb3-45d1-ae68-08d0fb58b4b2\" class=\"colab-df-container\">\n",
              "    <div>\n",
              "<style scoped>\n",
              "    .dataframe tbody tr th:only-of-type {\n",
              "        vertical-align: middle;\n",
              "    }\n",
              "\n",
              "    .dataframe tbody tr th {\n",
              "        vertical-align: top;\n",
              "    }\n",
              "\n",
              "    .dataframe thead th {\n",
              "        text-align: right;\n",
              "    }\n",
              "</style>\n",
              "<table border=\"1\" class=\"dataframe\">\n",
              "  <thead>\n",
              "    <tr style=\"text-align: right;\">\n",
              "      <th></th>\n",
              "      <th>content</th>\n",
              "      <th>score</th>\n",
              "      <th>at</th>\n",
              "      <th>appVersion</th>\n",
              "      <th>target</th>\n",
              "      <th>target_binary</th>\n",
              "    </tr>\n",
              "  </thead>\n",
              "  <tbody>\n",
              "    <tr>\n",
              "      <th>0</th>\n",
              "      <td>akun gopay saya di blok</td>\n",
              "      <td>1</td>\n",
              "      <td>2022-01-21 10:52:12</td>\n",
              "      <td>4.9.3</td>\n",
              "      <td>negative</td>\n",
              "      <td>0</td>\n",
              "    </tr>\n",
              "    <tr>\n",
              "      <th>2</th>\n",
              "      <td>Kenapa sih dari kemarin sy buka aplikasi gojek...</td>\n",
              "      <td>4</td>\n",
              "      <td>2021-11-29 22:58:12</td>\n",
              "      <td>4.9.3</td>\n",
              "      <td>positive</td>\n",
              "      <td>1</td>\n",
              "    </tr>\n",
              "    <tr>\n",
              "      <th>3</th>\n",
              "      <td>Baru download gojek dan hape baru trus ditop u...</td>\n",
              "      <td>1</td>\n",
              "      <td>2022-09-03 15:21:17</td>\n",
              "      <td>4.9.3</td>\n",
              "      <td>negative</td>\n",
              "      <td>0</td>\n",
              "    </tr>\n",
              "    <tr>\n",
              "      <th>4</th>\n",
              "      <td>Mantap</td>\n",
              "      <td>5</td>\n",
              "      <td>2022-01-15 10:05:27</td>\n",
              "      <td>4.9.3</td>\n",
              "      <td>positive</td>\n",
              "      <td>1</td>\n",
              "    </tr>\n",
              "    <tr>\n",
              "      <th>5</th>\n",
              "      <td>Bagus</td>\n",
              "      <td>4</td>\n",
              "      <td>2022-02-01 05:50:40</td>\n",
              "      <td>4.9.3</td>\n",
              "      <td>positive</td>\n",
              "      <td>1</td>\n",
              "    </tr>\n",
              "  </tbody>\n",
              "</table>\n",
              "</div>\n",
              "    <div class=\"colab-df-buttons\">\n",
              "\n",
              "  <div class=\"colab-df-container\">\n",
              "    <button class=\"colab-df-convert\" onclick=\"convertToInteractive('df-cf672626-5cb3-45d1-ae68-08d0fb58b4b2')\"\n",
              "            title=\"Convert this dataframe to an interactive table.\"\n",
              "            style=\"display:none;\">\n",
              "\n",
              "  <svg xmlns=\"http://www.w3.org/2000/svg\" height=\"24px\" viewBox=\"0 -960 960 960\">\n",
              "    <path d=\"M120-120v-720h720v720H120Zm60-500h600v-160H180v160Zm220 220h160v-160H400v160Zm0 220h160v-160H400v160ZM180-400h160v-160H180v160Zm440 0h160v-160H620v160ZM180-180h160v-160H180v160Zm440 0h160v-160H620v160Z\"/>\n",
              "  </svg>\n",
              "    </button>\n",
              "\n",
              "  <style>\n",
              "    .colab-df-container {\n",
              "      display:flex;\n",
              "      gap: 12px;\n",
              "    }\n",
              "\n",
              "    .colab-df-convert {\n",
              "      background-color: #E8F0FE;\n",
              "      border: none;\n",
              "      border-radius: 50%;\n",
              "      cursor: pointer;\n",
              "      display: none;\n",
              "      fill: #1967D2;\n",
              "      height: 32px;\n",
              "      padding: 0 0 0 0;\n",
              "      width: 32px;\n",
              "    }\n",
              "\n",
              "    .colab-df-convert:hover {\n",
              "      background-color: #E2EBFA;\n",
              "      box-shadow: 0px 1px 2px rgba(60, 64, 67, 0.3), 0px 1px 3px 1px rgba(60, 64, 67, 0.15);\n",
              "      fill: #174EA6;\n",
              "    }\n",
              "\n",
              "    .colab-df-buttons div {\n",
              "      margin-bottom: 4px;\n",
              "    }\n",
              "\n",
              "    [theme=dark] .colab-df-convert {\n",
              "      background-color: #3B4455;\n",
              "      fill: #D2E3FC;\n",
              "    }\n",
              "\n",
              "    [theme=dark] .colab-df-convert:hover {\n",
              "      background-color: #434B5C;\n",
              "      box-shadow: 0px 1px 3px 1px rgba(0, 0, 0, 0.15);\n",
              "      filter: drop-shadow(0px 1px 2px rgba(0, 0, 0, 0.3));\n",
              "      fill: #FFFFFF;\n",
              "    }\n",
              "  </style>\n",
              "\n",
              "    <script>\n",
              "      const buttonEl =\n",
              "        document.querySelector('#df-cf672626-5cb3-45d1-ae68-08d0fb58b4b2 button.colab-df-convert');\n",
              "      buttonEl.style.display =\n",
              "        google.colab.kernel.accessAllowed ? 'block' : 'none';\n",
              "\n",
              "      async function convertToInteractive(key) {\n",
              "        const element = document.querySelector('#df-cf672626-5cb3-45d1-ae68-08d0fb58b4b2');\n",
              "        const dataTable =\n",
              "          await google.colab.kernel.invokeFunction('convertToInteractive',\n",
              "                                                    [key], {});\n",
              "        if (!dataTable) return;\n",
              "\n",
              "        const docLinkHtml = 'Like what you see? Visit the ' +\n",
              "          '<a target=\"_blank\" href=https://colab.research.google.com/notebooks/data_table.ipynb>data table notebook</a>'\n",
              "          + ' to learn more about interactive tables.';\n",
              "        element.innerHTML = '';\n",
              "        dataTable['output_type'] = 'display_data';\n",
              "        await google.colab.output.renderOutput(dataTable, element);\n",
              "        const docLink = document.createElement('div');\n",
              "        docLink.innerHTML = docLinkHtml;\n",
              "        element.appendChild(docLink);\n",
              "      }\n",
              "    </script>\n",
              "  </div>\n",
              "\n",
              "\n",
              "<div id=\"df-0639bbe8-adbc-4d93-b88b-34f05d0b397f\">\n",
              "  <button class=\"colab-df-quickchart\" onclick=\"quickchart('df-0639bbe8-adbc-4d93-b88b-34f05d0b397f')\"\n",
              "            title=\"Suggest charts\"\n",
              "            style=\"display:none;\">\n",
              "\n",
              "<svg xmlns=\"http://www.w3.org/2000/svg\" height=\"24px\"viewBox=\"0 0 24 24\"\n",
              "     width=\"24px\">\n",
              "    <g>\n",
              "        <path d=\"M19 3H5c-1.1 0-2 .9-2 2v14c0 1.1.9 2 2 2h14c1.1 0 2-.9 2-2V5c0-1.1-.9-2-2-2zM9 17H7v-7h2v7zm4 0h-2V7h2v10zm4 0h-2v-4h2v4z\"/>\n",
              "    </g>\n",
              "</svg>\n",
              "  </button>\n",
              "\n",
              "<style>\n",
              "  .colab-df-quickchart {\n",
              "      --bg-color: #E8F0FE;\n",
              "      --fill-color: #1967D2;\n",
              "      --hover-bg-color: #E2EBFA;\n",
              "      --hover-fill-color: #174EA6;\n",
              "      --disabled-fill-color: #AAA;\n",
              "      --disabled-bg-color: #DDD;\n",
              "  }\n",
              "\n",
              "  [theme=dark] .colab-df-quickchart {\n",
              "      --bg-color: #3B4455;\n",
              "      --fill-color: #D2E3FC;\n",
              "      --hover-bg-color: #434B5C;\n",
              "      --hover-fill-color: #FFFFFF;\n",
              "      --disabled-bg-color: #3B4455;\n",
              "      --disabled-fill-color: #666;\n",
              "  }\n",
              "\n",
              "  .colab-df-quickchart {\n",
              "    background-color: var(--bg-color);\n",
              "    border: none;\n",
              "    border-radius: 50%;\n",
              "    cursor: pointer;\n",
              "    display: none;\n",
              "    fill: var(--fill-color);\n",
              "    height: 32px;\n",
              "    padding: 0;\n",
              "    width: 32px;\n",
              "  }\n",
              "\n",
              "  .colab-df-quickchart:hover {\n",
              "    background-color: var(--hover-bg-color);\n",
              "    box-shadow: 0 1px 2px rgba(60, 64, 67, 0.3), 0 1px 3px 1px rgba(60, 64, 67, 0.15);\n",
              "    fill: var(--button-hover-fill-color);\n",
              "  }\n",
              "\n",
              "  .colab-df-quickchart-complete:disabled,\n",
              "  .colab-df-quickchart-complete:disabled:hover {\n",
              "    background-color: var(--disabled-bg-color);\n",
              "    fill: var(--disabled-fill-color);\n",
              "    box-shadow: none;\n",
              "  }\n",
              "\n",
              "  .colab-df-spinner {\n",
              "    border: 2px solid var(--fill-color);\n",
              "    border-color: transparent;\n",
              "    border-bottom-color: var(--fill-color);\n",
              "    animation:\n",
              "      spin 1s steps(1) infinite;\n",
              "  }\n",
              "\n",
              "  @keyframes spin {\n",
              "    0% {\n",
              "      border-color: transparent;\n",
              "      border-bottom-color: var(--fill-color);\n",
              "      border-left-color: var(--fill-color);\n",
              "    }\n",
              "    20% {\n",
              "      border-color: transparent;\n",
              "      border-left-color: var(--fill-color);\n",
              "      border-top-color: var(--fill-color);\n",
              "    }\n",
              "    30% {\n",
              "      border-color: transparent;\n",
              "      border-left-color: var(--fill-color);\n",
              "      border-top-color: var(--fill-color);\n",
              "      border-right-color: var(--fill-color);\n",
              "    }\n",
              "    40% {\n",
              "      border-color: transparent;\n",
              "      border-right-color: var(--fill-color);\n",
              "      border-top-color: var(--fill-color);\n",
              "    }\n",
              "    60% {\n",
              "      border-color: transparent;\n",
              "      border-right-color: var(--fill-color);\n",
              "    }\n",
              "    80% {\n",
              "      border-color: transparent;\n",
              "      border-right-color: var(--fill-color);\n",
              "      border-bottom-color: var(--fill-color);\n",
              "    }\n",
              "    90% {\n",
              "      border-color: transparent;\n",
              "      border-bottom-color: var(--fill-color);\n",
              "    }\n",
              "  }\n",
              "</style>\n",
              "\n",
              "  <script>\n",
              "    async function quickchart(key) {\n",
              "      const quickchartButtonEl =\n",
              "        document.querySelector('#' + key + ' button');\n",
              "      quickchartButtonEl.disabled = true;  // To prevent multiple clicks.\n",
              "      quickchartButtonEl.classList.add('colab-df-spinner');\n",
              "      try {\n",
              "        const charts = await google.colab.kernel.invokeFunction(\n",
              "            'suggestCharts', [key], {});\n",
              "      } catch (error) {\n",
              "        console.error('Error during call to suggestCharts:', error);\n",
              "      }\n",
              "      quickchartButtonEl.classList.remove('colab-df-spinner');\n",
              "      quickchartButtonEl.classList.add('colab-df-quickchart-complete');\n",
              "    }\n",
              "    (() => {\n",
              "      let quickchartButtonEl =\n",
              "        document.querySelector('#df-0639bbe8-adbc-4d93-b88b-34f05d0b397f button');\n",
              "      quickchartButtonEl.style.display =\n",
              "        google.colab.kernel.accessAllowed ? 'block' : 'none';\n",
              "    })();\n",
              "  </script>\n",
              "</div>\n",
              "\n",
              "    </div>\n",
              "  </div>\n"
            ],
            "application/vnd.google.colaboratory.intrinsic+json": {
              "type": "dataframe",
              "variable_name": "df"
            }
          },
          "metadata": {},
          "execution_count": 11
        }
      ]
    },
    {
      "cell_type": "code",
      "source": [
        "# column name standardization\n",
        "df.columns = ['text', 'score','date','app_version','target','target_binary']"
      ],
      "metadata": {
        "execution": {
          "iopub.status.busy": "2024-02-19T03:59:10.042828Z",
          "iopub.execute_input": "2024-02-19T03:59:10.04325Z",
          "iopub.status.idle": "2024-02-19T03:59:10.049251Z",
          "shell.execute_reply.started": "2024-02-19T03:59:10.043217Z",
          "shell.execute_reply": "2024-02-19T03:59:10.047898Z"
        },
        "trusted": true,
        "id": "dL7CfgzlgfTQ"
      },
      "execution_count": 12,
      "outputs": []
    },
    {
      "cell_type": "code",
      "source": [
        "df['app_version_cut'] = df['app_version'].str[:3]"
      ],
      "metadata": {
        "execution": {
          "iopub.status.busy": "2024-02-19T03:59:13.193216Z",
          "iopub.execute_input": "2024-02-19T03:59:13.193616Z",
          "iopub.status.idle": "2024-02-19T03:59:13.255325Z",
          "shell.execute_reply.started": "2024-02-19T03:59:13.193584Z",
          "shell.execute_reply": "2024-02-19T03:59:13.254282Z"
        },
        "trusted": true,
        "id": "XjikLsfvgfTR",
        "colab": {
          "base_uri": "https://localhost:8080/"
        },
        "outputId": "78753c5a-15e4-48b8-c026-940e9f1c0c14"
      },
      "execution_count": 13,
      "outputs": [
        {
          "output_type": "stream",
          "name": "stderr",
          "text": [
            "<ipython-input-13-647617c12501>:1: SettingWithCopyWarning: \n",
            "A value is trying to be set on a copy of a slice from a DataFrame.\n",
            "Try using .loc[row_indexer,col_indexer] = value instead\n",
            "\n",
            "See the caveats in the documentation: https://pandas.pydata.org/pandas-docs/stable/user_guide/indexing.html#returning-a-view-versus-a-copy\n",
            "  df['app_version_cut'] = df['app_version'].str[:3]\n"
          ]
        }
      ]
    },
    {
      "cell_type": "code",
      "source": [
        "df.head()"
      ],
      "metadata": {
        "execution": {
          "iopub.status.busy": "2024-02-19T03:59:20.302391Z",
          "iopub.execute_input": "2024-02-19T03:59:20.302739Z",
          "iopub.status.idle": "2024-02-19T03:59:20.315053Z",
          "shell.execute_reply.started": "2024-02-19T03:59:20.302713Z",
          "shell.execute_reply": "2024-02-19T03:59:20.313942Z"
        },
        "trusted": true,
        "id": "i2MSOekcgfTR",
        "colab": {
          "base_uri": "https://localhost:8080/",
          "height": 521
        },
        "outputId": "100948f8-c092-42c0-872e-8d258c68701d"
      },
      "execution_count": 14,
      "outputs": [
        {
          "output_type": "execute_result",
          "data": {
            "text/plain": [
              "                                                text  score  \\\n",
              "0                            akun gopay saya di blok      1   \n",
              "2  Kenapa sih dari kemarin sy buka aplikasi gojek...      4   \n",
              "3  Baru download gojek dan hape baru trus ditop u...      1   \n",
              "4                                             Mantap      5   \n",
              "5                                              Bagus      4   \n",
              "\n",
              "                  date app_version    target  target_binary app_version_cut  \n",
              "0  2022-01-21 10:52:12       4.9.3  negative              0             4.9  \n",
              "2  2021-11-29 22:58:12       4.9.3  positive              1             4.9  \n",
              "3  2022-09-03 15:21:17       4.9.3  negative              0             4.9  \n",
              "4  2022-01-15 10:05:27       4.9.3  positive              1             4.9  \n",
              "5  2022-02-01 05:50:40       4.9.3  positive              1             4.9  "
            ],
            "text/html": [
              "\n",
              "  <div id=\"df-ad08eda3-155c-4deb-b22c-3ff3ac92ae63\" class=\"colab-df-container\">\n",
              "    <div>\n",
              "<style scoped>\n",
              "    .dataframe tbody tr th:only-of-type {\n",
              "        vertical-align: middle;\n",
              "    }\n",
              "\n",
              "    .dataframe tbody tr th {\n",
              "        vertical-align: top;\n",
              "    }\n",
              "\n",
              "    .dataframe thead th {\n",
              "        text-align: right;\n",
              "    }\n",
              "</style>\n",
              "<table border=\"1\" class=\"dataframe\">\n",
              "  <thead>\n",
              "    <tr style=\"text-align: right;\">\n",
              "      <th></th>\n",
              "      <th>text</th>\n",
              "      <th>score</th>\n",
              "      <th>date</th>\n",
              "      <th>app_version</th>\n",
              "      <th>target</th>\n",
              "      <th>target_binary</th>\n",
              "      <th>app_version_cut</th>\n",
              "    </tr>\n",
              "  </thead>\n",
              "  <tbody>\n",
              "    <tr>\n",
              "      <th>0</th>\n",
              "      <td>akun gopay saya di blok</td>\n",
              "      <td>1</td>\n",
              "      <td>2022-01-21 10:52:12</td>\n",
              "      <td>4.9.3</td>\n",
              "      <td>negative</td>\n",
              "      <td>0</td>\n",
              "      <td>4.9</td>\n",
              "    </tr>\n",
              "    <tr>\n",
              "      <th>2</th>\n",
              "      <td>Kenapa sih dari kemarin sy buka aplikasi gojek...</td>\n",
              "      <td>4</td>\n",
              "      <td>2021-11-29 22:58:12</td>\n",
              "      <td>4.9.3</td>\n",
              "      <td>positive</td>\n",
              "      <td>1</td>\n",
              "      <td>4.9</td>\n",
              "    </tr>\n",
              "    <tr>\n",
              "      <th>3</th>\n",
              "      <td>Baru download gojek dan hape baru trus ditop u...</td>\n",
              "      <td>1</td>\n",
              "      <td>2022-09-03 15:21:17</td>\n",
              "      <td>4.9.3</td>\n",
              "      <td>negative</td>\n",
              "      <td>0</td>\n",
              "      <td>4.9</td>\n",
              "    </tr>\n",
              "    <tr>\n",
              "      <th>4</th>\n",
              "      <td>Mantap</td>\n",
              "      <td>5</td>\n",
              "      <td>2022-01-15 10:05:27</td>\n",
              "      <td>4.9.3</td>\n",
              "      <td>positive</td>\n",
              "      <td>1</td>\n",
              "      <td>4.9</td>\n",
              "    </tr>\n",
              "    <tr>\n",
              "      <th>5</th>\n",
              "      <td>Bagus</td>\n",
              "      <td>4</td>\n",
              "      <td>2022-02-01 05:50:40</td>\n",
              "      <td>4.9.3</td>\n",
              "      <td>positive</td>\n",
              "      <td>1</td>\n",
              "      <td>4.9</td>\n",
              "    </tr>\n",
              "  </tbody>\n",
              "</table>\n",
              "</div>\n",
              "    <div class=\"colab-df-buttons\">\n",
              "\n",
              "  <div class=\"colab-df-container\">\n",
              "    <button class=\"colab-df-convert\" onclick=\"convertToInteractive('df-ad08eda3-155c-4deb-b22c-3ff3ac92ae63')\"\n",
              "            title=\"Convert this dataframe to an interactive table.\"\n",
              "            style=\"display:none;\">\n",
              "\n",
              "  <svg xmlns=\"http://www.w3.org/2000/svg\" height=\"24px\" viewBox=\"0 -960 960 960\">\n",
              "    <path d=\"M120-120v-720h720v720H120Zm60-500h600v-160H180v160Zm220 220h160v-160H400v160Zm0 220h160v-160H400v160ZM180-400h160v-160H180v160Zm440 0h160v-160H620v160ZM180-180h160v-160H180v160Zm440 0h160v-160H620v160Z\"/>\n",
              "  </svg>\n",
              "    </button>\n",
              "\n",
              "  <style>\n",
              "    .colab-df-container {\n",
              "      display:flex;\n",
              "      gap: 12px;\n",
              "    }\n",
              "\n",
              "    .colab-df-convert {\n",
              "      background-color: #E8F0FE;\n",
              "      border: none;\n",
              "      border-radius: 50%;\n",
              "      cursor: pointer;\n",
              "      display: none;\n",
              "      fill: #1967D2;\n",
              "      height: 32px;\n",
              "      padding: 0 0 0 0;\n",
              "      width: 32px;\n",
              "    }\n",
              "\n",
              "    .colab-df-convert:hover {\n",
              "      background-color: #E2EBFA;\n",
              "      box-shadow: 0px 1px 2px rgba(60, 64, 67, 0.3), 0px 1px 3px 1px rgba(60, 64, 67, 0.15);\n",
              "      fill: #174EA6;\n",
              "    }\n",
              "\n",
              "    .colab-df-buttons div {\n",
              "      margin-bottom: 4px;\n",
              "    }\n",
              "\n",
              "    [theme=dark] .colab-df-convert {\n",
              "      background-color: #3B4455;\n",
              "      fill: #D2E3FC;\n",
              "    }\n",
              "\n",
              "    [theme=dark] .colab-df-convert:hover {\n",
              "      background-color: #434B5C;\n",
              "      box-shadow: 0px 1px 3px 1px rgba(0, 0, 0, 0.15);\n",
              "      filter: drop-shadow(0px 1px 2px rgba(0, 0, 0, 0.3));\n",
              "      fill: #FFFFFF;\n",
              "    }\n",
              "  </style>\n",
              "\n",
              "    <script>\n",
              "      const buttonEl =\n",
              "        document.querySelector('#df-ad08eda3-155c-4deb-b22c-3ff3ac92ae63 button.colab-df-convert');\n",
              "      buttonEl.style.display =\n",
              "        google.colab.kernel.accessAllowed ? 'block' : 'none';\n",
              "\n",
              "      async function convertToInteractive(key) {\n",
              "        const element = document.querySelector('#df-ad08eda3-155c-4deb-b22c-3ff3ac92ae63');\n",
              "        const dataTable =\n",
              "          await google.colab.kernel.invokeFunction('convertToInteractive',\n",
              "                                                    [key], {});\n",
              "        if (!dataTable) return;\n",
              "\n",
              "        const docLinkHtml = 'Like what you see? Visit the ' +\n",
              "          '<a target=\"_blank\" href=https://colab.research.google.com/notebooks/data_table.ipynb>data table notebook</a>'\n",
              "          + ' to learn more about interactive tables.';\n",
              "        element.innerHTML = '';\n",
              "        dataTable['output_type'] = 'display_data';\n",
              "        await google.colab.output.renderOutput(dataTable, element);\n",
              "        const docLink = document.createElement('div');\n",
              "        docLink.innerHTML = docLinkHtml;\n",
              "        element.appendChild(docLink);\n",
              "      }\n",
              "    </script>\n",
              "  </div>\n",
              "\n",
              "\n",
              "<div id=\"df-bb0687ed-e09a-4f9f-b9f9-cf5de4acf8bd\">\n",
              "  <button class=\"colab-df-quickchart\" onclick=\"quickchart('df-bb0687ed-e09a-4f9f-b9f9-cf5de4acf8bd')\"\n",
              "            title=\"Suggest charts\"\n",
              "            style=\"display:none;\">\n",
              "\n",
              "<svg xmlns=\"http://www.w3.org/2000/svg\" height=\"24px\"viewBox=\"0 0 24 24\"\n",
              "     width=\"24px\">\n",
              "    <g>\n",
              "        <path d=\"M19 3H5c-1.1 0-2 .9-2 2v14c0 1.1.9 2 2 2h14c1.1 0 2-.9 2-2V5c0-1.1-.9-2-2-2zM9 17H7v-7h2v7zm4 0h-2V7h2v10zm4 0h-2v-4h2v4z\"/>\n",
              "    </g>\n",
              "</svg>\n",
              "  </button>\n",
              "\n",
              "<style>\n",
              "  .colab-df-quickchart {\n",
              "      --bg-color: #E8F0FE;\n",
              "      --fill-color: #1967D2;\n",
              "      --hover-bg-color: #E2EBFA;\n",
              "      --hover-fill-color: #174EA6;\n",
              "      --disabled-fill-color: #AAA;\n",
              "      --disabled-bg-color: #DDD;\n",
              "  }\n",
              "\n",
              "  [theme=dark] .colab-df-quickchart {\n",
              "      --bg-color: #3B4455;\n",
              "      --fill-color: #D2E3FC;\n",
              "      --hover-bg-color: #434B5C;\n",
              "      --hover-fill-color: #FFFFFF;\n",
              "      --disabled-bg-color: #3B4455;\n",
              "      --disabled-fill-color: #666;\n",
              "  }\n",
              "\n",
              "  .colab-df-quickchart {\n",
              "    background-color: var(--bg-color);\n",
              "    border: none;\n",
              "    border-radius: 50%;\n",
              "    cursor: pointer;\n",
              "    display: none;\n",
              "    fill: var(--fill-color);\n",
              "    height: 32px;\n",
              "    padding: 0;\n",
              "    width: 32px;\n",
              "  }\n",
              "\n",
              "  .colab-df-quickchart:hover {\n",
              "    background-color: var(--hover-bg-color);\n",
              "    box-shadow: 0 1px 2px rgba(60, 64, 67, 0.3), 0 1px 3px 1px rgba(60, 64, 67, 0.15);\n",
              "    fill: var(--button-hover-fill-color);\n",
              "  }\n",
              "\n",
              "  .colab-df-quickchart-complete:disabled,\n",
              "  .colab-df-quickchart-complete:disabled:hover {\n",
              "    background-color: var(--disabled-bg-color);\n",
              "    fill: var(--disabled-fill-color);\n",
              "    box-shadow: none;\n",
              "  }\n",
              "\n",
              "  .colab-df-spinner {\n",
              "    border: 2px solid var(--fill-color);\n",
              "    border-color: transparent;\n",
              "    border-bottom-color: var(--fill-color);\n",
              "    animation:\n",
              "      spin 1s steps(1) infinite;\n",
              "  }\n",
              "\n",
              "  @keyframes spin {\n",
              "    0% {\n",
              "      border-color: transparent;\n",
              "      border-bottom-color: var(--fill-color);\n",
              "      border-left-color: var(--fill-color);\n",
              "    }\n",
              "    20% {\n",
              "      border-color: transparent;\n",
              "      border-left-color: var(--fill-color);\n",
              "      border-top-color: var(--fill-color);\n",
              "    }\n",
              "    30% {\n",
              "      border-color: transparent;\n",
              "      border-left-color: var(--fill-color);\n",
              "      border-top-color: var(--fill-color);\n",
              "      border-right-color: var(--fill-color);\n",
              "    }\n",
              "    40% {\n",
              "      border-color: transparent;\n",
              "      border-right-color: var(--fill-color);\n",
              "      border-top-color: var(--fill-color);\n",
              "    }\n",
              "    60% {\n",
              "      border-color: transparent;\n",
              "      border-right-color: var(--fill-color);\n",
              "    }\n",
              "    80% {\n",
              "      border-color: transparent;\n",
              "      border-right-color: var(--fill-color);\n",
              "      border-bottom-color: var(--fill-color);\n",
              "    }\n",
              "    90% {\n",
              "      border-color: transparent;\n",
              "      border-bottom-color: var(--fill-color);\n",
              "    }\n",
              "  }\n",
              "</style>\n",
              "\n",
              "  <script>\n",
              "    async function quickchart(key) {\n",
              "      const quickchartButtonEl =\n",
              "        document.querySelector('#' + key + ' button');\n",
              "      quickchartButtonEl.disabled = true;  // To prevent multiple clicks.\n",
              "      quickchartButtonEl.classList.add('colab-df-spinner');\n",
              "      try {\n",
              "        const charts = await google.colab.kernel.invokeFunction(\n",
              "            'suggestCharts', [key], {});\n",
              "      } catch (error) {\n",
              "        console.error('Error during call to suggestCharts:', error);\n",
              "      }\n",
              "      quickchartButtonEl.classList.remove('colab-df-spinner');\n",
              "      quickchartButtonEl.classList.add('colab-df-quickchart-complete');\n",
              "    }\n",
              "    (() => {\n",
              "      let quickchartButtonEl =\n",
              "        document.querySelector('#df-bb0687ed-e09a-4f9f-b9f9-cf5de4acf8bd button');\n",
              "      quickchartButtonEl.style.display =\n",
              "        google.colab.kernel.accessAllowed ? 'block' : 'none';\n",
              "    })();\n",
              "  </script>\n",
              "</div>\n",
              "\n",
              "    </div>\n",
              "  </div>\n"
            ],
            "application/vnd.google.colaboratory.intrinsic+json": {
              "type": "dataframe",
              "variable_name": "df"
            }
          },
          "metadata": {},
          "execution_count": 14
        }
      ]
    },
    {
      "cell_type": "code",
      "source": [
        "sns.countplot(data=df, x='target', hue='app_version_cut')"
      ],
      "metadata": {
        "execution": {
          "iopub.status.busy": "2024-02-19T03:59:24.976061Z",
          "iopub.execute_input": "2024-02-19T03:59:24.97641Z",
          "iopub.status.idle": "2024-02-19T03:59:25.727595Z",
          "shell.execute_reply.started": "2024-02-19T03:59:24.976383Z",
          "shell.execute_reply": "2024-02-19T03:59:25.726199Z"
        },
        "trusted": true,
        "id": "wG3UQZgQgfTR",
        "colab": {
          "base_uri": "https://localhost:8080/",
          "height": 467
        },
        "outputId": "6486ac83-d485-42de-ae26-742a748cd3c3"
      },
      "execution_count": 15,
      "outputs": [
        {
          "output_type": "execute_result",
          "data": {
            "text/plain": [
              "<Axes: xlabel='target', ylabel='count'>"
            ]
          },
          "metadata": {},
          "execution_count": 15
        },
        {
          "output_type": "display_data",
          "data": {
            "text/plain": [
              "<Figure size 640x480 with 1 Axes>"
            ],
            "image/png": "[encoded data removed]"
          },
          "metadata": {}
        }
      ]
    },
    {
      "cell_type": "markdown",
      "source": [
        "The positive and negative reviews looks evenly distributed. The positive reviews for version 4.3 is a bit higher compare to the rest."
      ],
      "metadata": {
        "id": "Yhar1yMjgfTR"
      }
    },
    {
      "cell_type": "code",
      "source": [
        "df = df[df['app_version_cut'] >= '4.7']"
      ],
      "metadata": {
        "execution": {
          "iopub.status.busy": "2024-02-19T03:59:37.544604Z",
          "iopub.execute_input": "2024-02-19T03:59:37.545778Z",
          "iopub.status.idle": "2024-02-19T03:59:37.579738Z",
          "shell.execute_reply.started": "2024-02-19T03:59:37.545733Z",
          "shell.execute_reply": "2024-02-19T03:59:37.578362Z"
        },
        "trusted": true,
        "id": "Z9F825R0gfTR"
      },
      "execution_count": 16,
      "outputs": []
    },
    {
      "cell_type": "code",
      "source": [
        "df.info()"
      ],
      "metadata": {
        "execution": {
          "iopub.status.busy": "2024-02-19T03:59:41.278737Z",
          "iopub.execute_input": "2024-02-19T03:59:41.279157Z",
          "iopub.status.idle": "2024-02-19T03:59:41.302345Z",
          "shell.execute_reply.started": "2024-02-19T03:59:41.279128Z",
          "shell.execute_reply": "2024-02-19T03:59:41.301247Z"
        },
        "trusted": true,
        "id": "bIvCLH7ZgfTR",
        "colab": {
          "base_uri": "https://localhost:8080/"
        },
        "outputId": "180c3989-3c99-4246-979d-393d15bd8cf2"
      },
      "execution_count": 17,
      "outputs": [
        {
          "output_type": "stream",
          "name": "stdout",
          "text": [
            "<class 'pandas.core.frame.DataFrame'>\n",
            "Index: 32969 entries, 0 to 34575\n",
            "Data columns (total 7 columns):\n",
            " #   Column           Non-Null Count  Dtype \n",
            "---  ------           --------------  ----- \n",
            " 0   text             32969 non-null  object\n",
            " 1   score            32969 non-null  int64 \n",
            " 2   date             32969 non-null  object\n",
            " 3   app_version      32969 non-null  object\n",
            " 4   target           32969 non-null  object\n",
            " 5   target_binary    32969 non-null  int64 \n",
            " 6   app_version_cut  32969 non-null  object\n",
            "dtypes: int64(2), object(5)\n",
            "memory usage: 2.0+ MB\n"
          ]
        }
      ]
    },
    {
      "cell_type": "code",
      "source": [
        "sns.countplot(data=df, x='target')"
      ],
      "metadata": {
        "execution": {
          "iopub.status.busy": "2024-02-19T03:59:47.651664Z",
          "iopub.execute_input": "2024-02-19T03:59:47.652688Z",
          "iopub.status.idle": "2024-02-19T03:59:47.814702Z",
          "shell.execute_reply.started": "2024-02-19T03:59:47.652649Z",
          "shell.execute_reply": "2024-02-19T03:59:47.813685Z"
        },
        "trusted": true,
        "id": "ehZHzEPTgfTR",
        "colab": {
          "base_uri": "https://localhost:8080/",
          "height": 467
        },
        "outputId": "e9705377-c8ba-4dea-83f8-af75e74bec25"
      },
      "execution_count": 18,
      "outputs": [
        {
          "output_type": "execute_result",
          "data": {
            "text/plain": [
              "<Axes: xlabel='target', ylabel='count'>"
            ]
          },
          "metadata": {},
          "execution_count": 18
        },
        {
          "output_type": "display_data",
          "data": {
            "text/plain": [
              "<Figure size 640x480 with 1 Axes>"
            ],
            "image/png": "[encoded data removed]"
          },
          "metadata": {}
        }
      ]
    },
    {
      "cell_type": "markdown",
      "source": [
        "A little imbalanced, need to pay attetion on interpreting the model. No need for resampling."
      ],
      "metadata": {
        "id": "R2TrqEaygfTR"
      }
    },
    {
      "cell_type": "markdown",
      "source": [
        "# Text Preprocessing"
      ],
      "metadata": {
        "id": "fzr3bjhagfTR"
      }
    },
    {
      "cell_type": "code",
      "source": [
        "pip install nlp_id"
      ],
      "metadata": {
        "execution": {
          "iopub.status.busy": "2024-02-19T04:01:19.814476Z",
          "iopub.execute_input": "2024-02-19T04:01:19.814852Z",
          "iopub.status.idle": "2024-02-19T04:02:22.490329Z",
          "shell.execute_reply.started": "2024-02-19T04:01:19.814825Z",
          "shell.execute_reply": "2024-02-19T04:02:22.489091Z"
        },
        "_kg_hide-output": true,
        "_kg_hide-input": false,
        "trusted": true,
        "id": "Xh33CnIygfTR",
        "colab": {
          "base_uri": "https://localhost:8080/"
        },
        "outputId": "1ef01c0a-e1c6-49fe-ca3d-2375ba3f66a6"
      },
      "execution_count": 19,
      "outputs": [
        {
          "output_type": "stream",
          "name": "stdout",
          "text": [
            "Requirement already satisfied: nlp_id in /usr/local/lib/python3.10/dist-packages (0.1.18.0)\n",
            "Collecting huggingface-hub==0.23.4 (from nlp_id)\n",
            "  Using cached huggingface_hub-0.23.4-py3-none-any.whl.metadata (12 kB)\n",
            "Requirement already satisfied: nltk==3.9.1 in /usr/local/lib/python3.10/dist-packages (from nlp_id) (3.9.1)\n",
            "Requirement already satisfied: numpy==1.26.4 in /usr/local/lib/python3.10/dist-packages (from nlp_id) (1.26.4)\n",
            "Requirement already satisfied: scikit-learn==1.5.1 in /usr/local/lib/python3.10/dist-packages (from nlp_id) (1.5.1)\n",
            "Requirement already satisfied: scipy==1.13.1 in /usr/local/lib/python3.10/dist-packages (from nlp_id) (1.13.1)\n",
            "Requirement already satisfied: wget==3.2 in /usr/local/lib/python3.10/dist-packages (from nlp_id) (3.2)\n",
            "Requirement already satisfied: filelock in /usr/local/lib/python3.10/dist-packages (from huggingface-hub==0.23.4->nlp_id) (3.16.1)\n",
            "Requirement already satisfied: fsspec>=2023.5.0 in /usr/local/lib/python3.10/dist-packages (from huggingface-hub==0.23.4->nlp_id) (2024.9.0)\n",
            "Requirement already satisfied: packaging>=20.9 in /usr/local/lib/python3.10/dist-packages (from huggingface-hub==0.23.4->nlp_id) (24.2)\n",
            "Requirement already satisfied: pyyaml>=5.1 in /usr/local/lib/python3.10/dist-packages (from huggingface-hub==0.23.4->nlp_id) (6.0.2)\n",
            "Requirement already satisfied: requests in /usr/local/lib/python3.10/dist-packages (from huggingface-hub==0.23.4->nlp_id) (2.32.3)\n",
            "Requirement already satisfied: tqdm>=4.42.1 in /usr/local/lib/python3.10/dist-packages (from huggingface-hub==0.23.4->nlp_id) (4.67.1)\n",
            "Requirement already satisfied: typing-extensions>=3.7.4.3 in /usr/local/lib/python3.10/dist-packages (from huggingface-hub==0.23.4->nlp_id) (4.12.2)\n",
            "Requirement already satisfied: click in /usr/local/lib/python3.10/dist-packages (from nltk==3.9.1->nlp_id) (8.1.7)\n",
            "Requirement already satisfied: joblib in /usr/local/lib/python3.10/dist-packages (from nltk==3.9.1->nlp_id) (1.4.2)\n",
            "Requirement already satisfied: regex>=2021.8.3 in /usr/local/lib/python3.10/dist-packages (from nltk==3.9.1->nlp_id) (2024.11.6)\n",
            "Requirement already satisfied: threadpoolctl>=3.1.0 in /usr/local/lib/python3.10/dist-packages (from scikit-learn==1.5.1->nlp_id) (3.5.0)\n",
            "Requirement already satisfied: charset-normalizer<4,>=2 in /usr/local/lib/python3.10/dist-packages (from requests->huggingface-hub==0.23.4->nlp_id) (3.4.0)\n",
            "Requirement already satisfied: idna<4,>=2.5 in /usr/local/lib/python3.10/dist-packages (from requests->huggingface-hub==0.23.4->nlp_id) (3.10)\n",
            "Requirement already satisfied: urllib3<3,>=1.21.1 in /usr/local/lib/python3.10/dist-packages (from requests->huggingface-hub==0.23.4->nlp_id) (2.2.3)\n",
            "Requirement already satisfied: certifi>=2017.4.17 in /usr/local/lib/python3.10/dist-packages (from requests->huggingface-hub==0.23.4->nlp_id) (2024.12.14)\n",
            "Using cached huggingface_hub-0.23.4-py3-none-any.whl (402 kB)\n",
            "Installing collected packages: huggingface-hub\n",
            "  Attempting uninstall: huggingface-hub\n",
            "    Found existing installation: huggingface-hub 0.27.0\n",
            "    Uninstalling huggingface-hub-0.27.0:\n",
            "      Successfully uninstalled huggingface-hub-0.27.0\n",
            "\u001b[31mERROR: pip's dependency resolver does not currently take into account all the packages that are installed. This behaviour is the source of the following dependency conflicts.\n",
            "peft 0.14.0 requires huggingface-hub>=0.25.0, but you have huggingface-hub 0.23.4 which is incompatible.\n",
            "transformers 4.47.1 requires huggingface-hub<1.0,>=0.24.0, but you have huggingface-hub 0.23.4 which is incompatible.\u001b[0m\u001b[31m\n",
            "\u001b[0mSuccessfully installed huggingface-hub-0.23.4\n"
          ]
        }
      ]
    },
    {
      "cell_type": "code",
      "source": [
        "pip install indoNLP"
      ],
      "metadata": {
        "execution": {
          "iopub.status.busy": "2024-02-19T04:04:26.429688Z",
          "iopub.execute_input": "2024-02-19T04:04:26.430088Z",
          "iopub.status.idle": "2024-02-19T04:04:38.511047Z",
          "shell.execute_reply.started": "2024-02-19T04:04:26.430056Z",
          "shell.execute_reply": "2024-02-19T04:04:38.50977Z"
        },
        "_kg_hide-output": true,
        "trusted": true,
        "id": "HFjj5cC2gfTR",
        "colab": {
          "base_uri": "https://localhost:8080/"
        },
        "outputId": "26494f50-08be-4650-ce4d-2c9992d028c3"
      },
      "execution_count": 20,
      "outputs": [
        {
          "output_type": "stream",
          "name": "stdout",
          "text": [
            "Requirement already satisfied: indoNLP in /usr/local/lib/python3.10/dist-packages (0.3.4)\n"
          ]
        }
      ]
    },
    {
      "cell_type": "code",
      "source": [
        "import nltk\n",
        "nltk.download\n",
        "from nlp_id.lemmatizer import Lemmatizer\n",
        "from indoNLP.preprocessing import replace_slang, replace_word_elongation"
      ],
      "metadata": {
        "execution": {
          "iopub.status.busy": "2024-02-19T04:09:28.185848Z",
          "iopub.execute_input": "2024-02-19T04:09:28.186854Z",
          "iopub.status.idle": "2024-02-19T04:09:28.191733Z",
          "shell.execute_reply.started": "2024-02-19T04:09:28.186816Z",
          "shell.execute_reply": "2024-02-19T04:09:28.190482Z"
        },
        "trusted": true,
        "id": "pHChKKQzgfTS"
      },
      "execution_count": 21,
      "outputs": []
    },
    {
      "cell_type": "code",
      "source": [
        "lemmatizer = Lemmatizer()\n",
        "df['text_processed'] = df['text'].apply(lemmatizer.lemmatize)"
      ],
      "metadata": {
        "execution": {
          "iopub.status.busy": "2024-02-19T04:04:56.918927Z",
          "iopub.execute_input": "2024-02-19T04:04:56.919322Z",
          "iopub.status.idle": "2024-02-19T04:04:58.653652Z",
          "shell.execute_reply.started": "2024-02-19T04:04:56.919294Z",
          "shell.execute_reply": "2024-02-19T04:04:58.652592Z"
        },
        "trusted": true,
        "id": "hXhHqe6XgfTS"
      },
      "execution_count": 22,
      "outputs": []
    },
    {
      "cell_type": "code",
      "source": [
        "# example\n",
        "lemmatizer.lemmatize(\"menyusup lalu mengendap menyerupai bayangan\")"
      ],
      "metadata": {
        "execution": {
          "iopub.status.busy": "2024-02-19T04:05:01.307381Z",
          "iopub.execute_input": "2024-02-19T04:05:01.308093Z",
          "iopub.status.idle": "2024-02-19T04:05:01.315283Z",
          "shell.execute_reply.started": "2024-02-19T04:05:01.308051Z",
          "shell.execute_reply": "2024-02-19T04:05:01.314301Z"
        },
        "trusted": true,
        "id": "CDGzosg7gfTS",
        "colab": {
          "base_uri": "https://localhost:8080/",
          "height": 35
        },
        "outputId": "26068269-e9ce-4bdb-b827-a02149be4896"
      },
      "execution_count": 23,
      "outputs": [
        {
          "output_type": "execute_result",
          "data": {
            "text/plain": [
              "'susup lalu endap rupa bayang'"
            ],
            "application/vnd.google.colaboratory.intrinsic+json": {
              "type": "string"
            }
          },
          "metadata": {},
          "execution_count": 23
        }
      ]
    },
    {
      "cell_type": "code",
      "source": [
        "df['text_processed'] = df['text_processed'].apply(replace_slang)"
      ],
      "metadata": {
        "execution": {
          "iopub.status.busy": "2024-02-19T04:05:04.177459Z",
          "iopub.execute_input": "2024-02-19T04:05:04.17784Z",
          "iopub.status.idle": "2024-02-19T04:05:50.041372Z",
          "shell.execute_reply.started": "2024-02-19T04:05:04.177811Z",
          "shell.execute_reply": "2024-02-19T04:05:50.039899Z"
        },
        "trusted": true,
        "id": "t-0qV1QCgfTS"
      },
      "execution_count": 24,
      "outputs": []
    },
    {
      "cell_type": "code",
      "source": [
        "# example\n",
        "replace_slang(\"emg siapa yg nanya?\")"
      ],
      "metadata": {
        "execution": {
          "iopub.status.busy": "2024-02-19T04:08:09.610707Z",
          "iopub.execute_input": "2024-02-19T04:08:09.611125Z",
          "iopub.status.idle": "2024-02-19T04:08:09.617243Z",
          "shell.execute_reply.started": "2024-02-19T04:08:09.611092Z",
          "shell.execute_reply": "2024-02-19T04:08:09.616525Z"
        },
        "trusted": true,
        "id": "1KhZzegugfTS",
        "colab": {
          "base_uri": "https://localhost:8080/",
          "height": 35
        },
        "outputId": "8617e60c-c35c-4c73-969d-ab8eba015cce"
      },
      "execution_count": 25,
      "outputs": [
        {
          "output_type": "execute_result",
          "data": {
            "text/plain": [
              "'memang siapa yang bertanya?'"
            ],
            "application/vnd.google.colaboratory.intrinsic+json": {
              "type": "string"
            }
          },
          "metadata": {},
          "execution_count": 25
        }
      ]
    },
    {
      "cell_type": "code",
      "source": [
        "df['text_processed'] = df['text_processed'].apply(replace_word_elongation)"
      ],
      "metadata": {
        "execution": {
          "iopub.status.busy": "2024-02-19T04:05:50.043272Z",
          "iopub.execute_input": "2024-02-19T04:05:50.043603Z",
          "iopub.status.idle": "2024-02-19T04:05:50.339992Z",
          "shell.execute_reply.started": "2024-02-19T04:05:50.043576Z",
          "shell.execute_reply": "2024-02-19T04:05:50.338933Z"
        },
        "trusted": true,
        "id": "6R0WXPSlgfTS"
      },
      "execution_count": 26,
      "outputs": []
    },
    {
      "cell_type": "code",
      "source": [
        "# example\n",
        "replace_word_elongation(\"kenapaaa?\")"
      ],
      "metadata": {
        "execution": {
          "iopub.status.busy": "2024-02-19T04:05:50.341246Z",
          "iopub.execute_input": "2024-02-19T04:05:50.341555Z",
          "iopub.status.idle": "2024-02-19T04:05:50.348226Z",
          "shell.execute_reply.started": "2024-02-19T04:05:50.34153Z",
          "shell.execute_reply": "2024-02-19T04:05:50.347061Z"
        },
        "trusted": true,
        "id": "BlMWRanEgfTS",
        "colab": {
          "base_uri": "https://localhost:8080/",
          "height": 35
        },
        "outputId": "4bf6f6b3-2e40-4f5c-d621-6b9328141022"
      },
      "execution_count": 27,
      "outputs": [
        {
          "output_type": "execute_result",
          "data": {
            "text/plain": [
              "'kenapa?'"
            ],
            "application/vnd.google.colaboratory.intrinsic+json": {
              "type": "string"
            }
          },
          "metadata": {},
          "execution_count": 27
        }
      ]
    },
    {
      "cell_type": "code",
      "source": [
        "import nltk\n",
        "nltk.download('stopwords')\n",
        "\n",
        "# Download the punkt_tab data\n",
        "nltk.download\n",
        "\n",
        "def tokenize_text(text):\n",
        "    # removing extra whitespaces \"   halo  \" into \"halo\"\n",
        "    text = text.strip()\n",
        "    tokens = nltk.word_tokenize(text)\n",
        "    # removing any number and symbol tokens\n",
        "    tokens = [token for token in tokens if token.isalpha()]\n",
        "    return tokens\n",
        "\n",
        "def remove_stopword(tokens):\n",
        "    # removing common words such as \"saya\"\n",
        "    stopwords = nltk.corpus.stopwords.words('indonesian')\n",
        "    tokens = [token for token in tokens if token not in stopwords]\n",
        "    return tokens\n",
        "\n",
        "df['tokens'] = df['text_processed'].apply(tokenize_text)\n",
        "df['tokens_without_stopword'] = df['tokens'].apply(remove_stopword)"
      ],
      "metadata": {
        "execution": {
          "iopub.status.busy": "2024-02-19T04:09:41.533078Z",
          "iopub.execute_input": "2024-02-19T04:09:41.533875Z",
          "iopub.status.idle": "2024-02-19T04:09:57.495589Z",
          "shell.execute_reply.started": "2024-02-19T04:09:41.533834Z",
          "shell.execute_reply": "2024-02-19T04:09:57.494486Z"
        },
        "trusted": true,
        "id": "wU81jRz0gfTS",
        "colab": {
          "base_uri": "https://localhost:8080/"
        },
        "outputId": "bdef3112-bc6d-4120-b22b-20cafe537feb"
      },
      "execution_count": 28,
      "outputs": [
        {
          "output_type": "stream",
          "name": "stderr",
          "text": [
            "[nltk_data] Downloading package stopwords to /root/nltk_data...\n",
            "[nltk_data]   Package stopwords is already up-to-date!\n"
          ]
        }
      ]
    },
    {
      "cell_type": "code",
      "source": [
        "df['text_processed'] = df['tokens_without_stopword'].apply(\" \".join)"
      ],
      "metadata": {
        "execution": {
          "iopub.status.busy": "2024-02-19T04:10:03.679468Z",
          "iopub.execute_input": "2024-02-19T04:10:03.679833Z",
          "iopub.status.idle": "2024-02-19T04:10:03.702497Z",
          "shell.execute_reply.started": "2024-02-19T04:10:03.679807Z",
          "shell.execute_reply": "2024-02-19T04:10:03.70135Z"
        },
        "trusted": true,
        "id": "0ZJOxLCLgfTS"
      },
      "execution_count": 29,
      "outputs": []
    },
    {
      "cell_type": "code",
      "source": [
        "df.head()"
      ],
      "metadata": {
        "scrolled": true,
        "execution": {
          "iopub.status.busy": "2024-02-19T04:10:07.110248Z",
          "iopub.execute_input": "2024-02-19T04:10:07.110747Z",
          "iopub.status.idle": "2024-02-19T04:10:07.130055Z",
          "shell.execute_reply.started": "2024-02-19T04:10:07.110705Z",
          "shell.execute_reply": "2024-02-19T04:10:07.129115Z"
        },
        "trusted": true,
        "id": "sWZS4M8EgfTS",
        "colab": {
          "base_uri": "https://localhost:8080/",
          "height": 539
        },
        "outputId": "3b8e8adf-05bc-49a1-9c7b-3847ef8f633c"
      },
      "execution_count": 30,
      "outputs": [
        {
          "output_type": "execute_result",
          "data": {
            "text/plain": [
              "                                                text  score  \\\n",
              "0                            akun gopay saya di blok      1   \n",
              "2  Kenapa sih dari kemarin sy buka aplikasi gojek...      4   \n",
              "3  Baru download gojek dan hape baru trus ditop u...      1   \n",
              "4                                             Mantap      5   \n",
              "5                                              Bagus      4   \n",
              "\n",
              "                  date app_version    target  target_binary app_version_cut  \\\n",
              "0  2022-01-21 10:52:12       4.9.3  negative              0             4.9   \n",
              "2  2021-11-29 22:58:12       4.9.3  positive              1             4.9   \n",
              "3  2022-09-03 15:21:17       4.9.3  negative              0             4.9   \n",
              "4  2022-01-15 10:05:27       4.9.3  positive              1             4.9   \n",
              "5  2022-02-01 05:50:40       4.9.3  positive              1             4.9   \n",
              "\n",
              "                                      text_processed  \\\n",
              "0                                    akun gopay blok   \n",
              "2  sih kemarin buka aplikasi gojek kasih bintang ...   \n",
              "3  download gojek hape top lu gopay transaksi dia...   \n",
              "4                                             mantap   \n",
              "5                                              bagus   \n",
              "\n",
              "                                              tokens  \\\n",
              "0                      [akun, gopay, saya, di, blok]   \n",
              "2  [kenapa, sih, dari, kemarin, saya, buka, aplik...   \n",
              "3  [baru, download, gojek, dan, hape, baru, terus...   \n",
              "4                                           [mantap]   \n",
              "5                                            [bagus]   \n",
              "\n",
              "                             tokens_without_stopword  \n",
              "0                                [akun, gopay, blok]  \n",
              "2  [sih, kemarin, buka, aplikasi, gojek, kasih, b...  \n",
              "3  [download, gojek, hape, top, lu, gopay, transa...  \n",
              "4                                           [mantap]  \n",
              "5                                            [bagus]  "
            ],
            "text/html": [
              "\n",
              "  <div id=\"df-b2779481-672b-4f36-a7f4-54c9101cab83\" class=\"colab-df-container\">\n",
              "    <div>\n",
              "<style scoped>\n",
              "    .dataframe tbody tr th:only-of-type {\n",
              "        vertical-align: middle;\n",
              "    }\n",
              "\n",
              "    .dataframe tbody tr th {\n",
              "        vertical-align: top;\n",
              "    }\n",
              "\n",
              "    .dataframe thead th {\n",
              "        text-align: right;\n",
              "    }\n",
              "</style>\n",
              "<table border=\"1\" class=\"dataframe\">\n",
              "  <thead>\n",
              "    <tr style=\"text-align: right;\">\n",
              "      <th></th>\n",
              "      <th>text</th>\n",
              "      <th>score</th>\n",
              "      <th>date</th>\n",
              "      <th>app_version</th>\n",
              "      <th>target</th>\n",
              "      <th>target_binary</th>\n",
              "      <th>app_version_cut</th>\n",
              "      <th>text_processed</th>\n",
              "      <th>tokens</th>\n",
              "      <th>tokens_without_stopword</th>\n",
              "    </tr>\n",
              "  </thead>\n",
              "  <tbody>\n",
              "    <tr>\n",
              "      <th>0</th>\n",
              "      <td>akun gopay saya di blok</td>\n",
              "      <td>1</td>\n",
              "      <td>2022-01-21 10:52:12</td>\n",
              "      <td>4.9.3</td>\n",
              "      <td>negative</td>\n",
              "      <td>0</td>\n",
              "      <td>4.9</td>\n",
              "      <td>akun gopay blok</td>\n",
              "      <td>[akun, gopay, saya, di, blok]</td>\n",
              "      <td>[akun, gopay, blok]</td>\n",
              "    </tr>\n",
              "    <tr>\n",
              "      <th>2</th>\n",
              "      <td>Kenapa sih dari kemarin sy buka aplikasi gojek...</td>\n",
              "      <td>4</td>\n",
              "      <td>2021-11-29 22:58:12</td>\n",
              "      <td>4.9.3</td>\n",
              "      <td>positive</td>\n",
              "      <td>1</td>\n",
              "      <td>4.9</td>\n",
              "      <td>sih kemarin buka aplikasi gojek kasih bintang ...</td>\n",
              "      <td>[kenapa, sih, dari, kemarin, saya, buka, aplik...</td>\n",
              "      <td>[sih, kemarin, buka, aplikasi, gojek, kasih, b...</td>\n",
              "    </tr>\n",
              "    <tr>\n",
              "      <th>3</th>\n",
              "      <td>Baru download gojek dan hape baru trus ditop u...</td>\n",
              "      <td>1</td>\n",
              "      <td>2022-09-03 15:21:17</td>\n",
              "      <td>4.9.3</td>\n",
              "      <td>negative</td>\n",
              "      <td>0</td>\n",
              "      <td>4.9</td>\n",
              "      <td>download gojek hape top lu gopay transaksi dia...</td>\n",
              "      <td>[baru, download, gojek, dan, hape, baru, terus...</td>\n",
              "      <td>[download, gojek, hape, top, lu, gopay, transa...</td>\n",
              "    </tr>\n",
              "    <tr>\n",
              "      <th>4</th>\n",
              "      <td>Mantap</td>\n",
              "      <td>5</td>\n",
              "      <td>2022-01-15 10:05:27</td>\n",
              "      <td>4.9.3</td>\n",
              "      <td>positive</td>\n",
              "      <td>1</td>\n",
              "      <td>4.9</td>\n",
              "      <td>mantap</td>\n",
              "      <td>[mantap]</td>\n",
              "      <td>[mantap]</td>\n",
              "    </tr>\n",
              "    <tr>\n",
              "      <th>5</th>\n",
              "      <td>Bagus</td>\n",
              "      <td>4</td>\n",
              "      <td>2022-02-01 05:50:40</td>\n",
              "      <td>4.9.3</td>\n",
              "      <td>positive</td>\n",
              "      <td>1</td>\n",
              "      <td>4.9</td>\n",
              "      <td>bagus</td>\n",
              "      <td>[bagus]</td>\n",
              "      <td>[bagus]</td>\n",
              "    </tr>\n",
              "  </tbody>\n",
              "</table>\n",
              "</div>\n",
              "    <div class=\"colab-df-buttons\">\n",
              "\n",
              "  <div class=\"colab-df-container\">\n",
              "    <button class=\"colab-df-convert\" onclick=\"convertToInteractive('df-b2779481-672b-4f36-a7f4-54c9101cab83')\"\n",
              "            title=\"Convert this dataframe to an interactive table.\"\n",
              "            style=\"display:none;\">\n",
              "\n",
              "  <svg xmlns=\"http://www.w3.org/2000/svg\" height=\"24px\" viewBox=\"0 -960 960 960\">\n",
              "    <path d=\"M120-120v-720h720v720H120Zm60-500h600v-160H180v160Zm220 220h160v-160H400v160Zm0 220h160v-160H400v160ZM180-400h160v-160H180v160Zm440 0h160v-160H620v160ZM180-180h160v-160H180v160Zm440 0h160v-160H620v160Z\"/>\n",
              "  </svg>\n",
              "    </button>\n",
              "\n",
              "  <style>\n",
              "    .colab-df-container {\n",
              "      display:flex;\n",
              "      gap: 12px;\n",
              "    }\n",
              "\n",
              "    .colab-df-convert {\n",
              "      background-color: #E8F0FE;\n",
              "      border: none;\n",
              "      border-radius: 50%;\n",
              "      cursor: pointer;\n",
              "      display: none;\n",
              "      fill: #1967D2;\n",
              "      height: 32px;\n",
              "      padding: 0 0 0 0;\n",
              "      width: 32px;\n",
              "    }\n",
              "\n",
              "    .colab-df-convert:hover {\n",
              "      background-color: #E2EBFA;\n",
              "      box-shadow: 0px 1px 2px rgba(60, 64, 67, 0.3), 0px 1px 3px 1px rgba(60, 64, 67, 0.15);\n",
              "      fill: #174EA6;\n",
              "    }\n",
              "\n",
              "    .colab-df-buttons div {\n",
              "      margin-bottom: 4px;\n",
              "    }\n",
              "\n",
              "    [theme=dark] .colab-df-convert {\n",
              "      background-color: #3B4455;\n",
              "      fill: #D2E3FC;\n",
              "    }\n",
              "\n",
              "    [theme=dark] .colab-df-convert:hover {\n",
              "      background-color: #434B5C;\n",
              "      box-shadow: 0px 1px 3px 1px rgba(0, 0, 0, 0.15);\n",
              "      filter: drop-shadow(0px 1px 2px rgba(0, 0, 0, 0.3));\n",
              "      fill: #FFFFFF;\n",
              "    }\n",
              "  </style>\n",
              "\n",
              "    <script>\n",
              "      const buttonEl =\n",
              "        document.querySelector('#df-b2779481-672b-4f36-a7f4-54c9101cab83 button.colab-df-convert');\n",
              "      buttonEl.style.display =\n",
              "        google.colab.kernel.accessAllowed ? 'block' : 'none';\n",
              "\n",
              "      async function convertToInteractive(key) {\n",
              "        const element = document.querySelector('#df-b2779481-672b-4f36-a7f4-54c9101cab83');\n",
              "        const dataTable =\n",
              "          await google.colab.kernel.invokeFunction('convertToInteractive',\n",
              "                                                    [key], {});\n",
              "        if (!dataTable) return;\n",
              "\n",
              "        const docLinkHtml = 'Like what you see? Visit the ' +\n",
              "          '<a target=\"_blank\" href=https://colab.research.google.com/notebooks/data_table.ipynb>data table notebook</a>'\n",
              "          + ' to learn more about interactive tables.';\n",
              "        element.innerHTML = '';\n",
              "        dataTable['output_type'] = 'display_data';\n",
              "        await google.colab.output.renderOutput(dataTable, element);\n",
              "        const docLink = document.createElement('div');\n",
              "        docLink.innerHTML = docLinkHtml;\n",
              "        element.appendChild(docLink);\n",
              "      }\n",
              "    </script>\n",
              "  </div>\n",
              "\n",
              "\n",
              "<div id=\"df-f2b86f48-701f-4bf0-808f-20d474ff5d27\">\n",
              "  <button class=\"colab-df-quickchart\" onclick=\"quickchart('df-f2b86f48-701f-4bf0-808f-20d474ff5d27')\"\n",
              "            title=\"Suggest charts\"\n",
              "            style=\"display:none;\">\n",
              "\n",
              "<svg xmlns=\"http://www.w3.org/2000/svg\" height=\"24px\"viewBox=\"0 0 24 24\"\n",
              "     width=\"24px\">\n",
              "    <g>\n",
              "        <path d=\"M19 3H5c-1.1 0-2 .9-2 2v14c0 1.1.9 2 2 2h14c1.1 0 2-.9 2-2V5c0-1.1-.9-2-2-2zM9 17H7v-7h2v7zm4 0h-2V7h2v10zm4 0h-2v-4h2v4z\"/>\n",
              "    </g>\n",
              "</svg>\n",
              "  </button>\n",
              "\n",
              "<style>\n",
              "  .colab-df-quickchart {\n",
              "      --bg-color: #E8F0FE;\n",
              "      --fill-color: #1967D2;\n",
              "      --hover-bg-color: #E2EBFA;\n",
              "      --hover-fill-color: #174EA6;\n",
              "      --disabled-fill-color: #AAA;\n",
              "      --disabled-bg-color: #DDD;\n",
              "  }\n",
              "\n",
              "  [theme=dark] .colab-df-quickchart {\n",
              "      --bg-color: #3B4455;\n",
              "      --fill-color: #D2E3FC;\n",
              "      --hover-bg-color: #434B5C;\n",
              "      --hover-fill-color: #FFFFFF;\n",
              "      --disabled-bg-color: #3B4455;\n",
              "      --disabled-fill-color: #666;\n",
              "  }\n",
              "\n",
              "  .colab-df-quickchart {\n",
              "    background-color: var(--bg-color);\n",
              "    border: none;\n",
              "    border-radius: 50%;\n",
              "    cursor: pointer;\n",
              "    display: none;\n",
              "    fill: var(--fill-color);\n",
              "    height: 32px;\n",
              "    padding: 0;\n",
              "    width: 32px;\n",
              "  }\n",
              "\n",
              "  .colab-df-quickchart:hover {\n",
              "    background-color: var(--hover-bg-color);\n",
              "    box-shadow: 0 1px 2px rgba(60, 64, 67, 0.3), 0 1px 3px 1px rgba(60, 64, 67, 0.15);\n",
              "    fill: var(--button-hover-fill-color);\n",
              "  }\n",
              "\n",
              "  .colab-df-quickchart-complete:disabled,\n",
              "  .colab-df-quickchart-complete:disabled:hover {\n",
              "    background-color: var(--disabled-bg-color);\n",
              "    fill: var(--disabled-fill-color);\n",
              "    box-shadow: none;\n",
              "  }\n",
              "\n",
              "  .colab-df-spinner {\n",
              "    border: 2px solid var(--fill-color);\n",
              "    border-color: transparent;\n",
              "    border-bottom-color: var(--fill-color);\n",
              "    animation:\n",
              "      spin 1s steps(1) infinite;\n",
              "  }\n",
              "\n",
              "  @keyframes spin {\n",
              "    0% {\n",
              "      border-color: transparent;\n",
              "      border-bottom-color: var(--fill-color);\n",
              "      border-left-color: var(--fill-color);\n",
              "    }\n",
              "    20% {\n",
              "      border-color: transparent;\n",
              "      border-left-color: var(--fill-color);\n",
              "      border-top-color: var(--fill-color);\n",
              "    }\n",
              "    30% {\n",
              "      border-color: transparent;\n",
              "      border-left-color: var(--fill-color);\n",
              "      border-top-color: var(--fill-color);\n",
              "      border-right-color: var(--fill-color);\n",
              "    }\n",
              "    40% {\n",
              "      border-color: transparent;\n",
              "      border-right-color: var(--fill-color);\n",
              "      border-top-color: var(--fill-color);\n",
              "    }\n",
              "    60% {\n",
              "      border-color: transparent;\n",
              "      border-right-color: var(--fill-color);\n",
              "    }\n",
              "    80% {\n",
              "      border-color: transparent;\n",
              "      border-right-color: var(--fill-color);\n",
              "      border-bottom-color: var(--fill-color);\n",
              "    }\n",
              "    90% {\n",
              "      border-color: transparent;\n",
              "      border-bottom-color: var(--fill-color);\n",
              "    }\n",
              "  }\n",
              "</style>\n",
              "\n",
              "  <script>\n",
              "    async function quickchart(key) {\n",
              "      const quickchartButtonEl =\n",
              "        document.querySelector('#' + key + ' button');\n",
              "      quickchartButtonEl.disabled = true;  // To prevent multiple clicks.\n",
              "      quickchartButtonEl.classList.add('colab-df-spinner');\n",
              "      try {\n",
              "        const charts = await google.colab.kernel.invokeFunction(\n",
              "            'suggestCharts', [key], {});\n",
              "      } catch (error) {\n",
              "        console.error('Error during call to suggestCharts:', error);\n",
              "      }\n",
              "      quickchartButtonEl.classList.remove('colab-df-spinner');\n",
              "      quickchartButtonEl.classList.add('colab-df-quickchart-complete');\n",
              "    }\n",
              "    (() => {\n",
              "      let quickchartButtonEl =\n",
              "        document.querySelector('#df-f2b86f48-701f-4bf0-808f-20d474ff5d27 button');\n",
              "      quickchartButtonEl.style.display =\n",
              "        google.colab.kernel.accessAllowed ? 'block' : 'none';\n",
              "    })();\n",
              "  </script>\n",
              "</div>\n",
              "\n",
              "    </div>\n",
              "  </div>\n"
            ],
            "application/vnd.google.colaboratory.intrinsic+json": {
              "type": "dataframe",
              "variable_name": "df",
              "summary": "{\n  \"name\": \"df\",\n  \"rows\": 32969,\n  \"fields\": [\n    {\n      \"column\": \"text\",\n      \"properties\": {\n        \"dtype\": \"string\",\n        \"num_unique_values\": 23858,\n        \"samples\": [\n          \"Kecewa sistem paylatwr seekarang\",\n          \"Terpercata\",\n          \"Mantap Aplikasinya\"\n        ],\n        \"semantic_type\": \"\",\n        \"description\": \"\"\n      }\n    },\n    {\n      \"column\": \"score\",\n      \"properties\": {\n        \"dtype\": \"number\",\n        \"std\": 1,\n        \"min\": 1,\n        \"max\": 5,\n        \"num_unique_values\": 4,\n        \"samples\": [\n          4,\n          2,\n          1\n        ],\n        \"semantic_type\": \"\",\n        \"description\": \"\"\n      }\n    },\n    {\n      \"column\": \"date\",\n      \"properties\": {\n        \"dtype\": \"object\",\n        \"num_unique_values\": 32919,\n        \"samples\": [\n          \"2023-12-23 22:26:47\",\n          \"2023-09-17 09:47:30\",\n          \"2023-12-21 05:02:37\"\n        ],\n        \"semantic_type\": \"\",\n        \"description\": \"\"\n      }\n    },\n    {\n      \"column\": \"app_version\",\n      \"properties\": {\n        \"dtype\": \"category\",\n        \"num_unique_values\": 31,\n        \"samples\": [\n          \"4.71.3\",\n          \"4.78.1\",\n          \"4.74.2\"\n        ],\n        \"semantic_type\": \"\",\n        \"description\": \"\"\n      }\n    },\n    {\n      \"column\": \"target\",\n      \"properties\": {\n        \"dtype\": \"category\",\n        \"num_unique_values\": 2,\n        \"samples\": [\n          \"positive\",\n          \"negative\"\n        ],\n        \"semantic_type\": \"\",\n        \"description\": \"\"\n      }\n    },\n    {\n      \"column\": \"target_binary\",\n      \"properties\": {\n        \"dtype\": \"number\",\n        \"std\": 0,\n        \"min\": 0,\n        \"max\": 1,\n        \"num_unique_values\": 2,\n        \"samples\": [\n          1,\n          0\n        ],\n        \"semantic_type\": \"\",\n        \"description\": \"\"\n      }\n    },\n    {\n      \"column\": \"app_version_cut\",\n      \"properties\": {\n        \"dtype\": \"category\",\n        \"num_unique_values\": 3,\n        \"samples\": [\n          \"4.9\",\n          \"4.8\"\n        ],\n        \"semantic_type\": \"\",\n        \"description\": \"\"\n      }\n    },\n    {\n      \"column\": \"text_processed\",\n      \"properties\": {\n        \"dtype\": \"string\",\n        \"num_unique_values\": 20716,\n        \"samples\": [\n          \"pelayananok\",\n          \"gopaylater lambat denda gede banget parah\"\n        ],\n        \"semantic_type\": \"\",\n        \"description\": \"\"\n      }\n    },\n    {\n      \"column\": \"tokens\",\n      \"properties\": {\n        \"dtype\": \"object\",\n        \"semantic_type\": \"\",\n        \"description\": \"\"\n      }\n    },\n    {\n      \"column\": \"tokens_without_stopword\",\n      \"properties\": {\n        \"dtype\": \"object\",\n        \"semantic_type\": \"\",\n        \"description\": \"\"\n      }\n    }\n  ]\n}"
            }
          },
          "metadata": {},
          "execution_count": 30
        }
      ]
    },
    {
      "cell_type": "markdown",
      "source": [
        "# Machine Learning, Natural Language Processing by counting, Bag of Words (BoW)."
      ],
      "metadata": {
        "id": "cCSE7n09gfTS"
      }
    },
    {
      "cell_type": "code",
      "source": [
        "X = df['text_processed']\n",
        "y = df['target_binary']"
      ],
      "metadata": {
        "execution": {
          "iopub.status.busy": "2024-02-19T04:10:16.462553Z",
          "iopub.execute_input": "2024-02-19T04:10:16.463394Z",
          "iopub.status.idle": "2024-02-19T04:10:16.467944Z",
          "shell.execute_reply.started": "2024-02-19T04:10:16.463357Z",
          "shell.execute_reply": "2024-02-19T04:10:16.467106Z"
        },
        "trusted": true,
        "id": "Mf515p5agfTT"
      },
      "execution_count": 31,
      "outputs": []
    },
    {
      "cell_type": "code",
      "source": [
        "X_train, X_test, y_train, y_test = train_test_split(X, y, test_size=0.33, random_state=42)"
      ],
      "metadata": {
        "execution": {
          "iopub.status.busy": "2024-02-19T04:10:19.823417Z",
          "iopub.execute_input": "2024-02-19T04:10:19.823809Z",
          "iopub.status.idle": "2024-02-19T04:10:19.834919Z",
          "shell.execute_reply.started": "2024-02-19T04:10:19.823778Z",
          "shell.execute_reply": "2024-02-19T04:10:19.834038Z"
        },
        "trusted": true,
        "id": "nuhaCvQvgfTT"
      },
      "execution_count": 32,
      "outputs": []
    },
    {
      "cell_type": "code",
      "source": [
        "# Transforming words into vector, only keep 3000 most common words\n",
        "vectorizer = TfidfVectorizer(max_features=3000)"
      ],
      "metadata": {
        "execution": {
          "iopub.status.busy": "2024-02-19T04:10:21.905062Z",
          "iopub.execute_input": "2024-02-19T04:10:21.905763Z",
          "iopub.status.idle": "2024-02-19T04:10:21.910502Z",
          "shell.execute_reply.started": "2024-02-19T04:10:21.905732Z",
          "shell.execute_reply": "2024-02-19T04:10:21.909276Z"
        },
        "trusted": true,
        "id": "FVvlFlJugfTW"
      },
      "execution_count": 33,
      "outputs": []
    },
    {
      "cell_type": "code",
      "source": [
        "X_train = vectorizer.fit_transform(X_train)"
      ],
      "metadata": {
        "execution": {
          "iopub.status.busy": "2024-02-19T04:10:24.000601Z",
          "iopub.execute_input": "2024-02-19T04:10:24.000992Z",
          "iopub.status.idle": "2024-02-19T04:10:24.290199Z",
          "shell.execute_reply.started": "2024-02-19T04:10:24.00095Z",
          "shell.execute_reply": "2024-02-19T04:10:24.288983Z"
        },
        "trusted": true,
        "id": "ijwmtW40gfTW"
      },
      "execution_count": 34,
      "outputs": []
    },
    {
      "cell_type": "code",
      "source": [
        "X_test = vectorizer.transform(X_test)"
      ],
      "metadata": {
        "execution": {
          "iopub.status.busy": "2024-02-19T04:10:27.352171Z",
          "iopub.execute_input": "2024-02-19T04:10:27.352532Z",
          "iopub.status.idle": "2024-02-19T04:10:27.465894Z",
          "shell.execute_reply.started": "2024-02-19T04:10:27.352505Z",
          "shell.execute_reply": "2024-02-19T04:10:27.46492Z"
        },
        "trusted": true,
        "id": "5z-wpxuWgfTW"
      },
      "execution_count": 35,
      "outputs": []
    },
    {
      "cell_type": "code",
      "source": [
        "X_test"
      ],
      "metadata": {
        "execution": {
          "iopub.status.busy": "2024-02-19T04:10:28.9856Z",
          "iopub.execute_input": "2024-02-19T04:10:28.986079Z",
          "iopub.status.idle": "2024-02-19T04:10:28.996501Z",
          "shell.execute_reply.started": "2024-02-19T04:10:28.986037Z",
          "shell.execute_reply": "2024-02-19T04:10:28.995319Z"
        },
        "trusted": true,
        "id": "E9g18SmNgfTW",
        "colab": {
          "base_uri": "https://localhost:8080/"
        },
        "outputId": "fcc80c8c-6fc5-4213-adc5-1993c52c3e70"
      },
      "execution_count": 36,
      "outputs": [
        {
          "output_type": "execute_result",
          "data": {
            "text/plain": [
              "<10880x3000 sparse matrix of type '<class 'numpy.float64'>'\n",
              "\twith 47989 stored elements in Compressed Sparse Row format>"
            ]
          },
          "metadata": {},
          "execution_count": 36
        }
      ]
    },
    {
      "cell_type": "markdown",
      "source": [
        "# **Logistic Regression**"
      ],
      "metadata": {
        "id": "fbqNAocSgfTW"
      }
    },
    {
      "cell_type": "code",
      "source": [
        "log = LogisticRegression()\n",
        "log.fit(X_train, y_train)\n",
        "print(\"Model: Logistic Regression\")\n",
        "print(\"Train acc:\", log.score(X_train, y_train))\n",
        "print(\"Test acc:\", log.score(X_test, y_test))"
      ],
      "metadata": {
        "execution": {
          "iopub.status.busy": "2024-02-19T04:10:34.128751Z",
          "iopub.execute_input": "2024-02-19T04:10:34.129159Z",
          "iopub.status.idle": "2024-02-19T04:10:34.309222Z",
          "shell.execute_reply.started": "2024-02-19T04:10:34.129127Z",
          "shell.execute_reply": "2024-02-19T04:10:34.308176Z"
        },
        "trusted": true,
        "id": "m8H01UzfgfTW",
        "colab": {
          "base_uri": "https://localhost:8080/"
        },
        "outputId": "1443c411-7f6d-4a64-9bdb-32ae77eec786"
      },
      "execution_count": 37,
      "outputs": [
        {
          "output_type": "stream",
          "name": "stdout",
          "text": [
            "Model: Logistic Regression\n",
            "Train acc: 0.9177418624654805\n",
            "Test acc: 0.9050551470588235\n"
          ]
        }
      ]
    },
    {
      "cell_type": "markdown",
      "source": [
        "Able to predict sentiments of 90% new data correctly. Even with slightly imbalance class, this result is good enough."
      ],
      "metadata": {
        "id": "xpo0T6rjgfTW"
      }
    },
    {
      "cell_type": "code",
      "source": [
        "pr_train = log.predict_proba(X_train)[:, 1]\n",
        "pr_test = log.predict_proba(X_test)[:, 1]\n",
        "print(\"Train AUC:\", roc_auc_score(y_train, pr_train))\n",
        "print(\"Test AUC:\", roc_auc_score(y_test, pr_test))"
      ],
      "metadata": {
        "execution": {
          "iopub.status.busy": "2024-02-19T04:10:37.178063Z",
          "iopub.execute_input": "2024-02-19T04:10:37.178424Z",
          "iopub.status.idle": "2024-02-19T04:10:37.202811Z",
          "shell.execute_reply.started": "2024-02-19T04:10:37.178398Z",
          "shell.execute_reply": "2024-02-19T04:10:37.201714Z"
        },
        "trusted": true,
        "id": "Mg0JcM43gfTW",
        "colab": {
          "base_uri": "https://localhost:8080/"
        },
        "outputId": "e5dbc41b-2f3a-4c24-fbaf-b4e7371cc95b"
      },
      "execution_count": 38,
      "outputs": [
        {
          "output_type": "stream",
          "name": "stdout",
          "text": [
            "Train AUC: 0.9645175414386122\n",
            "Test AUC: 0.9587032316413272\n"
          ]
        }
      ]
    },
    {
      "cell_type": "markdown",
      "source": [
        "Across all thresholds, on average it able to differentiate the sentiment correctly 95.9%"
      ],
      "metadata": {
        "id": "hi3t4ozFgfTX"
      }
    },
    {
      "cell_type": "code",
      "source": [
        "def report(model):\n",
        "    preds = model.predict(X_test)\n",
        "    print(classification_report(y_test,preds,target_names=['negative','positive']))\n",
        "    # Generate array of values for confusion matrix\n",
        "    cm = confusion_matrix(y_test, preds, labels=model.classes_)\n",
        "\n",
        "    # Plot confusion matrix\n",
        "    disp = ConfusionMatrixDisplay(confusion_matrix=cm,\n",
        "                             display_labels=['negative','positive'])\n",
        "    disp.plot();"
      ],
      "metadata": {
        "execution": {
          "iopub.status.busy": "2024-02-19T04:10:47.680141Z",
          "iopub.execute_input": "2024-02-19T04:10:47.680517Z",
          "iopub.status.idle": "2024-02-19T04:10:47.686533Z",
          "shell.execute_reply.started": "2024-02-19T04:10:47.680489Z",
          "shell.execute_reply": "2024-02-19T04:10:47.68548Z"
        },
        "trusted": true,
        "id": "HBt4lCMbgfTX"
      },
      "execution_count": 39,
      "outputs": []
    },
    {
      "cell_type": "code",
      "source": [
        "report(log)"
      ],
      "metadata": {
        "execution": {
          "iopub.status.busy": "2024-02-19T04:10:51.601892Z",
          "iopub.execute_input": "2024-02-19T04:10:51.60229Z",
          "iopub.status.idle": "2024-02-19T04:10:51.858148Z",
          "shell.execute_reply.started": "2024-02-19T04:10:51.60226Z",
          "shell.execute_reply": "2024-02-19T04:10:51.857256Z"
        },
        "trusted": true,
        "id": "7TIT5Hx1gfTX",
        "colab": {
          "base_uri": "https://localhost:8080/",
          "height": 610
        },
        "outputId": "6b2795f5-bef4-4f40-d9e2-4a13673f9256"
      },
      "execution_count": 40,
      "outputs": [
        {
          "output_type": "stream",
          "name": "stdout",
          "text": [
            "              precision    recall  f1-score   support\n",
            "\n",
            "    negative       0.86      0.86      0.86      3674\n",
            "    positive       0.93      0.93      0.93      7206\n",
            "\n",
            "    accuracy                           0.91     10880\n",
            "   macro avg       0.89      0.89      0.89     10880\n",
            "weighted avg       0.91      0.91      0.91     10880\n",
            "\n"
          ]
        },
        {
          "output_type": "display_data",
          "data": {
            "text/plain": [
              "<Figure size 640x480 with 2 Axes>"
            ],
            "image/png": "[encoded data removed]"
          },
          "metadata": {}
        }
      ]
    },
    {
      "cell_type": "markdown",
      "source": [
        "Negative Prediction Interpretation\n",
        "\n",
        "Precision: Out of all the data points the model classified as negative, how many were actually negative? <br> correctly predicted negative / all predicted negative (TP/TP+FP)<br>\n",
        "3166 / (3166+526)\n",
        "\n",
        "Recall: Out of all the actual negative data points, how many did the model correctly identify as negative?<br>\n",
        "correctly predicted negative / all negative (TP/TP+FN)<br>\n",
        "3166 / (3166+508)"
      ],
      "metadata": {
        "id": "VwG_3Pd1gfTX"
      }
    },
    {
      "cell_type": "markdown",
      "source": [
        "While the negative class on overall has lower score than positive class, the model looks solid enough."
      ],
      "metadata": {
        "id": "RUHAVBjggfTX"
      }
    },
    {
      "cell_type": "code",
      "source": [
        "# weight for each vocabulary\n",
        "log.coef_.shape"
      ],
      "metadata": {
        "execution": {
          "iopub.status.busy": "2024-02-19T04:10:57.799691Z",
          "iopub.execute_input": "2024-02-19T04:10:57.800071Z",
          "iopub.status.idle": "2024-02-19T04:10:57.806123Z",
          "shell.execute_reply.started": "2024-02-19T04:10:57.800035Z",
          "shell.execute_reply": "2024-02-19T04:10:57.804943Z"
        },
        "trusted": true,
        "id": "KC1PUFougfTX",
        "colab": {
          "base_uri": "https://localhost:8080/"
        },
        "outputId": "c221cea0-817e-46f0-fc1b-a32e6a04c710"
      },
      "execution_count": 41,
      "outputs": [
        {
          "output_type": "execute_result",
          "data": {
            "text/plain": [
              "(1, 3000)"
            ]
          },
          "metadata": {},
          "execution_count": 41
        }
      ]
    },
    {
      "cell_type": "code",
      "source": [
        "log.coef_"
      ],
      "metadata": {
        "execution": {
          "iopub.status.busy": "2024-02-19T04:10:59.776608Z",
          "iopub.execute_input": "2024-02-19T04:10:59.776991Z",
          "iopub.status.idle": "2024-02-19T04:10:59.78454Z",
          "shell.execute_reply.started": "2024-02-19T04:10:59.776962Z",
          "shell.execute_reply": "2024-02-19T04:10:59.783058Z"
        },
        "trusted": true,
        "id": "Qylm-bVlgfTX",
        "colab": {
          "base_uri": "https://localhost:8080/"
        },
        "outputId": "7cc7afee-18e5-4953-e79d-cf650b962e25"
      },
      "execution_count": 42,
      "outputs": [
        {
          "output_type": "execute_result",
          "data": {
            "text/plain": [
              "array([[-0.00282694, -0.58637725,  0.69377023, ...,  0.23613285,\n",
              "        -0.73672264, -0.56893223]])"
            ]
          },
          "metadata": {},
          "execution_count": 42
        }
      ]
    },
    {
      "cell_type": "code",
      "source": [
        "sns.histplot(log.coef_[0], bins=30)"
      ],
      "metadata": {
        "execution": {
          "iopub.status.busy": "2024-02-19T04:12:10.174089Z",
          "iopub.execute_input": "2024-02-19T04:12:10.174501Z",
          "iopub.status.idle": "2024-02-19T04:12:10.441729Z",
          "shell.execute_reply.started": "2024-02-19T04:12:10.174469Z",
          "shell.execute_reply": "2024-02-19T04:12:10.440628Z"
        },
        "trusted": true,
        "id": "I7CW480ZgfTX",
        "colab": {
          "base_uri": "https://localhost:8080/",
          "height": 448
        },
        "outputId": "30c5fbf9-f448-466b-c5d1-e91c95996e8c"
      },
      "execution_count": 43,
      "outputs": [
        {
          "output_type": "execute_result",
          "data": {
            "text/plain": [
              "<Axes: ylabel='Count'>"
            ]
          },
          "metadata": {},
          "execution_count": 43
        },
        {
          "output_type": "display_data",
          "data": {
            "text/plain": [
              "<Figure size 640x480 with 1 Axes>"
            ],
            "image/png": "[encoded data removed]"
          },
          "metadata": {}
        }
      ]
    },
    {
      "cell_type": "markdown",
      "source": [
        "Most of the words weight are around 0. The lower the weight is the more it makes the sentence negative and vice versa."
      ],
      "metadata": {
        "id": "fRe9sRppgfTX"
      }
    },
    {
      "cell_type": "code",
      "source": [
        "word_index_map = vectorizer.vocabulary_"
      ],
      "metadata": {
        "execution": {
          "iopub.status.busy": "2024-02-19T04:12:37.309642Z",
          "iopub.execute_input": "2024-02-19T04:12:37.310046Z",
          "iopub.status.idle": "2024-02-19T04:12:37.31551Z",
          "shell.execute_reply.started": "2024-02-19T04:12:37.30999Z",
          "shell.execute_reply": "2024-02-19T04:12:37.314279Z"
        },
        "trusted": true,
        "id": "nx_zT6frgfTY"
      },
      "execution_count": 44,
      "outputs": []
    },
    {
      "cell_type": "code",
      "source": [
        "word_index_map['gopay'] # {'gopay' : 2173}"
      ],
      "metadata": {
        "execution": {
          "iopub.status.busy": "2024-02-19T04:12:46.211879Z",
          "iopub.execute_input": "2024-02-19T04:12:46.212241Z",
          "iopub.status.idle": "2024-02-19T04:12:46.21851Z",
          "shell.execute_reply.started": "2024-02-19T04:12:46.212214Z",
          "shell.execute_reply": "2024-02-19T04:12:46.217558Z"
        },
        "trusted": true,
        "id": "HxDVJlmlgfTY",
        "colab": {
          "base_uri": "https://localhost:8080/"
        },
        "outputId": "3e04afeb-7099-43a5-9e98-f651efc323c3"
      },
      "execution_count": 45,
      "outputs": [
        {
          "output_type": "execute_result",
          "data": {
            "text/plain": [
              "934"
            ]
          },
          "metadata": {},
          "execution_count": 45
        }
      ]
    },
    {
      "cell_type": "code",
      "source": [
        "threshold = 2.5\n",
        "print(\"Most positive words:\")\n",
        "for word, index in word_index_map.items():\n",
        "    weight = log.coef_[0][index]\n",
        "    if weight > threshold:\n",
        "        print(word, weight)"
      ],
      "metadata": {
        "scrolled": true,
        "execution": {
          "iopub.status.busy": "2024-02-19T04:12:49.22723Z",
          "iopub.execute_input": "2024-02-19T04:12:49.227623Z",
          "iopub.status.idle": "2024-02-19T04:12:49.235747Z",
          "shell.execute_reply.started": "2024-02-19T04:12:49.227592Z",
          "shell.execute_reply": "2024-02-19T04:12:49.234672Z"
        },
        "trusted": true,
        "id": "c_YfIMOKgfTY",
        "colab": {
          "base_uri": "https://localhost:8080/"
        },
        "outputId": "ba81b2ed-3cb8-481e-d89a-1dfdec5f6917"
      },
      "execution_count": 46,
      "outputs": [
        {
          "output_type": "stream",
          "name": "stdout",
          "text": [
            "Most positive words:\n",
            "cepat 3.1200113901534374\n",
            "bagus 2.896270091851799\n",
            "ok 3.6224405191628457\n",
            "mudah 4.450038626445034\n",
            "mantap 4.213988903361302\n",
            "bantu 4.616784768511594\n",
            "good 4.281535225251832\n",
            "keren 3.6039004953354157\n",
            "moga 2.818434778070674\n",
            "oke 3.3115777172745693\n",
            "terimakasih 2.8368256638052287\n",
            "ramah 3.3475427518845717\n",
            "nice 2.875349979253527\n",
            "membanyaki 3.0241054002899332\n",
            "mantul 2.6167473189076764\n"
          ]
        }
      ]
    },
    {
      "cell_type": "code",
      "source": [
        "print(\"Most negative words:\")\n",
        "for word, index in word_index_map.items():\n",
        "    weight = log.coef_[0][index]\n",
        "    if weight < -threshold:\n",
        "        print(word, weight)"
      ],
      "metadata": {
        "scrolled": true,
        "execution": {
          "iopub.status.busy": "2024-02-19T04:12:53.291094Z",
          "iopub.execute_input": "2024-02-19T04:12:53.29191Z",
          "iopub.status.idle": "2024-02-19T04:12:53.30274Z",
          "shell.execute_reply.started": "2024-02-19T04:12:53.291863Z",
          "shell.execute_reply": "2024-02-19T04:12:53.301519Z"
        },
        "trusted": true,
        "id": "m9F33NyzgfTY",
        "colab": {
          "base_uri": "https://localhost:8080/"
        },
        "outputId": "af6ee134-886c-4d9d-bf22-be7499ea2dae"
      },
      "execution_count": 47,
      "outputs": [
        {
          "output_type": "stream",
          "name": "stdout",
          "text": [
            "Most negative words:\n",
            "iklan -2.6412535017895307\n",
            "payah -2.8519773151196333\n",
            "buruk -3.549665878839633\n",
            "parah -4.169882657985847\n",
            "blokir -2.522856391791177\n",
            "mahal -2.685252005683189\n",
            "driver -2.5572103361593834\n",
            "internet -2.5183415009863195\n",
            "aneh -3.135358716735579\n",
            "gopaylater -2.704828316341446\n",
            "hilang -2.510521788074756\n",
            "telat -3.321334890727066\n",
            "error -2.5276053842303043\n",
            "saldo -2.707659739323181\n",
            "rugi -3.1250445010523022\n",
            "up -2.610617722728786\n",
            "jaring -3.1850641436526765\n",
            "eror -3.05852678563918\n",
            "paylater -2.956155583447813\n",
            "tolol -2.8591195090052315\n",
            "pelit -2.5910864825082807\n",
            "lot -2.803454575439909\n",
            "jelek -3.6346278570121626\n",
            "lapor -2.70620588492432\n",
            "mending -3.0693088310310452\n"
          ]
        }
      ]
    },
    {
      "cell_type": "markdown",
      "source": [
        "For further use, need subject expert or more analysis to decide on how to classify the negative review. Clustering could be an option too."
      ],
      "metadata": {
        "id": "X4QXBNXEgfTY"
      }
    },
    {
      "cell_type": "code",
      "source": [
        "X_full = vectorizer.transform(df['text_processed'])\n",
        "probabilities = log.predict_proba(X_full)"
      ],
      "metadata": {
        "execution": {
          "iopub.status.busy": "2024-02-19T04:12:58.665169Z",
          "iopub.execute_input": "2024-02-19T04:12:58.665552Z",
          "iopub.status.idle": "2024-02-19T04:12:58.93593Z",
          "shell.execute_reply.started": "2024-02-19T04:12:58.665521Z",
          "shell.execute_reply": "2024-02-19T04:12:58.934993Z"
        },
        "trusted": true,
        "id": "htdMHsdPgfTY"
      },
      "execution_count": 48,
      "outputs": []
    },
    {
      "cell_type": "code",
      "source": [
        "predictions = log.predict(X_full)"
      ],
      "metadata": {
        "execution": {
          "iopub.status.busy": "2024-02-19T04:13:02.022544Z",
          "iopub.execute_input": "2024-02-19T04:13:02.023541Z",
          "iopub.status.idle": "2024-02-19T04:13:02.028769Z",
          "shell.execute_reply.started": "2024-02-19T04:13:02.023507Z",
          "shell.execute_reply": "2024-02-19T04:13:02.027936Z"
        },
        "trusted": true,
        "id": "LUr6FvyagfTZ"
      },
      "execution_count": 49,
      "outputs": []
    },
    {
      "cell_type": "code",
      "source": [
        "df.shape"
      ],
      "metadata": {
        "execution": {
          "iopub.status.busy": "2024-02-19T04:13:03.779095Z",
          "iopub.execute_input": "2024-02-19T04:13:03.779464Z",
          "iopub.status.idle": "2024-02-19T04:13:03.786388Z",
          "shell.execute_reply.started": "2024-02-19T04:13:03.779437Z",
          "shell.execute_reply": "2024-02-19T04:13:03.785171Z"
        },
        "trusted": true,
        "id": "ei4Goy_hgfTa",
        "colab": {
          "base_uri": "https://localhost:8080/"
        },
        "outputId": "518ebe2f-cc78-4277-d98d-b389c295d3b2"
      },
      "execution_count": 50,
      "outputs": [
        {
          "output_type": "execute_result",
          "data": {
            "text/plain": [
              "(32969, 10)"
            ]
          },
          "metadata": {},
          "execution_count": 50
        }
      ]
    },
    {
      "cell_type": "code",
      "source": [
        "len(predictions)"
      ],
      "metadata": {
        "execution": {
          "iopub.status.busy": "2024-02-19T04:13:07.289979Z",
          "iopub.execute_input": "2024-02-19T04:13:07.290358Z",
          "iopub.status.idle": "2024-02-19T04:13:07.295537Z",
          "shell.execute_reply.started": "2024-02-19T04:13:07.290331Z",
          "shell.execute_reply": "2024-02-19T04:13:07.294735Z"
        },
        "trusted": true,
        "id": "4jWvU-h5gfTa",
        "colab": {
          "base_uri": "https://localhost:8080/"
        },
        "outputId": "7d0a1d64-cc97-453f-97c7-75af02539dbc"
      },
      "execution_count": 51,
      "outputs": [
        {
          "output_type": "execute_result",
          "data": {
            "text/plain": [
              "32969"
            ]
          },
          "metadata": {},
          "execution_count": 51
        }
      ]
    },
    {
      "cell_type": "code",
      "source": [
        "df['prediction'] = predictions\n",
        "df['prediction'] = df['prediction'].map({0:'negative',1:'positive'})"
      ],
      "metadata": {
        "execution": {
          "iopub.status.busy": "2024-02-19T04:13:09.763079Z",
          "iopub.execute_input": "2024-02-19T04:13:09.763573Z",
          "iopub.status.idle": "2024-02-19T04:13:09.771705Z",
          "shell.execute_reply.started": "2024-02-19T04:13:09.763529Z",
          "shell.execute_reply": "2024-02-19T04:13:09.770668Z"
        },
        "trusted": true,
        "id": "yRiNI77fgfTa"
      },
      "execution_count": 52,
      "outputs": []
    },
    {
      "cell_type": "code",
      "source": [
        "probabilities"
      ],
      "metadata": {
        "execution": {
          "iopub.status.busy": "2024-02-19T04:13:13.385559Z",
          "iopub.execute_input": "2024-02-19T04:13:13.385948Z",
          "iopub.status.idle": "2024-02-19T04:13:13.393774Z",
          "shell.execute_reply.started": "2024-02-19T04:13:13.385916Z",
          "shell.execute_reply": "2024-02-19T04:13:13.392991Z"
        },
        "trusted": true,
        "id": "rTHrSAvBgfTa",
        "colab": {
          "base_uri": "https://localhost:8080/"
        },
        "outputId": "730470e6-1abc-4d1d-eee9-b9cf151ba729"
      },
      "execution_count": 53,
      "outputs": [
        {
          "output_type": "execute_result",
          "data": {
            "text/plain": [
              "array([[0.79884232, 0.20115768],\n",
              "       [0.54166779, 0.45833221],\n",
              "       [0.36592868, 0.63407132],\n",
              "       ...,\n",
              "       [0.00825262, 0.99174738],\n",
              "       [0.01764614, 0.98235386],\n",
              "       [0.53530177, 0.46469823]])"
            ]
          },
          "metadata": {},
          "execution_count": 53
        }
      ]
    },
    {
      "cell_type": "code",
      "source": [
        "df['prediction_confidence'] = probabilities[:,0]"
      ],
      "metadata": {
        "execution": {
          "iopub.status.busy": "2024-02-19T04:13:15.492924Z",
          "iopub.execute_input": "2024-02-19T04:13:15.493342Z",
          "iopub.status.idle": "2024-02-19T04:13:15.498874Z",
          "shell.execute_reply.started": "2024-02-19T04:13:15.49331Z",
          "shell.execute_reply": "2024-02-19T04:13:15.497936Z"
        },
        "trusted": true,
        "id": "lWJ30NPAgfTa"
      },
      "execution_count": 54,
      "outputs": []
    },
    {
      "cell_type": "code",
      "source": [
        "def reverse_confidence(value):\n",
        "    # if positive\n",
        "    if value < 0.5:\n",
        "        return 1-value\n",
        "    else:\n",
        "        return value"
      ],
      "metadata": {
        "execution": {
          "iopub.status.busy": "2024-02-19T04:13:19.120947Z",
          "iopub.execute_input": "2024-02-19T04:13:19.121311Z",
          "iopub.status.idle": "2024-02-19T04:13:19.12617Z",
          "shell.execute_reply.started": "2024-02-19T04:13:19.121285Z",
          "shell.execute_reply": "2024-02-19T04:13:19.125078Z"
        },
        "trusted": true,
        "id": "LeRDtxGzgfTa"
      },
      "execution_count": 55,
      "outputs": []
    },
    {
      "cell_type": "code",
      "source": [
        "df['prediction_confidence'] = df['prediction_confidence'].apply(reverse_confidence)"
      ],
      "metadata": {
        "execution": {
          "iopub.status.busy": "2024-02-19T04:13:21.453482Z",
          "iopub.execute_input": "2024-02-19T04:13:21.453869Z",
          "iopub.status.idle": "2024-02-19T04:13:21.471587Z",
          "shell.execute_reply.started": "2024-02-19T04:13:21.453838Z",
          "shell.execute_reply": "2024-02-19T04:13:21.470354Z"
        },
        "trusted": true,
        "id": "GdyzH5ufgfTa"
      },
      "execution_count": 56,
      "outputs": []
    },
    {
      "cell_type": "code",
      "source": [
        "df.head()"
      ],
      "metadata": {
        "execution": {
          "iopub.status.busy": "2024-02-19T04:13:24.493916Z",
          "iopub.execute_input": "2024-02-19T04:13:24.495099Z",
          "iopub.status.idle": "2024-02-19T04:13:24.51823Z",
          "shell.execute_reply.started": "2024-02-19T04:13:24.495051Z",
          "shell.execute_reply": "2024-02-19T04:13:24.517206Z"
        },
        "trusted": true,
        "id": "mYDMU0PdgfTa",
        "colab": {
          "base_uri": "https://localhost:8080/",
          "height": 539
        },
        "outputId": "50373142-98d1-4d70-e6df-41889c855dae"
      },
      "execution_count": 57,
      "outputs": [
        {
          "output_type": "execute_result",
          "data": {
            "text/plain": [
              "                                                text  score  \\\n",
              "0                            akun gopay saya di blok      1   \n",
              "2  Kenapa sih dari kemarin sy buka aplikasi gojek...      4   \n",
              "3  Baru download gojek dan hape baru trus ditop u...      1   \n",
              "4                                             Mantap      5   \n",
              "5                                              Bagus      4   \n",
              "\n",
              "                  date app_version    target  target_binary app_version_cut  \\\n",
              "0  2022-01-21 10:52:12       4.9.3  negative              0             4.9   \n",
              "2  2021-11-29 22:58:12       4.9.3  positive              1             4.9   \n",
              "3  2022-09-03 15:21:17       4.9.3  negative              0             4.9   \n",
              "4  2022-01-15 10:05:27       4.9.3  positive              1             4.9   \n",
              "5  2022-02-01 05:50:40       4.9.3  positive              1             4.9   \n",
              "\n",
              "                                      text_processed  \\\n",
              "0                                    akun gopay blok   \n",
              "2  sih kemarin buka aplikasi gojek kasih bintang ...   \n",
              "3  download gojek hape top lu gopay transaksi dia...   \n",
              "4                                             mantap   \n",
              "5                                              bagus   \n",
              "\n",
              "                                              tokens  \\\n",
              "0                      [akun, gopay, saya, di, blok]   \n",
              "2  [kenapa, sih, dari, kemarin, saya, buka, aplik...   \n",
              "3  [baru, download, gojek, dan, hape, baru, terus...   \n",
              "4                                           [mantap]   \n",
              "5                                            [bagus]   \n",
              "\n",
              "                             tokens_without_stopword prediction  \\\n",
              "0                                [akun, gopay, blok]   negative   \n",
              "2  [sih, kemarin, buka, aplikasi, gojek, kasih, b...   negative   \n",
              "3  [download, gojek, hape, top, lu, gopay, transa...   positive   \n",
              "4                                           [mantap]   positive   \n",
              "5                                            [bagus]   positive   \n",
              "\n",
              "   prediction_confidence  \n",
              "0               0.798842  \n",
              "2               0.541668  \n",
              "3               0.634071  \n",
              "4               0.995213  \n",
              "5               0.982354  "
            ],
            "text/html": [
              "\n",
              "  <div id=\"df-dde0d740-2ff2-4fb0-a692-0eb7b40c62f7\" class=\"colab-df-container\">\n",
              "    <div>\n",
              "<style scoped>\n",
              "    .dataframe tbody tr th:only-of-type {\n",
              "        vertical-align: middle;\n",
              "    }\n",
              "\n",
              "    .dataframe tbody tr th {\n",
              "        vertical-align: top;\n",
              "    }\n",
              "\n",
              "    .dataframe thead th {\n",
              "        text-align: right;\n",
              "    }\n",
              "</style>\n",
              "<table border=\"1\" class=\"dataframe\">\n",
              "  <thead>\n",
              "    <tr style=\"text-align: right;\">\n",
              "      <th></th>\n",
              "      <th>text</th>\n",
              "      <th>score</th>\n",
              "      <th>date</th>\n",
              "      <th>app_version</th>\n",
              "      <th>target</th>\n",
              "      <th>target_binary</th>\n",
              "      <th>app_version_cut</th>\n",
              "      <th>text_processed</th>\n",
              "      <th>tokens</th>\n",
              "      <th>tokens_without_stopword</th>\n",
              "      <th>prediction</th>\n",
              "      <th>prediction_confidence</th>\n",
              "    </tr>\n",
              "  </thead>\n",
              "  <tbody>\n",
              "    <tr>\n",
              "      <th>0</th>\n",
              "      <td>akun gopay saya di blok</td>\n",
              "      <td>1</td>\n",
              "      <td>2022-01-21 10:52:12</td>\n",
              "      <td>4.9.3</td>\n",
              "      <td>negative</td>\n",
              "      <td>0</td>\n",
              "      <td>4.9</td>\n",
              "      <td>akun gopay blok</td>\n",
              "      <td>[akun, gopay, saya, di, blok]</td>\n",
              "      <td>[akun, gopay, blok]</td>\n",
              "      <td>negative</td>\n",
              "      <td>0.798842</td>\n",
              "    </tr>\n",
              "    <tr>\n",
              "      <th>2</th>\n",
              "      <td>Kenapa sih dari kemarin sy buka aplikasi gojek...</td>\n",
              "      <td>4</td>\n",
              "      <td>2021-11-29 22:58:12</td>\n",
              "      <td>4.9.3</td>\n",
              "      <td>positive</td>\n",
              "      <td>1</td>\n",
              "      <td>4.9</td>\n",
              "      <td>sih kemarin buka aplikasi gojek kasih bintang ...</td>\n",
              "      <td>[kenapa, sih, dari, kemarin, saya, buka, aplik...</td>\n",
              "      <td>[sih, kemarin, buka, aplikasi, gojek, kasih, b...</td>\n",
              "      <td>negative</td>\n",
              "      <td>0.541668</td>\n",
              "    </tr>\n",
              "    <tr>\n",
              "      <th>3</th>\n",
              "      <td>Baru download gojek dan hape baru trus ditop u...</td>\n",
              "      <td>1</td>\n",
              "      <td>2022-09-03 15:21:17</td>\n",
              "      <td>4.9.3</td>\n",
              "      <td>negative</td>\n",
              "      <td>0</td>\n",
              "      <td>4.9</td>\n",
              "      <td>download gojek hape top lu gopay transaksi dia...</td>\n",
              "      <td>[baru, download, gojek, dan, hape, baru, terus...</td>\n",
              "      <td>[download, gojek, hape, top, lu, gopay, transa...</td>\n",
              "      <td>positive</td>\n",
              "      <td>0.634071</td>\n",
              "    </tr>\n",
              "    <tr>\n",
              "      <th>4</th>\n",
              "      <td>Mantap</td>\n",
              "      <td>5</td>\n",
              "      <td>2022-01-15 10:05:27</td>\n",
              "      <td>4.9.3</td>\n",
              "      <td>positive</td>\n",
              "      <td>1</td>\n",
              "      <td>4.9</td>\n",
              "      <td>mantap</td>\n",
              "      <td>[mantap]</td>\n",
              "      <td>[mantap]</td>\n",
              "      <td>positive</td>\n",
              "      <td>0.995213</td>\n",
              "    </tr>\n",
              "    <tr>\n",
              "      <th>5</th>\n",
              "      <td>Bagus</td>\n",
              "      <td>4</td>\n",
              "      <td>2022-02-01 05:50:40</td>\n",
              "      <td>4.9.3</td>\n",
              "      <td>positive</td>\n",
              "      <td>1</td>\n",
              "      <td>4.9</td>\n",
              "      <td>bagus</td>\n",
              "      <td>[bagus]</td>\n",
              "      <td>[bagus]</td>\n",
              "      <td>positive</td>\n",
              "      <td>0.982354</td>\n",
              "    </tr>\n",
              "  </tbody>\n",
              "</table>\n",
              "</div>\n",
              "    <div class=\"colab-df-buttons\">\n",
              "\n",
              "  <div class=\"colab-df-container\">\n",
              "    <button class=\"colab-df-convert\" onclick=\"convertToInteractive('df-dde0d740-2ff2-4fb0-a692-0eb7b40c62f7')\"\n",
              "            title=\"Convert this dataframe to an interactive table.\"\n",
              "            style=\"display:none;\">\n",
              "\n",
              "  <svg xmlns=\"http://www.w3.org/2000/svg\" height=\"24px\" viewBox=\"0 -960 960 960\">\n",
              "    <path d=\"M120-120v-720h720v720H120Zm60-500h600v-160H180v160Zm220 220h160v-160H400v160Zm0 220h160v-160H400v160ZM180-400h160v-160H180v160Zm440 0h160v-160H620v160ZM180-180h160v-160H180v160Zm440 0h160v-160H620v160Z\"/>\n",
              "  </svg>\n",
              "    </button>\n",
              "\n",
              "  <style>\n",
              "    .colab-df-container {\n",
              "      display:flex;\n",
              "      gap: 12px;\n",
              "    }\n",
              "\n",
              "    .colab-df-convert {\n",
              "      background-color: #E8F0FE;\n",
              "      border: none;\n",
              "      border-radius: 50%;\n",
              "      cursor: pointer;\n",
              "      display: none;\n",
              "      fill: #1967D2;\n",
              "      height: 32px;\n",
              "      padding: 0 0 0 0;\n",
              "      width: 32px;\n",
              "    }\n",
              "\n",
              "    .colab-df-convert:hover {\n",
              "      background-color: #E2EBFA;\n",
              "      box-shadow: 0px 1px 2px rgba(60, 64, 67, 0.3), 0px 1px 3px 1px rgba(60, 64, 67, 0.15);\n",
              "      fill: #174EA6;\n",
              "    }\n",
              "\n",
              "    .colab-df-buttons div {\n",
              "      margin-bottom: 4px;\n",
              "    }\n",
              "\n",
              "    [theme=dark] .colab-df-convert {\n",
              "      background-color: #3B4455;\n",
              "      fill: #D2E3FC;\n",
              "    }\n",
              "\n",
              "    [theme=dark] .colab-df-convert:hover {\n",
              "      background-color: #434B5C;\n",
              "      box-shadow: 0px 1px 3px 1px rgba(0, 0, 0, 0.15);\n",
              "      filter: drop-shadow(0px 1px 2px rgba(0, 0, 0, 0.3));\n",
              "      fill: #FFFFFF;\n",
              "    }\n",
              "  </style>\n",
              "\n",
              "    <script>\n",
              "      const buttonEl =\n",
              "        document.querySelector('#df-dde0d740-2ff2-4fb0-a692-0eb7b40c62f7 button.colab-df-convert');\n",
              "      buttonEl.style.display =\n",
              "        google.colab.kernel.accessAllowed ? 'block' : 'none';\n",
              "\n",
              "      async function convertToInteractive(key) {\n",
              "        const element = document.querySelector('#df-dde0d740-2ff2-4fb0-a692-0eb7b40c62f7');\n",
              "        const dataTable =\n",
              "          await google.colab.kernel.invokeFunction('convertToInteractive',\n",
              "                                                    [key], {});\n",
              "        if (!dataTable) return;\n",
              "\n",
              "        const docLinkHtml = 'Like what you see? Visit the ' +\n",
              "          '<a target=\"_blank\" href=https://colab.research.google.com/notebooks/data_table.ipynb>data table notebook</a>'\n",
              "          + ' to learn more about interactive tables.';\n",
              "        element.innerHTML = '';\n",
              "        dataTable['output_type'] = 'display_data';\n",
              "        await google.colab.output.renderOutput(dataTable, element);\n",
              "        const docLink = document.createElement('div');\n",
              "        docLink.innerHTML = docLinkHtml;\n",
              "        element.appendChild(docLink);\n",
              "      }\n",
              "    </script>\n",
              "  </div>\n",
              "\n",
              "\n",
              "<div id=\"df-d5f31c0f-7082-4921-8895-4ee499469423\">\n",
              "  <button class=\"colab-df-quickchart\" onclick=\"quickchart('df-d5f31c0f-7082-4921-8895-4ee499469423')\"\n",
              "            title=\"Suggest charts\"\n",
              "            style=\"display:none;\">\n",
              "\n",
              "<svg xmlns=\"http://www.w3.org/2000/svg\" height=\"24px\"viewBox=\"0 0 24 24\"\n",
              "     width=\"24px\">\n",
              "    <g>\n",
              "        <path d=\"M19 3H5c-1.1 0-2 .9-2 2v14c0 1.1.9 2 2 2h14c1.1 0 2-.9 2-2V5c0-1.1-.9-2-2-2zM9 17H7v-7h2v7zm4 0h-2V7h2v10zm4 0h-2v-4h2v4z\"/>\n",
              "    </g>\n",
              "</svg>\n",
              "  </button>\n",
              "\n",
              "<style>\n",
              "  .colab-df-quickchart {\n",
              "      --bg-color: #E8F0FE;\n",
              "      --fill-color: #1967D2;\n",
              "      --hover-bg-color: #E2EBFA;\n",
              "      --hover-fill-color: #174EA6;\n",
              "      --disabled-fill-color: #AAA;\n",
              "      --disabled-bg-color: #DDD;\n",
              "  }\n",
              "\n",
              "  [theme=dark] .colab-df-quickchart {\n",
              "      --bg-color: #3B4455;\n",
              "      --fill-color: #D2E3FC;\n",
              "      --hover-bg-color: #434B5C;\n",
              "      --hover-fill-color: #FFFFFF;\n",
              "      --disabled-bg-color: #3B4455;\n",
              "      --disabled-fill-color: #666;\n",
              "  }\n",
              "\n",
              "  .colab-df-quickchart {\n",
              "    background-color: var(--bg-color);\n",
              "    border: none;\n",
              "    border-radius: 50%;\n",
              "    cursor: pointer;\n",
              "    display: none;\n",
              "    fill: var(--fill-color);\n",
              "    height: 32px;\n",
              "    padding: 0;\n",
              "    width: 32px;\n",
              "  }\n",
              "\n",
              "  .colab-df-quickchart:hover {\n",
              "    background-color: var(--hover-bg-color);\n",
              "    box-shadow: 0 1px 2px rgba(60, 64, 67, 0.3), 0 1px 3px 1px rgba(60, 64, 67, 0.15);\n",
              "    fill: var(--button-hover-fill-color);\n",
              "  }\n",
              "\n",
              "  .colab-df-quickchart-complete:disabled,\n",
              "  .colab-df-quickchart-complete:disabled:hover {\n",
              "    background-color: var(--disabled-bg-color);\n",
              "    fill: var(--disabled-fill-color);\n",
              "    box-shadow: none;\n",
              "  }\n",
              "\n",
              "  .colab-df-spinner {\n",
              "    border: 2px solid var(--fill-color);\n",
              "    border-color: transparent;\n",
              "    border-bottom-color: var(--fill-color);\n",
              "    animation:\n",
              "      spin 1s steps(1) infinite;\n",
              "  }\n",
              "\n",
              "  @keyframes spin {\n",
              "    0% {\n",
              "      border-color: transparent;\n",
              "      border-bottom-color: var(--fill-color);\n",
              "      border-left-color: var(--fill-color);\n",
              "    }\n",
              "    20% {\n",
              "      border-color: transparent;\n",
              "      border-left-color: var(--fill-color);\n",
              "      border-top-color: var(--fill-color);\n",
              "    }\n",
              "    30% {\n",
              "      border-color: transparent;\n",
              "      border-left-color: var(--fill-color);\n",
              "      border-top-color: var(--fill-color);\n",
              "      border-right-color: var(--fill-color);\n",
              "    }\n",
              "    40% {\n",
              "      border-color: transparent;\n",
              "      border-right-color: var(--fill-color);\n",
              "      border-top-color: var(--fill-color);\n",
              "    }\n",
              "    60% {\n",
              "      border-color: transparent;\n",
              "      border-right-color: var(--fill-color);\n",
              "    }\n",
              "    80% {\n",
              "      border-color: transparent;\n",
              "      border-right-color: var(--fill-color);\n",
              "      border-bottom-color: var(--fill-color);\n",
              "    }\n",
              "    90% {\n",
              "      border-color: transparent;\n",
              "      border-bottom-color: var(--fill-color);\n",
              "    }\n",
              "  }\n",
              "</style>\n",
              "\n",
              "  <script>\n",
              "    async function quickchart(key) {\n",
              "      const quickchartButtonEl =\n",
              "        document.querySelector('#' + key + ' button');\n",
              "      quickchartButtonEl.disabled = true;  // To prevent multiple clicks.\n",
              "      quickchartButtonEl.classList.add('colab-df-spinner');\n",
              "      try {\n",
              "        const charts = await google.colab.kernel.invokeFunction(\n",
              "            'suggestCharts', [key], {});\n",
              "      } catch (error) {\n",
              "        console.error('Error during call to suggestCharts:', error);\n",
              "      }\n",
              "      quickchartButtonEl.classList.remove('colab-df-spinner');\n",
              "      quickchartButtonEl.classList.add('colab-df-quickchart-complete');\n",
              "    }\n",
              "    (() => {\n",
              "      let quickchartButtonEl =\n",
              "        document.querySelector('#df-d5f31c0f-7082-4921-8895-4ee499469423 button');\n",
              "      quickchartButtonEl.style.display =\n",
              "        google.colab.kernel.accessAllowed ? 'block' : 'none';\n",
              "    })();\n",
              "  </script>\n",
              "</div>\n",
              "\n",
              "    </div>\n",
              "  </div>\n"
            ],
            "application/vnd.google.colaboratory.intrinsic+json": {
              "type": "dataframe",
              "variable_name": "df",
              "summary": "{\n  \"name\": \"df\",\n  \"rows\": 32969,\n  \"fields\": [\n    {\n      \"column\": \"text\",\n      \"properties\": {\n        \"dtype\": \"string\",\n        \"num_unique_values\": 23858,\n        \"samples\": [\n          \"Kecewa sistem paylatwr seekarang\",\n          \"Terpercata\",\n          \"Mantap Aplikasinya\"\n        ],\n        \"semantic_type\": \"\",\n        \"description\": \"\"\n      }\n    },\n    {\n      \"column\": \"score\",\n      \"properties\": {\n        \"dtype\": \"number\",\n        \"std\": 1,\n        \"min\": 1,\n        \"max\": 5,\n        \"num_unique_values\": 4,\n        \"samples\": [\n          4,\n          2,\n          1\n        ],\n        \"semantic_type\": \"\",\n        \"description\": \"\"\n      }\n    },\n    {\n      \"column\": \"date\",\n      \"properties\": {\n        \"dtype\": \"object\",\n        \"num_unique_values\": 32919,\n        \"samples\": [\n          \"2023-12-23 22:26:47\",\n          \"2023-09-17 09:47:30\",\n          \"2023-12-21 05:02:37\"\n        ],\n        \"semantic_type\": \"\",\n        \"description\": \"\"\n      }\n    },\n    {\n      \"column\": \"app_version\",\n      \"properties\": {\n        \"dtype\": \"category\",\n        \"num_unique_values\": 31,\n        \"samples\": [\n          \"4.71.3\",\n          \"4.78.1\",\n          \"4.74.2\"\n        ],\n        \"semantic_type\": \"\",\n        \"description\": \"\"\n      }\n    },\n    {\n      \"column\": \"target\",\n      \"properties\": {\n        \"dtype\": \"category\",\n        \"num_unique_values\": 2,\n        \"samples\": [\n          \"positive\",\n          \"negative\"\n        ],\n        \"semantic_type\": \"\",\n        \"description\": \"\"\n      }\n    },\n    {\n      \"column\": \"target_binary\",\n      \"properties\": {\n        \"dtype\": \"number\",\n        \"std\": 0,\n        \"min\": 0,\n        \"max\": 1,\n        \"num_unique_values\": 2,\n        \"samples\": [\n          1,\n          0\n        ],\n        \"semantic_type\": \"\",\n        \"description\": \"\"\n      }\n    },\n    {\n      \"column\": \"app_version_cut\",\n      \"properties\": {\n        \"dtype\": \"category\",\n        \"num_unique_values\": 3,\n        \"samples\": [\n          \"4.9\",\n          \"4.8\"\n        ],\n        \"semantic_type\": \"\",\n        \"description\": \"\"\n      }\n    },\n    {\n      \"column\": \"text_processed\",\n      \"properties\": {\n        \"dtype\": \"string\",\n        \"num_unique_values\": 20716,\n        \"samples\": [\n          \"pelayananok\",\n          \"gopaylater lambat denda gede banget parah\"\n        ],\n        \"semantic_type\": \"\",\n        \"description\": \"\"\n      }\n    },\n    {\n      \"column\": \"tokens\",\n      \"properties\": {\n        \"dtype\": \"object\",\n        \"semantic_type\": \"\",\n        \"description\": \"\"\n      }\n    },\n    {\n      \"column\": \"tokens_without_stopword\",\n      \"properties\": {\n        \"dtype\": \"object\",\n        \"semantic_type\": \"\",\n        \"description\": \"\"\n      }\n    },\n    {\n      \"column\": \"prediction\",\n      \"properties\": {\n        \"dtype\": \"category\",\n        \"num_unique_values\": 2,\n        \"samples\": [\n          \"positive\",\n          \"negative\"\n        ],\n        \"semantic_type\": \"\",\n        \"description\": \"\"\n      }\n    },\n    {\n      \"column\": \"prediction_confidence\",\n      \"properties\": {\n        \"dtype\": \"number\",\n        \"std\": 0.13534648429637572,\n        \"min\": 0.5000134819383886,\n        \"max\": 0.9998402440467505,\n        \"num_unique_values\": 18959,\n        \"samples\": [\n          0.6607376510082232,\n          0.5835427879524193\n        ],\n        \"semantic_type\": \"\",\n        \"description\": \"\"\n      }\n    }\n  ]\n}"
            }
          },
          "metadata": {},
          "execution_count": 57
        }
      ]
    },
    {
      "cell_type": "markdown",
      "source": [
        "# **Wrong prediction**"
      ],
      "metadata": {
        "id": "iSBEELOagfTa"
      }
    },
    {
      "cell_type": "code",
      "source": [
        "filtered_df = df[(df['target'] != df['prediction']) & (df['prediction_confidence'] > 0.9)]"
      ],
      "metadata": {
        "execution": {
          "iopub.status.busy": "2024-02-19T04:13:28.037403Z",
          "iopub.execute_input": "2024-02-19T04:13:28.037786Z",
          "iopub.status.idle": "2024-02-19T04:13:28.04861Z",
          "shell.execute_reply.started": "2024-02-19T04:13:28.037756Z",
          "shell.execute_reply": "2024-02-19T04:13:28.047535Z"
        },
        "trusted": true,
        "id": "9EJyU1ZKgfTb"
      },
      "execution_count": 59,
      "outputs": []
    },
    {
      "cell_type": "code",
      "source": [
        "filtered_df = filtered_df[['text','text_processed','target','prediction','prediction_confidence']]\n",
        "filtered_df.shape"
      ],
      "metadata": {
        "execution": {
          "iopub.status.busy": "2024-02-19T04:13:30.296972Z",
          "iopub.execute_input": "2024-02-19T04:13:30.297403Z",
          "iopub.status.idle": "2024-02-19T04:13:30.305048Z",
          "shell.execute_reply.started": "2024-02-19T04:13:30.297368Z",
          "shell.execute_reply": "2024-02-19T04:13:30.304283Z"
        },
        "trusted": true,
        "id": "VhhcDX1ogfTb",
        "colab": {
          "base_uri": "https://localhost:8080/"
        },
        "outputId": "5bf8552e-f049-413c-a228-5b6622cf2789"
      },
      "execution_count": 60,
      "outputs": [
        {
          "output_type": "execute_result",
          "data": {
            "text/plain": [
              "(292, 5)"
            ]
          },
          "metadata": {},
          "execution_count": 60
        }
      ]
    },
    {
      "cell_type": "markdown",
      "source": [
        "There are 292 reviews that the model confidently predict, but get the wrong sentiment."
      ],
      "metadata": {
        "id": "xuxUs9qhgfTb"
      }
    },
    {
      "cell_type": "code",
      "source": [
        "row = filtered_df.shape[0]"
      ],
      "metadata": {
        "execution": {
          "iopub.status.busy": "2024-02-19T04:13:33.583172Z",
          "iopub.execute_input": "2024-02-19T04:13:33.58357Z",
          "iopub.status.idle": "2024-02-19T04:13:33.588355Z",
          "shell.execute_reply.started": "2024-02-19T04:13:33.58354Z",
          "shell.execute_reply": "2024-02-19T04:13:33.586956Z"
        },
        "trusted": true,
        "id": "Eoax5YxTgfTb"
      },
      "execution_count": 61,
      "outputs": []
    },
    {
      "cell_type": "code",
      "source": [
        "import random\n",
        "\n",
        "wrong_prediction = filtered_df.iloc[random.randint(0, row)]\n",
        "print(\"Raw Text:\", wrong_prediction['text'])\n",
        "wrong_prediction"
      ],
      "metadata": {
        "scrolled": true,
        "execution": {
          "iopub.status.busy": "2024-02-19T04:13:36.961214Z",
          "iopub.execute_input": "2024-02-19T04:13:36.961608Z",
          "iopub.status.idle": "2024-02-19T04:13:36.970995Z",
          "shell.execute_reply.started": "2024-02-19T04:13:36.961577Z",
          "shell.execute_reply": "2024-02-19T04:13:36.969951Z"
        },
        "trusted": true,
        "id": "-DMu8T7rgfTb",
        "colab": {
          "base_uri": "https://localhost:8080/",
          "height": 259
        },
        "outputId": "00f1f88f-8683-47b5-8b94-db0bc018dbad"
      },
      "execution_count": 62,
      "outputs": [
        {
          "output_type": "stream",
          "name": "stdout",
          "text": [
            "Raw Text: Cepat dan akurat ya um Di\n"
          ]
        },
        {
          "output_type": "execute_result",
          "data": {
            "text/plain": [
              "text                     Cepat dan akurat ya um Di\n",
              "text_processed                  cepat akurat ya um\n",
              "target                                    negative\n",
              "prediction                                positive\n",
              "prediction_confidence                     0.939328\n",
              "Name: 5572, dtype: object"
            ],
            "text/html": [
              "<div>\n",
              "<style scoped>\n",
              "    .dataframe tbody tr th:only-of-type {\n",
              "        vertical-align: middle;\n",
              "    }\n",
              "\n",
              "    .dataframe tbody tr th {\n",
              "        vertical-align: top;\n",
              "    }\n",
              "\n",
              "    .dataframe thead th {\n",
              "        text-align: right;\n",
              "    }\n",
              "</style>\n",
              "<table border=\"1\" class=\"dataframe\">\n",
              "  <thead>\n",
              "    <tr style=\"text-align: right;\">\n",
              "      <th></th>\n",
              "      <th>5572</th>\n",
              "    </tr>\n",
              "  </thead>\n",
              "  <tbody>\n",
              "    <tr>\n",
              "      <th>text</th>\n",
              "      <td>Cepat dan akurat ya um Di</td>\n",
              "    </tr>\n",
              "    <tr>\n",
              "      <th>text_processed</th>\n",
              "      <td>cepat akurat ya um</td>\n",
              "    </tr>\n",
              "    <tr>\n",
              "      <th>target</th>\n",
              "      <td>negative</td>\n",
              "    </tr>\n",
              "    <tr>\n",
              "      <th>prediction</th>\n",
              "      <td>positive</td>\n",
              "    </tr>\n",
              "    <tr>\n",
              "      <th>prediction_confidence</th>\n",
              "      <td>0.939328</td>\n",
              "    </tr>\n",
              "  </tbody>\n",
              "</table>\n",
              "</div><br><label><b>dtype:</b> object</label>"
            ]
          },
          "metadata": {},
          "execution_count": 62
        }
      ]
    },
    {
      "cell_type": "markdown",
      "source": [
        "There are several mislabeled sentiments. <br>\n",
        "Example review that mislabelled as positive:\n",
        "- jelek\n",
        "- Makin update makin aneh\n",
        "- Error parah Setelah update nggak bisa pesen gocar\n",
        "\n",
        "Example review that mislabeled as negative:\n",
        "- sangat membantu untuk top up\n",
        "- mantap nyaman\n",
        "- Pelayanan bagus\n",
        "\n",
        "Besides mislabeled, some short reviews with negation word also wrongly predicted. Such as \"kurang bagus\" is labeled as positive.<br>\n",
        "\n",
        "With some mislabel data and limitation it has, the logistic regression model results can be said good."
      ],
      "metadata": {
        "id": "87r93VhJgfTb"
      }
    },
    {
      "cell_type": "markdown",
      "source": [
        "# **eXtreme Gradient Boosting Classifier (XGBoost Classifier)**"
      ],
      "metadata": {
        "id": "tLQUfqsKgfTb"
      }
    },
    {
      "cell_type": "code",
      "source": [
        "xg = XGBClassifier(objective='binary:logistic')\n",
        "\n",
        "xg.fit(X_train, y_train)"
      ],
      "metadata": {
        "execution": {
          "iopub.status.busy": "2024-02-19T04:14:01.903357Z",
          "iopub.execute_input": "2024-02-19T04:14:01.903729Z",
          "iopub.status.idle": "2024-02-19T04:14:04.955857Z",
          "shell.execute_reply.started": "2024-02-19T04:14:01.9037Z",
          "shell.execute_reply": "2024-02-19T04:14:04.954797Z"
        },
        "trusted": true,
        "id": "L93s_Xz6gfTb",
        "colab": {
          "base_uri": "https://localhost:8080/",
          "height": 274
        },
        "outputId": "ab983848-4741-43be-8623-65beb96bf9fa"
      },
      "execution_count": 63,
      "outputs": [
        {
          "output_type": "execute_result",
          "data": {
            "text/plain": [
              "XGBClassifier(base_score=None, booster=None, callbacks=None,\n",
              "              colsample_bylevel=None, colsample_bynode=None,\n",
              "              colsample_bytree=None, device=None, early_stopping_rounds=None,\n",
              "              enable_categorical=False, eval_metric=None, feature_types=None,\n",
              "              gamma=None, grow_policy=None, importance_type=None,\n",
              "              interaction_constraints=None, learning_rate=None, max_bin=None,\n",
              "              max_cat_threshold=None, max_cat_to_onehot=None,\n",
              "              max_delta_step=None, max_depth=None, max_leaves=None,\n",
              "              min_child_weight=None, missing=nan, monotone_constraints=None,\n",
              "              multi_strategy=None, n_estimators=None, n_jobs=None,\n",
              "              num_parallel_tree=None, random_state=None, ...)"
            ],
            "text/html": [
              "<style>#sk-container-id-1 {\n",
              "  /* Definition of color scheme common for light and dark mode */\n",
              "  --sklearn-color-text: black;\n",
              "  --sklearn-color-line: gray;\n",
              "  /* Definition of color scheme for unfitted estimators */\n",
              "  --sklearn-color-unfitted-level-0: #fff5e6;\n",
              "  --sklearn-color-unfitted-level-1: #f6e4d2;\n",
              "  --sklearn-color-unfitted-level-2: #ffe0b3;\n",
              "  --sklearn-color-unfitted-level-3: chocolate;\n",
              "  /* Definition of color scheme for fitted estimators */\n",
              "  --sklearn-color-fitted-level-0: #f0f8ff;\n",
              "  --sklearn-color-fitted-level-1: #d4ebff;\n",
              "  --sklearn-color-fitted-level-2: #b3dbfd;\n",
              "  --sklearn-color-fitted-level-3: cornflowerblue;\n",
              "\n",
              "  /* Specific color for light theme */\n",
              "  --sklearn-color-text-on-default-background: var(--sg-text-color, var(--theme-code-foreground, var(--jp-content-font-color1, black)));\n",
              "  --sklearn-color-background: var(--sg-background-color, var(--theme-background, var(--jp-layout-color0, white)));\n",
              "  --sklearn-color-border-box: var(--sg-text-color, var(--theme-code-foreground, var(--jp-content-font-color1, black)));\n",
              "  --sklearn-color-icon: #696969;\n",
              "\n",
              "  @media (prefers-color-scheme: dark) {\n",
              "    /* Redefinition of color scheme for dark theme */\n",
              "    --sklearn-color-text-on-default-background: var(--sg-text-color, var(--theme-code-foreground, var(--jp-content-font-color1, white)));\n",
              "    --sklearn-color-background: var(--sg-background-color, var(--theme-background, var(--jp-layout-color0, #111)));\n",
              "    --sklearn-color-border-box: var(--sg-text-color, var(--theme-code-foreground, var(--jp-content-font-color1, white)));\n",
              "    --sklearn-color-icon: #878787;\n",
              "  }\n",
              "}\n",
              "\n",
              "#sk-container-id-1 {\n",
              "  color: var(--sklearn-color-text);\n",
              "}\n",
              "\n",
              "#sk-container-id-1 pre {\n",
              "  padding: 0;\n",
              "}\n",
              "\n",
              "#sk-container-id-1 input.sk-hidden--visually {\n",
              "  border: 0;\n",
              "  clip: rect(1px 1px 1px 1px);\n",
              "  clip: rect(1px, 1px, 1px, 1px);\n",
              "  height: 1px;\n",
              "  margin: -1px;\n",
              "  overflow: hidden;\n",
              "  padding: 0;\n",
              "  position: absolute;\n",
              "  width: 1px;\n",
              "}\n",
              "\n",
              "#sk-container-id-1 div.sk-dashed-wrapped {\n",
              "  border: 1px dashed var(--sklearn-color-line);\n",
              "  margin: 0 0.4em 0.5em 0.4em;\n",
              "  box-sizing: border-box;\n",
              "  padding-bottom: 0.4em;\n",
              "  background-color: var(--sklearn-color-background);\n",
              "}\n",
              "\n",
              "#sk-container-id-1 div.sk-container {\n",
              "  /* jupyter's `normalize.less` sets `[hidden] { display: none; }`\n",
              "     but bootstrap.min.css set `[hidden] { display: none !important; }`\n",
              "     so we also need the `!important` here to be able to override the\n",
              "     default hidden behavior on the sphinx rendered scikit-learn.org.\n",
              "     See: https://github.com/scikit-learn/scikit-learn/issues/21755 */\n",
              "  display: inline-block !important;\n",
              "  position: relative;\n",
              "}\n",
              "\n",
              "#sk-container-id-1 div.sk-text-repr-fallback {\n",
              "  display: none;\n",
              "}\n",
              "\n",
              "div.sk-parallel-item,\n",
              "div.sk-serial,\n",
              "div.sk-item {\n",
              "  /* draw centered vertical line to link estimators */\n",
              "  background-image: linear-gradient(var(--sklearn-color-text-on-default-background), var(--sklearn-color-text-on-default-background));\n",
              "  background-size: 2px 100%;\n",
              "  background-repeat: no-repeat;\n",
              "  background-position: center center;\n",
              "}\n",
              "\n",
              "/* Parallel-specific style estimator block */\n",
              "\n",
              "#sk-container-id-1 div.sk-parallel-item::after {\n",
              "  content: \"\";\n",
              "  width: 100%;\n",
              "  border-bottom: 2px solid var(--sklearn-color-text-on-default-background);\n",
              "  flex-grow: 1;\n",
              "}\n",
              "\n",
              "#sk-container-id-1 div.sk-parallel {\n",
              "  display: flex;\n",
              "  align-items: stretch;\n",
              "  justify-content: center;\n",
              "  background-color: var(--sklearn-color-background);\n",
              "  position: relative;\n",
              "}\n",
              "\n",
              "#sk-container-id-1 div.sk-parallel-item {\n",
              "  display: flex;\n",
              "  flex-direction: column;\n",
              "}\n",
              "\n",
              "#sk-container-id-1 div.sk-parallel-item:first-child::after {\n",
              "  align-self: flex-end;\n",
              "  width: 50%;\n",
              "}\n",
              "\n",
              "#sk-container-id-1 div.sk-parallel-item:last-child::after {\n",
              "  align-self: flex-start;\n",
              "  width: 50%;\n",
              "}\n",
              "\n",
              "#sk-container-id-1 div.sk-parallel-item:only-child::after {\n",
              "  width: 0;\n",
              "}\n",
              "\n",
              "/* Serial-specific style estimator block */\n",
              "\n",
              "#sk-container-id-1 div.sk-serial {\n",
              "  display: flex;\n",
              "  flex-direction: column;\n",
              "  align-items: center;\n",
              "  background-color: var(--sklearn-color-background);\n",
              "  padding-right: 1em;\n",
              "  padding-left: 1em;\n",
              "}\n",
              "\n",
              "\n",
              "/* Toggleable style: style used for estimator/Pipeline/ColumnTransformer box that is\n",
              "clickable and can be expanded/collapsed.\n",
              "- Pipeline and ColumnTransformer use this feature and define the default style\n",
              "- Estimators will overwrite some part of the style using the `sk-estimator` class\n",
              "*/\n",
              "\n",
              "/* Pipeline and ColumnTransformer style (default) */\n",
              "\n",
              "#sk-container-id-1 div.sk-toggleable {\n",
              "  /* Default theme specific background. It is overwritten whether we have a\n",
              "  specific estimator or a Pipeline/ColumnTransformer */\n",
              "  background-color: var(--sklearn-color-background);\n",
              "}\n",
              "\n",
              "/* Toggleable label */\n",
              "#sk-container-id-1 label.sk-toggleable__label {\n",
              "  cursor: pointer;\n",
              "  display: block;\n",
              "  width: 100%;\n",
              "  margin-bottom: 0;\n",
              "  padding: 0.5em;\n",
              "  box-sizing: border-box;\n",
              "  text-align: center;\n",
              "}\n",
              "\n",
              "#sk-container-id-1 label.sk-toggleable__label-arrow:before {\n",
              "  /* Arrow on the left of the label */\n",
              "  content: \"▸\";\n",
              "  float: left;\n",
              "  margin-right: 0.25em;\n",
              "  color: var(--sklearn-color-icon);\n",
              "}\n",
              "\n",
              "#sk-container-id-1 label.sk-toggleable__label-arrow:hover:before {\n",
              "  color: var(--sklearn-color-text);\n",
              "}\n",
              "\n",
              "/* Toggleable content - dropdown */\n",
              "\n",
              "#sk-container-id-1 div.sk-toggleable__content {\n",
              "  max-height: 0;\n",
              "  max-width: 0;\n",
              "  overflow: hidden;\n",
              "  text-align: left;\n",
              "  /* unfitted */\n",
              "  background-color: var(--sklearn-color-unfitted-level-0);\n",
              "}\n",
              "\n",
              "#sk-container-id-1 div.sk-toggleable__content.fitted {\n",
              "  /* fitted */\n",
              "  background-color: var(--sklearn-color-fitted-level-0);\n",
              "}\n",
              "\n",
              "#sk-container-id-1 div.sk-toggleable__content pre {\n",
              "  margin: 0.2em;\n",
              "  border-radius: 0.25em;\n",
              "  color: var(--sklearn-color-text);\n",
              "  /* unfitted */\n",
              "  background-color: var(--sklearn-color-unfitted-level-0);\n",
              "}\n",
              "\n",
              "#sk-container-id-1 div.sk-toggleable__content.fitted pre {\n",
              "  /* unfitted */\n",
              "  background-color: var(--sklearn-color-fitted-level-0);\n",
              "}\n",
              "\n",
              "#sk-container-id-1 input.sk-toggleable__control:checked~div.sk-toggleable__content {\n",
              "  /* Expand drop-down */\n",
              "  max-height: 200px;\n",
              "  max-width: 100%;\n",
              "  overflow: auto;\n",
              "}\n",
              "\n",
              "#sk-container-id-1 input.sk-toggleable__control:checked~label.sk-toggleable__label-arrow:before {\n",
              "  content: \"▾\";\n",
              "}\n",
              "\n",
              "/* Pipeline/ColumnTransformer-specific style */\n",
              "\n",
              "#sk-container-id-1 div.sk-label input.sk-toggleable__control:checked~label.sk-toggleable__label {\n",
              "  color: var(--sklearn-color-text);\n",
              "  background-color: var(--sklearn-color-unfitted-level-2);\n",
              "}\n",
              "\n",
              "#sk-container-id-1 div.sk-label.fitted input.sk-toggleable__control:checked~label.sk-toggleable__label {\n",
              "  background-color: var(--sklearn-color-fitted-level-2);\n",
              "}\n",
              "\n",
              "/* Estimator-specific style */\n",
              "\n",
              "/* Colorize estimator box */\n",
              "#sk-container-id-1 div.sk-estimator input.sk-toggleable__control:checked~label.sk-toggleable__label {\n",
              "  /* unfitted */\n",
              "  background-color: var(--sklearn-color-unfitted-level-2);\n",
              "}\n",
              "\n",
              "#sk-container-id-1 div.sk-estimator.fitted input.sk-toggleable__control:checked~label.sk-toggleable__label {\n",
              "  /* fitted */\n",
              "  background-color: var(--sklearn-color-fitted-level-2);\n",
              "}\n",
              "\n",
              "#sk-container-id-1 div.sk-label label.sk-toggleable__label,\n",
              "#sk-container-id-1 div.sk-label label {\n",
              "  /* The background is the default theme color */\n",
              "  color: var(--sklearn-color-text-on-default-background);\n",
              "}\n",
              "\n",
              "/* On hover, darken the color of the background */\n",
              "#sk-container-id-1 div.sk-label:hover label.sk-toggleable__label {\n",
              "  color: var(--sklearn-color-text);\n",
              "  background-color: var(--sklearn-color-unfitted-level-2);\n",
              "}\n",
              "\n",
              "/* Label box, darken color on hover, fitted */\n",
              "#sk-container-id-1 div.sk-label.fitted:hover label.sk-toggleable__label.fitted {\n",
              "  color: var(--sklearn-color-text);\n",
              "  background-color: var(--sklearn-color-fitted-level-2);\n",
              "}\n",
              "\n",
              "/* Estimator label */\n",
              "\n",
              "#sk-container-id-1 div.sk-label label {\n",
              "  font-family: monospace;\n",
              "  font-weight: bold;\n",
              "  display: inline-block;\n",
              "  line-height: 1.2em;\n",
              "}\n",
              "\n",
              "#sk-container-id-1 div.sk-label-container {\n",
              "  text-align: center;\n",
              "}\n",
              "\n",
              "/* Estimator-specific */\n",
              "#sk-container-id-1 div.sk-estimator {\n",
              "  font-family: monospace;\n",
              "  border: 1px dotted var(--sklearn-color-border-box);\n",
              "  border-radius: 0.25em;\n",
              "  box-sizing: border-box;\n",
              "  margin-bottom: 0.5em;\n",
              "  /* unfitted */\n",
              "  background-color: var(--sklearn-color-unfitted-level-0);\n",
              "}\n",
              "\n",
              "#sk-container-id-1 div.sk-estimator.fitted {\n",
              "  /* fitted */\n",
              "  background-color: var(--sklearn-color-fitted-level-0);\n",
              "}\n",
              "\n",
              "/* on hover */\n",
              "#sk-container-id-1 div.sk-estimator:hover {\n",
              "  /* unfitted */\n",
              "  background-color: var(--sklearn-color-unfitted-level-2);\n",
              "}\n",
              "\n",
              "#sk-container-id-1 div.sk-estimator.fitted:hover {\n",
              "  /* fitted */\n",
              "  background-color: var(--sklearn-color-fitted-level-2);\n",
              "}\n",
              "\n",
              "/* Specification for estimator info (e.g. \"i\" and \"?\") */\n",
              "\n",
              "/* Common style for \"i\" and \"?\" */\n",
              "\n",
              ".sk-estimator-doc-link,\n",
              "a:link.sk-estimator-doc-link,\n",
              "a:visited.sk-estimator-doc-link {\n",
              "  float: right;\n",
              "  font-size: smaller;\n",
              "  line-height: 1em;\n",
              "  font-family: monospace;\n",
              "  background-color: var(--sklearn-color-background);\n",
              "  border-radius: 1em;\n",
              "  height: 1em;\n",
              "  width: 1em;\n",
              "  text-decoration: none !important;\n",
              "  margin-left: 1ex;\n",
              "  /* unfitted */\n",
              "  border: var(--sklearn-color-unfitted-level-1) 1pt solid;\n",
              "  color: var(--sklearn-color-unfitted-level-1);\n",
              "}\n",
              "\n",
              ".sk-estimator-doc-link.fitted,\n",
              "a:link.sk-estimator-doc-link.fitted,\n",
              "a:visited.sk-estimator-doc-link.fitted {\n",
              "  /* fitted */\n",
              "  border: var(--sklearn-color-fitted-level-1) 1pt solid;\n",
              "  color: var(--sklearn-color-fitted-level-1);\n",
              "}\n",
              "\n",
              "/* On hover */\n",
              "div.sk-estimator:hover .sk-estimator-doc-link:hover,\n",
              ".sk-estimator-doc-link:hover,\n",
              "div.sk-label-container:hover .sk-estimator-doc-link:hover,\n",
              ".sk-estimator-doc-link:hover {\n",
              "  /* unfitted */\n",
              "  background-color: var(--sklearn-color-unfitted-level-3);\n",
              "  color: var(--sklearn-color-background);\n",
              "  text-decoration: none;\n",
              "}\n",
              "\n",
              "div.sk-estimator.fitted:hover .sk-estimator-doc-link.fitted:hover,\n",
              ".sk-estimator-doc-link.fitted:hover,\n",
              "div.sk-label-container:hover .sk-estimator-doc-link.fitted:hover,\n",
              ".sk-estimator-doc-link.fitted:hover {\n",
              "  /* fitted */\n",
              "  background-color: var(--sklearn-color-fitted-level-3);\n",
              "  color: var(--sklearn-color-background);\n",
              "  text-decoration: none;\n",
              "}\n",
              "\n",
              "/* Span, style for the box shown on hovering the info icon */\n",
              ".sk-estimator-doc-link span {\n",
              "  display: none;\n",
              "  z-index: 9999;\n",
              "  position: relative;\n",
              "  font-weight: normal;\n",
              "  right: .2ex;\n",
              "  padding: .5ex;\n",
              "  margin: .5ex;\n",
              "  width: min-content;\n",
              "  min-width: 20ex;\n",
              "  max-width: 50ex;\n",
              "  color: var(--sklearn-color-text);\n",
              "  box-shadow: 2pt 2pt 4pt #999;\n",
              "  /* unfitted */\n",
              "  background: var(--sklearn-color-unfitted-level-0);\n",
              "  border: .5pt solid var(--sklearn-color-unfitted-level-3);\n",
              "}\n",
              "\n",
              ".sk-estimator-doc-link.fitted span {\n",
              "  /* fitted */\n",
              "  background: var(--sklearn-color-fitted-level-0);\n",
              "  border: var(--sklearn-color-fitted-level-3);\n",
              "}\n",
              "\n",
              ".sk-estimator-doc-link:hover span {\n",
              "  display: block;\n",
              "}\n",
              "\n",
              "/* \"?\"-specific style due to the `<a>` HTML tag */\n",
              "\n",
              "#sk-container-id-1 a.estimator_doc_link {\n",
              "  float: right;\n",
              "  font-size: 1rem;\n",
              "  line-height: 1em;\n",
              "  font-family: monospace;\n",
              "  background-color: var(--sklearn-color-background);\n",
              "  border-radius: 1rem;\n",
              "  height: 1rem;\n",
              "  width: 1rem;\n",
              "  text-decoration: none;\n",
              "  /* unfitted */\n",
              "  color: var(--sklearn-color-unfitted-level-1);\n",
              "  border: var(--sklearn-color-unfitted-level-1) 1pt solid;\n",
              "}\n",
              "\n",
              "#sk-container-id-1 a.estimator_doc_link.fitted {\n",
              "  /* fitted */\n",
              "  border: var(--sklearn-color-fitted-level-1) 1pt solid;\n",
              "  color: var(--sklearn-color-fitted-level-1);\n",
              "}\n",
              "\n",
              "/* On hover */\n",
              "#sk-container-id-1 a.estimator_doc_link:hover {\n",
              "  /* unfitted */\n",
              "  background-color: var(--sklearn-color-unfitted-level-3);\n",
              "  color: var(--sklearn-color-background);\n",
              "  text-decoration: none;\n",
              "}\n",
              "\n",
              "#sk-container-id-1 a.estimator_doc_link.fitted:hover {\n",
              "  /* fitted */\n",
              "  background-color: var(--sklearn-color-fitted-level-3);\n",
              "}\n",
              "</style><div id=\"sk-container-id-1\" class=\"sk-top-container\"><div class=\"sk-text-repr-fallback\"><pre>XGBClassifier(base_score=None, booster=None, callbacks=None,\n",
              "              colsample_bylevel=None, colsample_bynode=None,\n",
              "              colsample_bytree=None, device=None, early_stopping_rounds=None,\n",
              "              enable_categorical=False, eval_metric=None, feature_types=None,\n",
              "              gamma=None, grow_policy=None, importance_type=None,\n",
              "              interaction_constraints=None, learning_rate=None, max_bin=None,\n",
              "              max_cat_threshold=None, max_cat_to_onehot=None,\n",
              "              max_delta_step=None, max_depth=None, max_leaves=None,\n",
              "              min_child_weight=None, missing=nan, monotone_constraints=None,\n",
              "              multi_strategy=None, n_estimators=None, n_jobs=None,\n",
              "              num_parallel_tree=None, random_state=None, ...)</pre><b>In a Jupyter environment, please rerun this cell to show the HTML representation or trust the notebook. <br />On GitHub, the HTML representation is unable to render, please try loading this page with nbviewer.org.</b></div><div class=\"sk-container\" hidden><div class=\"sk-item\"><div class=\"sk-estimator fitted sk-toggleable\"><input class=\"sk-toggleable__control sk-hidden--visually\" id=\"sk-estimator-id-1\" type=\"checkbox\" checked><label for=\"sk-estimator-id-1\" class=\"sk-toggleable__label fitted sk-toggleable__label-arrow fitted\">&nbsp;XGBClassifier<span class=\"sk-estimator-doc-link fitted\">i<span>Fitted</span></span></label><div class=\"sk-toggleable__content fitted\"><pre>XGBClassifier(base_score=None, booster=None, callbacks=None,\n",
              "              colsample_bylevel=None, colsample_bynode=None,\n",
              "              colsample_bytree=None, device=None, early_stopping_rounds=None,\n",
              "              enable_categorical=False, eval_metric=None, feature_types=None,\n",
              "              gamma=None, grow_policy=None, importance_type=None,\n",
              "              interaction_constraints=None, learning_rate=None, max_bin=None,\n",
              "              max_cat_threshold=None, max_cat_to_onehot=None,\n",
              "              max_delta_step=None, max_depth=None, max_leaves=None,\n",
              "              min_child_weight=None, missing=nan, monotone_constraints=None,\n",
              "              multi_strategy=None, n_estimators=None, n_jobs=None,\n",
              "              num_parallel_tree=None, random_state=None, ...)</pre></div> </div></div></div></div>"
            ]
          },
          "metadata": {},
          "execution_count": 63
        }
      ]
    },
    {
      "cell_type": "code",
      "source": [
        "print(\"Model: XGBoost Classifier\")\n",
        "print(\"Train acc:\", xg.score(X_train, y_train))\n",
        "print(\"Test acc:\", xg.score(X_test, y_test))"
      ],
      "metadata": {
        "execution": {
          "iopub.status.busy": "2024-02-19T04:14:08.228386Z",
          "iopub.execute_input": "2024-02-19T04:14:08.228776Z",
          "iopub.status.idle": "2024-02-19T04:14:08.298288Z",
          "shell.execute_reply.started": "2024-02-19T04:14:08.228745Z",
          "shell.execute_reply": "2024-02-19T04:14:08.297505Z"
        },
        "trusted": true,
        "id": "JVcHa6vAgfTb",
        "colab": {
          "base_uri": "https://localhost:8080/"
        },
        "outputId": "99441f48-141f-4e0a-d1b7-be75973e52da"
      },
      "execution_count": 64,
      "outputs": [
        {
          "output_type": "stream",
          "name": "stdout",
          "text": [
            "Model: XGBoost Classifier\n",
            "Train acc: 0.9140296074969442\n",
            "Test acc: 0.8874080882352942\n"
          ]
        }
      ]
    },
    {
      "cell_type": "code",
      "source": [
        "print(\"Model: Logistic Regression\")\n",
        "print(\"Train acc:\", log.score(X_train, y_train))\n",
        "print(\"Test acc:\", log.score(X_test, y_test))"
      ],
      "metadata": {
        "execution": {
          "iopub.status.busy": "2024-02-19T04:14:11.018898Z",
          "iopub.execute_input": "2024-02-19T04:14:11.020087Z",
          "iopub.status.idle": "2024-02-19T04:14:11.030798Z",
          "shell.execute_reply.started": "2024-02-19T04:14:11.020046Z",
          "shell.execute_reply": "2024-02-19T04:14:11.030054Z"
        },
        "trusted": true,
        "id": "wz9sSnfBgfTb",
        "colab": {
          "base_uri": "https://localhost:8080/"
        },
        "outputId": "f83cddee-4cf7-4d14-854e-8bf24eb77859"
      },
      "execution_count": 65,
      "outputs": [
        {
          "output_type": "stream",
          "name": "stdout",
          "text": [
            "Model: Logistic Regression\n",
            "Train acc: 0.9177418624654805\n",
            "Test acc: 0.9050551470588235\n"
          ]
        }
      ]
    },
    {
      "cell_type": "markdown",
      "source": [
        "The base model has similar result to logistic regression."
      ],
      "metadata": {
        "id": "Tylfl28agfTc"
      }
    },
    {
      "cell_type": "markdown",
      "source": [
        "Hyper Parameter Tuning"
      ],
      "metadata": {
        "id": "R4I8jb-MgfTc"
      }
    },
    {
      "cell_type": "code",
      "source": [
        "# param_grid = {\n",
        "# 'max_depth': [3, 5, 8],\n",
        "# 'n_estimators': [100, 200, 400],\n",
        "# 'learning_rate': [0.01, 0.1, 0.3],\n",
        "# }"
      ],
      "metadata": {
        "id": "Kw6MGbfcgfTc"
      },
      "execution_count": 66,
      "outputs": []
    },
    {
      "cell_type": "code",
      "source": [
        "# Parameter based on grid search, the rest are commented after the first run\n",
        "best_model = XGBClassifier(objective='binary:logistic',max_depth=8, n_estimators=400, learning_rate=0.3)\n",
        "best_model.fit(X_train, y_train)\n",
        "\n",
        "# Best parameters: {'learning_rate': 0.3, 'max_depth': 8, 'n_estimators': 400}\n",
        "#grid_search = GridSearchCV(xg, param_grid, cv=5, scoring='f1_macro')\n",
        "\n",
        "#grid_search.fit(X_train, y_train)"
      ],
      "metadata": {
        "execution": {
          "iopub.status.busy": "2024-02-19T04:14:19.929988Z",
          "iopub.execute_input": "2024-02-19T04:14:19.930389Z",
          "iopub.status.idle": "2024-02-19T04:14:32.797953Z",
          "shell.execute_reply.started": "2024-02-19T04:14:19.930358Z",
          "shell.execute_reply": "2024-02-19T04:14:32.797244Z"
        },
        "trusted": true,
        "id": "Lo-yzkWDgfTc",
        "colab": {
          "base_uri": "https://localhost:8080/",
          "height": 274
        },
        "outputId": "8bf49536-999a-46b2-8c32-8a7593d7e78f"
      },
      "execution_count": 67,
      "outputs": [
        {
          "output_type": "execute_result",
          "data": {
            "text/plain": [
              "XGBClassifier(base_score=None, booster=None, callbacks=None,\n",
              "              colsample_bylevel=None, colsample_bynode=None,\n",
              "              colsample_bytree=None, device=None, early_stopping_rounds=None,\n",
              "              enable_categorical=False, eval_metric=None, feature_types=None,\n",
              "              gamma=None, grow_policy=None, importance_type=None,\n",
              "              interaction_constraints=None, learning_rate=0.3, max_bin=None,\n",
              "              max_cat_threshold=None, max_cat_to_onehot=None,\n",
              "              max_delta_step=None, max_depth=8, max_leaves=None,\n",
              "              min_child_weight=None, missing=nan, monotone_constraints=None,\n",
              "              multi_strategy=None, n_estimators=400, n_jobs=None,\n",
              "              num_parallel_tree=None, random_state=None, ...)"
            ],
            "text/html": [
              "<style>#sk-container-id-2 {\n",
              "  /* Definition of color scheme common for light and dark mode */\n",
              "  --sklearn-color-text: black;\n",
              "  --sklearn-color-line: gray;\n",
              "  /* Definition of color scheme for unfitted estimators */\n",
              "  --sklearn-color-unfitted-level-0: #fff5e6;\n",
              "  --sklearn-color-unfitted-level-1: #f6e4d2;\n",
              "  --sklearn-color-unfitted-level-2: #ffe0b3;\n",
              "  --sklearn-color-unfitted-level-3: chocolate;\n",
              "  /* Definition of color scheme for fitted estimators */\n",
              "  --sklearn-color-fitted-level-0: #f0f8ff;\n",
              "  --sklearn-color-fitted-level-1: #d4ebff;\n",
              "  --sklearn-color-fitted-level-2: #b3dbfd;\n",
              "  --sklearn-color-fitted-level-3: cornflowerblue;\n",
              "\n",
              "  /* Specific color for light theme */\n",
              "  --sklearn-color-text-on-default-background: var(--sg-text-color, var(--theme-code-foreground, var(--jp-content-font-color1, black)));\n",
              "  --sklearn-color-background: var(--sg-background-color, var(--theme-background, var(--jp-layout-color0, white)));\n",
              "  --sklearn-color-border-box: var(--sg-text-color, var(--theme-code-foreground, var(--jp-content-font-color1, black)));\n",
              "  --sklearn-color-icon: #696969;\n",
              "\n",
              "  @media (prefers-color-scheme: dark) {\n",
              "    /* Redefinition of color scheme for dark theme */\n",
              "    --sklearn-color-text-on-default-background: var(--sg-text-color, var(--theme-code-foreground, var(--jp-content-font-color1, white)));\n",
              "    --sklearn-color-background: var(--sg-background-color, var(--theme-background, var(--jp-layout-color0, #111)));\n",
              "    --sklearn-color-border-box: var(--sg-text-color, var(--theme-code-foreground, var(--jp-content-font-color1, white)));\n",
              "    --sklearn-color-icon: #878787;\n",
              "  }\n",
              "}\n",
              "\n",
              "#sk-container-id-2 {\n",
              "  color: var(--sklearn-color-text);\n",
              "}\n",
              "\n",
              "#sk-container-id-2 pre {\n",
              "  padding: 0;\n",
              "}\n",
              "\n",
              "#sk-container-id-2 input.sk-hidden--visually {\n",
              "  border: 0;\n",
              "  clip: rect(1px 1px 1px 1px);\n",
              "  clip: rect(1px, 1px, 1px, 1px);\n",
              "  height: 1px;\n",
              "  margin: -1px;\n",
              "  overflow: hidden;\n",
              "  padding: 0;\n",
              "  position: absolute;\n",
              "  width: 1px;\n",
              "}\n",
              "\n",
              "#sk-container-id-2 div.sk-dashed-wrapped {\n",
              "  border: 1px dashed var(--sklearn-color-line);\n",
              "  margin: 0 0.4em 0.5em 0.4em;\n",
              "  box-sizing: border-box;\n",
              "  padding-bottom: 0.4em;\n",
              "  background-color: var(--sklearn-color-background);\n",
              "}\n",
              "\n",
              "#sk-container-id-2 div.sk-container {\n",
              "  /* jupyter's `normalize.less` sets `[hidden] { display: none; }`\n",
              "     but bootstrap.min.css set `[hidden] { display: none !important; }`\n",
              "     so we also need the `!important` here to be able to override the\n",
              "     default hidden behavior on the sphinx rendered scikit-learn.org.\n",
              "     See: https://github.com/scikit-learn/scikit-learn/issues/21755 */\n",
              "  display: inline-block !important;\n",
              "  position: relative;\n",
              "}\n",
              "\n",
              "#sk-container-id-2 div.sk-text-repr-fallback {\n",
              "  display: none;\n",
              "}\n",
              "\n",
              "div.sk-parallel-item,\n",
              "div.sk-serial,\n",
              "div.sk-item {\n",
              "  /* draw centered vertical line to link estimators */\n",
              "  background-image: linear-gradient(var(--sklearn-color-text-on-default-background), var(--sklearn-color-text-on-default-background));\n",
              "  background-size: 2px 100%;\n",
              "  background-repeat: no-repeat;\n",
              "  background-position: center center;\n",
              "}\n",
              "\n",
              "/* Parallel-specific style estimator block */\n",
              "\n",
              "#sk-container-id-2 div.sk-parallel-item::after {\n",
              "  content: \"\";\n",
              "  width: 100%;\n",
              "  border-bottom: 2px solid var(--sklearn-color-text-on-default-background);\n",
              "  flex-grow: 1;\n",
              "}\n",
              "\n",
              "#sk-container-id-2 div.sk-parallel {\n",
              "  display: flex;\n",
              "  align-items: stretch;\n",
              "  justify-content: center;\n",
              "  background-color: var(--sklearn-color-background);\n",
              "  position: relative;\n",
              "}\n",
              "\n",
              "#sk-container-id-2 div.sk-parallel-item {\n",
              "  display: flex;\n",
              "  flex-direction: column;\n",
              "}\n",
              "\n",
              "#sk-container-id-2 div.sk-parallel-item:first-child::after {\n",
              "  align-self: flex-end;\n",
              "  width: 50%;\n",
              "}\n",
              "\n",
              "#sk-container-id-2 div.sk-parallel-item:last-child::after {\n",
              "  align-self: flex-start;\n",
              "  width: 50%;\n",
              "}\n",
              "\n",
              "#sk-container-id-2 div.sk-parallel-item:only-child::after {\n",
              "  width: 0;\n",
              "}\n",
              "\n",
              "/* Serial-specific style estimator block */\n",
              "\n",
              "#sk-container-id-2 div.sk-serial {\n",
              "  display: flex;\n",
              "  flex-direction: column;\n",
              "  align-items: center;\n",
              "  background-color: var(--sklearn-color-background);\n",
              "  padding-right: 1em;\n",
              "  padding-left: 1em;\n",
              "}\n",
              "\n",
              "\n",
              "/* Toggleable style: style used for estimator/Pipeline/ColumnTransformer box that is\n",
              "clickable and can be expanded/collapsed.\n",
              "- Pipeline and ColumnTransformer use this feature and define the default style\n",
              "- Estimators will overwrite some part of the style using the `sk-estimator` class\n",
              "*/\n",
              "\n",
              "/* Pipeline and ColumnTransformer style (default) */\n",
              "\n",
              "#sk-container-id-2 div.sk-toggleable {\n",
              "  /* Default theme specific background. It is overwritten whether we have a\n",
              "  specific estimator or a Pipeline/ColumnTransformer */\n",
              "  background-color: var(--sklearn-color-background);\n",
              "}\n",
              "\n",
              "/* Toggleable label */\n",
              "#sk-container-id-2 label.sk-toggleable__label {\n",
              "  cursor: pointer;\n",
              "  display: block;\n",
              "  width: 100%;\n",
              "  margin-bottom: 0;\n",
              "  padding: 0.5em;\n",
              "  box-sizing: border-box;\n",
              "  text-align: center;\n",
              "}\n",
              "\n",
              "#sk-container-id-2 label.sk-toggleable__label-arrow:before {\n",
              "  /* Arrow on the left of the label */\n",
              "  content: \"▸\";\n",
              "  float: left;\n",
              "  margin-right: 0.25em;\n",
              "  color: var(--sklearn-color-icon);\n",
              "}\n",
              "\n",
              "#sk-container-id-2 label.sk-toggleable__label-arrow:hover:before {\n",
              "  color: var(--sklearn-color-text);\n",
              "}\n",
              "\n",
              "/* Toggleable content - dropdown */\n",
              "\n",
              "#sk-container-id-2 div.sk-toggleable__content {\n",
              "  max-height: 0;\n",
              "  max-width: 0;\n",
              "  overflow: hidden;\n",
              "  text-align: left;\n",
              "  /* unfitted */\n",
              "  background-color: var(--sklearn-color-unfitted-level-0);\n",
              "}\n",
              "\n",
              "#sk-container-id-2 div.sk-toggleable__content.fitted {\n",
              "  /* fitted */\n",
              "  background-color: var(--sklearn-color-fitted-level-0);\n",
              "}\n",
              "\n",
              "#sk-container-id-2 div.sk-toggleable__content pre {\n",
              "  margin: 0.2em;\n",
              "  border-radius: 0.25em;\n",
              "  color: var(--sklearn-color-text);\n",
              "  /* unfitted */\n",
              "  background-color: var(--sklearn-color-unfitted-level-0);\n",
              "}\n",
              "\n",
              "#sk-container-id-2 div.sk-toggleable__content.fitted pre {\n",
              "  /* unfitted */\n",
              "  background-color: var(--sklearn-color-fitted-level-0);\n",
              "}\n",
              "\n",
              "#sk-container-id-2 input.sk-toggleable__control:checked~div.sk-toggleable__content {\n",
              "  /* Expand drop-down */\n",
              "  max-height: 200px;\n",
              "  max-width: 100%;\n",
              "  overflow: auto;\n",
              "}\n",
              "\n",
              "#sk-container-id-2 input.sk-toggleable__control:checked~label.sk-toggleable__label-arrow:before {\n",
              "  content: \"▾\";\n",
              "}\n",
              "\n",
              "/* Pipeline/ColumnTransformer-specific style */\n",
              "\n",
              "#sk-container-id-2 div.sk-label input.sk-toggleable__control:checked~label.sk-toggleable__label {\n",
              "  color: var(--sklearn-color-text);\n",
              "  background-color: var(--sklearn-color-unfitted-level-2);\n",
              "}\n",
              "\n",
              "#sk-container-id-2 div.sk-label.fitted input.sk-toggleable__control:checked~label.sk-toggleable__label {\n",
              "  background-color: var(--sklearn-color-fitted-level-2);\n",
              "}\n",
              "\n",
              "/* Estimator-specific style */\n",
              "\n",
              "/* Colorize estimator box */\n",
              "#sk-container-id-2 div.sk-estimator input.sk-toggleable__control:checked~label.sk-toggleable__label {\n",
              "  /* unfitted */\n",
              "  background-color: var(--sklearn-color-unfitted-level-2);\n",
              "}\n",
              "\n",
              "#sk-container-id-2 div.sk-estimator.fitted input.sk-toggleable__control:checked~label.sk-toggleable__label {\n",
              "  /* fitted */\n",
              "  background-color: var(--sklearn-color-fitted-level-2);\n",
              "}\n",
              "\n",
              "#sk-container-id-2 div.sk-label label.sk-toggleable__label,\n",
              "#sk-container-id-2 div.sk-label label {\n",
              "  /* The background is the default theme color */\n",
              "  color: var(--sklearn-color-text-on-default-background);\n",
              "}\n",
              "\n",
              "/* On hover, darken the color of the background */\n",
              "#sk-container-id-2 div.sk-label:hover label.sk-toggleable__label {\n",
              "  color: var(--sklearn-color-text);\n",
              "  background-color: var(--sklearn-color-unfitted-level-2);\n",
              "}\n",
              "\n",
              "/* Label box, darken color on hover, fitted */\n",
              "#sk-container-id-2 div.sk-label.fitted:hover label.sk-toggleable__label.fitted {\n",
              "  color: var(--sklearn-color-text);\n",
              "  background-color: var(--sklearn-color-fitted-level-2);\n",
              "}\n",
              "\n",
              "/* Estimator label */\n",
              "\n",
              "#sk-container-id-2 div.sk-label label {\n",
              "  font-family: monospace;\n",
              "  font-weight: bold;\n",
              "  display: inline-block;\n",
              "  line-height: 1.2em;\n",
              "}\n",
              "\n",
              "#sk-container-id-2 div.sk-label-container {\n",
              "  text-align: center;\n",
              "}\n",
              "\n",
              "/* Estimator-specific */\n",
              "#sk-container-id-2 div.sk-estimator {\n",
              "  font-family: monospace;\n",
              "  border: 1px dotted var(--sklearn-color-border-box);\n",
              "  border-radius: 0.25em;\n",
              "  box-sizing: border-box;\n",
              "  margin-bottom: 0.5em;\n",
              "  /* unfitted */\n",
              "  background-color: var(--sklearn-color-unfitted-level-0);\n",
              "}\n",
              "\n",
              "#sk-container-id-2 div.sk-estimator.fitted {\n",
              "  /* fitted */\n",
              "  background-color: var(--sklearn-color-fitted-level-0);\n",
              "}\n",
              "\n",
              "/* on hover */\n",
              "#sk-container-id-2 div.sk-estimator:hover {\n",
              "  /* unfitted */\n",
              "  background-color: var(--sklearn-color-unfitted-level-2);\n",
              "}\n",
              "\n",
              "#sk-container-id-2 div.sk-estimator.fitted:hover {\n",
              "  /* fitted */\n",
              "  background-color: var(--sklearn-color-fitted-level-2);\n",
              "}\n",
              "\n",
              "/* Specification for estimator info (e.g. \"i\" and \"?\") */\n",
              "\n",
              "/* Common style for \"i\" and \"?\" */\n",
              "\n",
              ".sk-estimator-doc-link,\n",
              "a:link.sk-estimator-doc-link,\n",
              "a:visited.sk-estimator-doc-link {\n",
              "  float: right;\n",
              "  font-size: smaller;\n",
              "  line-height: 1em;\n",
              "  font-family: monospace;\n",
              "  background-color: var(--sklearn-color-background);\n",
              "  border-radius: 1em;\n",
              "  height: 1em;\n",
              "  width: 1em;\n",
              "  text-decoration: none !important;\n",
              "  margin-left: 1ex;\n",
              "  /* unfitted */\n",
              "  border: var(--sklearn-color-unfitted-level-1) 1pt solid;\n",
              "  color: var(--sklearn-color-unfitted-level-1);\n",
              "}\n",
              "\n",
              ".sk-estimator-doc-link.fitted,\n",
              "a:link.sk-estimator-doc-link.fitted,\n",
              "a:visited.sk-estimator-doc-link.fitted {\n",
              "  /* fitted */\n",
              "  border: var(--sklearn-color-fitted-level-1) 1pt solid;\n",
              "  color: var(--sklearn-color-fitted-level-1);\n",
              "}\n",
              "\n",
              "/* On hover */\n",
              "div.sk-estimator:hover .sk-estimator-doc-link:hover,\n",
              ".sk-estimator-doc-link:hover,\n",
              "div.sk-label-container:hover .sk-estimator-doc-link:hover,\n",
              ".sk-estimator-doc-link:hover {\n",
              "  /* unfitted */\n",
              "  background-color: var(--sklearn-color-unfitted-level-3);\n",
              "  color: var(--sklearn-color-background);\n",
              "  text-decoration: none;\n",
              "}\n",
              "\n",
              "div.sk-estimator.fitted:hover .sk-estimator-doc-link.fitted:hover,\n",
              ".sk-estimator-doc-link.fitted:hover,\n",
              "div.sk-label-container:hover .sk-estimator-doc-link.fitted:hover,\n",
              ".sk-estimator-doc-link.fitted:hover {\n",
              "  /* fitted */\n",
              "  background-color: var(--sklearn-color-fitted-level-3);\n",
              "  color: var(--sklearn-color-background);\n",
              "  text-decoration: none;\n",
              "}\n",
              "\n",
              "/* Span, style for the box shown on hovering the info icon */\n",
              ".sk-estimator-doc-link span {\n",
              "  display: none;\n",
              "  z-index: 9999;\n",
              "  position: relative;\n",
              "  font-weight: normal;\n",
              "  right: .2ex;\n",
              "  padding: .5ex;\n",
              "  margin: .5ex;\n",
              "  width: min-content;\n",
              "  min-width: 20ex;\n",
              "  max-width: 50ex;\n",
              "  color: var(--sklearn-color-text);\n",
              "  box-shadow: 2pt 2pt 4pt #999;\n",
              "  /* unfitted */\n",
              "  background: var(--sklearn-color-unfitted-level-0);\n",
              "  border: .5pt solid var(--sklearn-color-unfitted-level-3);\n",
              "}\n",
              "\n",
              ".sk-estimator-doc-link.fitted span {\n",
              "  /* fitted */\n",
              "  background: var(--sklearn-color-fitted-level-0);\n",
              "  border: var(--sklearn-color-fitted-level-3);\n",
              "}\n",
              "\n",
              ".sk-estimator-doc-link:hover span {\n",
              "  display: block;\n",
              "}\n",
              "\n",
              "/* \"?\"-specific style due to the `<a>` HTML tag */\n",
              "\n",
              "#sk-container-id-2 a.estimator_doc_link {\n",
              "  float: right;\n",
              "  font-size: 1rem;\n",
              "  line-height: 1em;\n",
              "  font-family: monospace;\n",
              "  background-color: var(--sklearn-color-background);\n",
              "  border-radius: 1rem;\n",
              "  height: 1rem;\n",
              "  width: 1rem;\n",
              "  text-decoration: none;\n",
              "  /* unfitted */\n",
              "  color: var(--sklearn-color-unfitted-level-1);\n",
              "  border: var(--sklearn-color-unfitted-level-1) 1pt solid;\n",
              "}\n",
              "\n",
              "#sk-container-id-2 a.estimator_doc_link.fitted {\n",
              "  /* fitted */\n",
              "  border: var(--sklearn-color-fitted-level-1) 1pt solid;\n",
              "  color: var(--sklearn-color-fitted-level-1);\n",
              "}\n",
              "\n",
              "/* On hover */\n",
              "#sk-container-id-2 a.estimator_doc_link:hover {\n",
              "  /* unfitted */\n",
              "  background-color: var(--sklearn-color-unfitted-level-3);\n",
              "  color: var(--sklearn-color-background);\n",
              "  text-decoration: none;\n",
              "}\n",
              "\n",
              "#sk-container-id-2 a.estimator_doc_link.fitted:hover {\n",
              "  /* fitted */\n",
              "  background-color: var(--sklearn-color-fitted-level-3);\n",
              "}\n",
              "</style><div id=\"sk-container-id-2\" class=\"sk-top-container\"><div class=\"sk-text-repr-fallback\"><pre>XGBClassifier(base_score=None, booster=None, callbacks=None,\n",
              "              colsample_bylevel=None, colsample_bynode=None,\n",
              "              colsample_bytree=None, device=None, early_stopping_rounds=None,\n",
              "              enable_categorical=False, eval_metric=None, feature_types=None,\n",
              "              gamma=None, grow_policy=None, importance_type=None,\n",
              "              interaction_constraints=None, learning_rate=0.3, max_bin=None,\n",
              "              max_cat_threshold=None, max_cat_to_onehot=None,\n",
              "              max_delta_step=None, max_depth=8, max_leaves=None,\n",
              "              min_child_weight=None, missing=nan, monotone_constraints=None,\n",
              "              multi_strategy=None, n_estimators=400, n_jobs=None,\n",
              "              num_parallel_tree=None, random_state=None, ...)</pre><b>In a Jupyter environment, please rerun this cell to show the HTML representation or trust the notebook. <br />On GitHub, the HTML representation is unable to render, please try loading this page with nbviewer.org.</b></div><div class=\"sk-container\" hidden><div class=\"sk-item\"><div class=\"sk-estimator fitted sk-toggleable\"><input class=\"sk-toggleable__control sk-hidden--visually\" id=\"sk-estimator-id-2\" type=\"checkbox\" checked><label for=\"sk-estimator-id-2\" class=\"sk-toggleable__label fitted sk-toggleable__label-arrow fitted\">&nbsp;XGBClassifier<span class=\"sk-estimator-doc-link fitted\">i<span>Fitted</span></span></label><div class=\"sk-toggleable__content fitted\"><pre>XGBClassifier(base_score=None, booster=None, callbacks=None,\n",
              "              colsample_bylevel=None, colsample_bynode=None,\n",
              "              colsample_bytree=None, device=None, early_stopping_rounds=None,\n",
              "              enable_categorical=False, eval_metric=None, feature_types=None,\n",
              "              gamma=None, grow_policy=None, importance_type=None,\n",
              "              interaction_constraints=None, learning_rate=0.3, max_bin=None,\n",
              "              max_cat_threshold=None, max_cat_to_onehot=None,\n",
              "              max_delta_step=None, max_depth=8, max_leaves=None,\n",
              "              min_child_weight=None, missing=nan, monotone_constraints=None,\n",
              "              multi_strategy=None, n_estimators=400, n_jobs=None,\n",
              "              num_parallel_tree=None, random_state=None, ...)</pre></div> </div></div></div></div>"
            ]
          },
          "metadata": {},
          "execution_count": 67
        }
      ]
    },
    {
      "cell_type": "code",
      "source": [
        "# best_model = grid_search.best_estimator_\n",
        "# best_params = grid_search.best_params_\n",
        "\n",
        "# print(\"Best model:\", best_model)\n",
        "# print(\"Best parameters:\", best_params)\n",
        "\n",
        "# Best model: XGBClassifier(base_score=None, booster=None, callbacks=None,\n",
        "#               colsample_bylevel=None, colsample_bynode=None,\n",
        "#               colsample_bytree=None, device=None, early_stopping_rounds=None,\n",
        "#               enable_categorical=False, eval_metric=None, feature_types=None,\n",
        "#               gamma=None, grow_policy=None, importance_type=None,\n",
        "#               interaction_constraints=None, learning_rate=0.3, max_bin=None,\n",
        "#               max_cat_threshold=None, max_cat_to_onehot=None,\n",
        "#               max_delta_step=None, max_depth=8, max_leaves=None,\n",
        "#               min_child_weight=None, missing=nan, monotone_constraints=None,\n",
        "#               multi_strategy=None, n_estimators=400, n_jobs=None,\n",
        "#               num_parallel_tree=None, random_state=None, ...)\n",
        "# Best parameters: {'learning_rate': 0.3, 'max_depth': 8, 'n_estimators': 400}"
      ],
      "metadata": {
        "id": "u6fpP8_JgfTc"
      },
      "execution_count": 68,
      "outputs": []
    },
    {
      "cell_type": "code",
      "source": [
        "print(\"Model: XGBoost Classifier\")\n",
        "print(\"Train acc:\", best_model.score(X_train, y_train))\n",
        "print(\"Test acc:\", best_model.score(X_test, y_test))"
      ],
      "metadata": {
        "execution": {
          "iopub.status.busy": "2024-02-19T04:14:41.33089Z",
          "iopub.execute_input": "2024-02-19T04:14:41.33197Z",
          "iopub.status.idle": "2024-02-19T04:14:41.698115Z",
          "shell.execute_reply.started": "2024-02-19T04:14:41.331935Z",
          "shell.execute_reply": "2024-02-19T04:14:41.697117Z"
        },
        "trusted": true,
        "id": "8cXMjJ7GgfTc",
        "colab": {
          "base_uri": "https://localhost:8080/"
        },
        "outputId": "44064457-6489-4b93-bd36-0715413b8d83"
      },
      "execution_count": 69,
      "outputs": [
        {
          "output_type": "stream",
          "name": "stdout",
          "text": [
            "Model: XGBoost Classifier\n",
            "Train acc: 0.9571279822536104\n",
            "Test acc: 0.8975183823529411\n"
          ]
        }
      ]
    },
    {
      "cell_type": "markdown",
      "source": [
        "It seems a little overfit. The test accuracy not much better than the base model, 0.01 higher."
      ],
      "metadata": {
        "id": "eDTINrQpgfTc"
      }
    },
    {
      "cell_type": "code",
      "source": [
        "pr_train = best_model.predict_proba(X_train)[:, 1]\n",
        "pr_test = best_model.predict_proba(X_test)[:, 1]\n",
        "print(\"Train AUC:\", roc_auc_score(y_train, pr_train))\n",
        "print(\"Test AUC:\", roc_auc_score(y_test, pr_test))"
      ],
      "metadata": {
        "execution": {
          "iopub.status.busy": "2024-02-19T04:14:48.765457Z",
          "iopub.execute_input": "2024-02-19T04:14:48.765839Z",
          "iopub.status.idle": "2024-02-19T04:14:49.112343Z",
          "shell.execute_reply.started": "2024-02-19T04:14:48.765812Z",
          "shell.execute_reply": "2024-02-19T04:14:49.11119Z"
        },
        "trusted": true,
        "id": "JhQ9VadsgfTc",
        "colab": {
          "base_uri": "https://localhost:8080/"
        },
        "outputId": "a7fc70f3-546d-4189-fc00-b2b0e95b2fe9"
      },
      "execution_count": 70,
      "outputs": [
        {
          "output_type": "stream",
          "name": "stdout",
          "text": [
            "Train AUC: 0.9878273700196286\n",
            "Test AUC: 0.9544764267543937\n"
          ]
        }
      ]
    },
    {
      "cell_type": "code",
      "source": [
        "report(best_model)"
      ],
      "metadata": {
        "execution": {
          "iopub.status.busy": "2024-02-19T04:14:52.830311Z",
          "iopub.execute_input": "2024-02-19T04:14:52.830703Z",
          "iopub.status.idle": "2024-02-19T04:14:53.192958Z",
          "shell.execute_reply.started": "2024-02-19T04:14:52.83067Z",
          "shell.execute_reply": "2024-02-19T04:14:53.191734Z"
        },
        "trusted": true,
        "id": "ijK9kM3HgfTc",
        "colab": {
          "base_uri": "https://localhost:8080/",
          "height": 610
        },
        "outputId": "10664d01-fbe2-45e7-e3fa-53014733e58e"
      },
      "execution_count": 71,
      "outputs": [
        {
          "output_type": "stream",
          "name": "stdout",
          "text": [
            "              precision    recall  f1-score   support\n",
            "\n",
            "    negative       0.85      0.84      0.85      3674\n",
            "    positive       0.92      0.93      0.92      7206\n",
            "\n",
            "    accuracy                           0.90     10880\n",
            "   macro avg       0.89      0.88      0.88     10880\n",
            "weighted avg       0.90      0.90      0.90     10880\n",
            "\n"
          ]
        },
        {
          "output_type": "display_data",
          "data": {
            "text/plain": [
              "<Figure size 640x480 with 2 Axes>"
            ],
            "image/png": "[encoded data removed]"
          },
          "metadata": {}
        }
      ]
    },
    {
      "cell_type": "markdown",
      "source": [
        "Similar result and even slightly worse compare to logistic regression. Reasonable considering the mislabeled class and limitation."
      ],
      "metadata": {
        "id": "rk8VPDgpgfTc"
      }
    },
    {
      "cell_type": "code",
      "source": [
        "df.head()"
      ],
      "metadata": {
        "execution": {
          "iopub.status.busy": "2024-02-19T04:15:00.590554Z",
          "iopub.execute_input": "2024-02-19T04:15:00.590968Z",
          "iopub.status.idle": "2024-02-19T04:15:00.610727Z",
          "shell.execute_reply.started": "2024-02-19T04:15:00.590935Z",
          "shell.execute_reply": "2024-02-19T04:15:00.609407Z"
        },
        "trusted": true,
        "id": "7m949HU9gfTd",
        "colab": {
          "base_uri": "https://localhost:8080/",
          "height": 539
        },
        "outputId": "2773a7f4-0871-41d4-cb25-a09411a81c50"
      },
      "execution_count": 72,
      "outputs": [
        {
          "output_type": "execute_result",
          "data": {
            "text/plain": [
              "                                                text  score  \\\n",
              "0                            akun gopay saya di blok      1   \n",
              "2  Kenapa sih dari kemarin sy buka aplikasi gojek...      4   \n",
              "3  Baru download gojek dan hape baru trus ditop u...      1   \n",
              "4                                             Mantap      5   \n",
              "5                                              Bagus      4   \n",
              "\n",
              "                  date app_version    target  target_binary app_version_cut  \\\n",
              "0  2022-01-21 10:52:12       4.9.3  negative              0             4.9   \n",
              "2  2021-11-29 22:58:12       4.9.3  positive              1             4.9   \n",
              "3  2022-09-03 15:21:17       4.9.3  negative              0             4.9   \n",
              "4  2022-01-15 10:05:27       4.9.3  positive              1             4.9   \n",
              "5  2022-02-01 05:50:40       4.9.3  positive              1             4.9   \n",
              "\n",
              "                                      text_processed  \\\n",
              "0                                    akun gopay blok   \n",
              "2  sih kemarin buka aplikasi gojek kasih bintang ...   \n",
              "3  download gojek hape top lu gopay transaksi dia...   \n",
              "4                                             mantap   \n",
              "5                                              bagus   \n",
              "\n",
              "                                              tokens  \\\n",
              "0                      [akun, gopay, saya, di, blok]   \n",
              "2  [kenapa, sih, dari, kemarin, saya, buka, aplik...   \n",
              "3  [baru, download, gojek, dan, hape, baru, terus...   \n",
              "4                                           [mantap]   \n",
              "5                                            [bagus]   \n",
              "\n",
              "                             tokens_without_stopword prediction  \\\n",
              "0                                [akun, gopay, blok]   negative   \n",
              "2  [sih, kemarin, buka, aplikasi, gojek, kasih, b...   negative   \n",
              "3  [download, gojek, hape, top, lu, gopay, transa...   positive   \n",
              "4                                           [mantap]   positive   \n",
              "5                                            [bagus]   positive   \n",
              "\n",
              "   prediction_confidence  \n",
              "0               0.798842  \n",
              "2               0.541668  \n",
              "3               0.634071  \n",
              "4               0.995213  \n",
              "5               0.982354  "
            ],
            "text/html": [
              "\n",
              "  <div id=\"df-423bfd5f-7601-468a-891e-614553834962\" class=\"colab-df-container\">\n",
              "    <div>\n",
              "<style scoped>\n",
              "    .dataframe tbody tr th:only-of-type {\n",
              "        vertical-align: middle;\n",
              "    }\n",
              "\n",
              "    .dataframe tbody tr th {\n",
              "        vertical-align: top;\n",
              "    }\n",
              "\n",
              "    .dataframe thead th {\n",
              "        text-align: right;\n",
              "    }\n",
              "</style>\n",
              "<table border=\"1\" class=\"dataframe\">\n",
              "  <thead>\n",
              "    <tr style=\"text-align: right;\">\n",
              "      <th></th>\n",
              "      <th>text</th>\n",
              "      <th>score</th>\n",
              "      <th>date</th>\n",
              "      <th>app_version</th>\n",
              "      <th>target</th>\n",
              "      <th>target_binary</th>\n",
              "      <th>app_version_cut</th>\n",
              "      <th>text_processed</th>\n",
              "      <th>tokens</th>\n",
              "      <th>tokens_without_stopword</th>\n",
              "      <th>prediction</th>\n",
              "      <th>prediction_confidence</th>\n",
              "    </tr>\n",
              "  </thead>\n",
              "  <tbody>\n",
              "    <tr>\n",
              "      <th>0</th>\n",
              "      <td>akun gopay saya di blok</td>\n",
              "      <td>1</td>\n",
              "      <td>2022-01-21 10:52:12</td>\n",
              "      <td>4.9.3</td>\n",
              "      <td>negative</td>\n",
              "      <td>0</td>\n",
              "      <td>4.9</td>\n",
              "      <td>akun gopay blok</td>\n",
              "      <td>[akun, gopay, saya, di, blok]</td>\n",
              "      <td>[akun, gopay, blok]</td>\n",
              "      <td>negative</td>\n",
              "      <td>0.798842</td>\n",
              "    </tr>\n",
              "    <tr>\n",
              "      <th>2</th>\n",
              "      <td>Kenapa sih dari kemarin sy buka aplikasi gojek...</td>\n",
              "      <td>4</td>\n",
              "      <td>2021-11-29 22:58:12</td>\n",
              "      <td>4.9.3</td>\n",
              "      <td>positive</td>\n",
              "      <td>1</td>\n",
              "      <td>4.9</td>\n",
              "      <td>sih kemarin buka aplikasi gojek kasih bintang ...</td>\n",
              "      <td>[kenapa, sih, dari, kemarin, saya, buka, aplik...</td>\n",
              "      <td>[sih, kemarin, buka, aplikasi, gojek, kasih, b...</td>\n",
              "      <td>negative</td>\n",
              "      <td>0.541668</td>\n",
              "    </tr>\n",
              "    <tr>\n",
              "      <th>3</th>\n",
              "      <td>Baru download gojek dan hape baru trus ditop u...</td>\n",
              "      <td>1</td>\n",
              "      <td>2022-09-03 15:21:17</td>\n",
              "      <td>4.9.3</td>\n",
              "      <td>negative</td>\n",
              "      <td>0</td>\n",
              "      <td>4.9</td>\n",
              "      <td>download gojek hape top lu gopay transaksi dia...</td>\n",
              "      <td>[baru, download, gojek, dan, hape, baru, terus...</td>\n",
              "      <td>[download, gojek, hape, top, lu, gopay, transa...</td>\n",
              "      <td>positive</td>\n",
              "      <td>0.634071</td>\n",
              "    </tr>\n",
              "    <tr>\n",
              "      <th>4</th>\n",
              "      <td>Mantap</td>\n",
              "      <td>5</td>\n",
              "      <td>2022-01-15 10:05:27</td>\n",
              "      <td>4.9.3</td>\n",
              "      <td>positive</td>\n",
              "      <td>1</td>\n",
              "      <td>4.9</td>\n",
              "      <td>mantap</td>\n",
              "      <td>[mantap]</td>\n",
              "      <td>[mantap]</td>\n",
              "      <td>positive</td>\n",
              "      <td>0.995213</td>\n",
              "    </tr>\n",
              "    <tr>\n",
              "      <th>5</th>\n",
              "      <td>Bagus</td>\n",
              "      <td>4</td>\n",
              "      <td>2022-02-01 05:50:40</td>\n",
              "      <td>4.9.3</td>\n",
              "      <td>positive</td>\n",
              "      <td>1</td>\n",
              "      <td>4.9</td>\n",
              "      <td>bagus</td>\n",
              "      <td>[bagus]</td>\n",
              "      <td>[bagus]</td>\n",
              "      <td>positive</td>\n",
              "      <td>0.982354</td>\n",
              "    </tr>\n",
              "  </tbody>\n",
              "</table>\n",
              "</div>\n",
              "    <div class=\"colab-df-buttons\">\n",
              "\n",
              "  <div class=\"colab-df-container\">\n",
              "    <button class=\"colab-df-convert\" onclick=\"convertToInteractive('df-423bfd5f-7601-468a-891e-614553834962')\"\n",
              "            title=\"Convert this dataframe to an interactive table.\"\n",
              "            style=\"display:none;\">\n",
              "\n",
              "  <svg xmlns=\"http://www.w3.org/2000/svg\" height=\"24px\" viewBox=\"0 -960 960 960\">\n",
              "    <path d=\"M120-120v-720h720v720H120Zm60-500h600v-160H180v160Zm220 220h160v-160H400v160Zm0 220h160v-160H400v160ZM180-400h160v-160H180v160Zm440 0h160v-160H620v160ZM180-180h160v-160H180v160Zm440 0h160v-160H620v160Z\"/>\n",
              "  </svg>\n",
              "    </button>\n",
              "\n",
              "  <style>\n",
              "    .colab-df-container {\n",
              "      display:flex;\n",
              "      gap: 12px;\n",
              "    }\n",
              "\n",
              "    .colab-df-convert {\n",
              "      background-color: #E8F0FE;\n",
              "      border: none;\n",
              "      border-radius: 50%;\n",
              "      cursor: pointer;\n",
              "      display: none;\n",
              "      fill: #1967D2;\n",
              "      height: 32px;\n",
              "      padding: 0 0 0 0;\n",
              "      width: 32px;\n",
              "    }\n",
              "\n",
              "    .colab-df-convert:hover {\n",
              "      background-color: #E2EBFA;\n",
              "      box-shadow: 0px 1px 2px rgba(60, 64, 67, 0.3), 0px 1px 3px 1px rgba(60, 64, 67, 0.15);\n",
              "      fill: #174EA6;\n",
              "    }\n",
              "\n",
              "    .colab-df-buttons div {\n",
              "      margin-bottom: 4px;\n",
              "    }\n",
              "\n",
              "    [theme=dark] .colab-df-convert {\n",
              "      background-color: #3B4455;\n",
              "      fill: #D2E3FC;\n",
              "    }\n",
              "\n",
              "    [theme=dark] .colab-df-convert:hover {\n",
              "      background-color: #434B5C;\n",
              "      box-shadow: 0px 1px 3px 1px rgba(0, 0, 0, 0.15);\n",
              "      filter: drop-shadow(0px 1px 2px rgba(0, 0, 0, 0.3));\n",
              "      fill: #FFFFFF;\n",
              "    }\n",
              "  </style>\n",
              "\n",
              "    <script>\n",
              "      const buttonEl =\n",
              "        document.querySelector('#df-423bfd5f-7601-468a-891e-614553834962 button.colab-df-convert');\n",
              "      buttonEl.style.display =\n",
              "        google.colab.kernel.accessAllowed ? 'block' : 'none';\n",
              "\n",
              "      async function convertToInteractive(key) {\n",
              "        const element = document.querySelector('#df-423bfd5f-7601-468a-891e-614553834962');\n",
              "        const dataTable =\n",
              "          await google.colab.kernel.invokeFunction('convertToInteractive',\n",
              "                                                    [key], {});\n",
              "        if (!dataTable) return;\n",
              "\n",
              "        const docLinkHtml = 'Like what you see? Visit the ' +\n",
              "          '<a target=\"_blank\" href=https://colab.research.google.com/notebooks/data_table.ipynb>data table notebook</a>'\n",
              "          + ' to learn more about interactive tables.';\n",
              "        element.innerHTML = '';\n",
              "        dataTable['output_type'] = 'display_data';\n",
              "        await google.colab.output.renderOutput(dataTable, element);\n",
              "        const docLink = document.createElement('div');\n",
              "        docLink.innerHTML = docLinkHtml;\n",
              "        element.appendChild(docLink);\n",
              "      }\n",
              "    </script>\n",
              "  </div>\n",
              "\n",
              "\n",
              "<div id=\"df-4ad82c8d-40c8-4d39-b2f7-d07373c162d2\">\n",
              "  <button class=\"colab-df-quickchart\" onclick=\"quickchart('df-4ad82c8d-40c8-4d39-b2f7-d07373c162d2')\"\n",
              "            title=\"Suggest charts\"\n",
              "            style=\"display:none;\">\n",
              "\n",
              "<svg xmlns=\"http://www.w3.org/2000/svg\" height=\"24px\"viewBox=\"0 0 24 24\"\n",
              "     width=\"24px\">\n",
              "    <g>\n",
              "        <path d=\"M19 3H5c-1.1 0-2 .9-2 2v14c0 1.1.9 2 2 2h14c1.1 0 2-.9 2-2V5c0-1.1-.9-2-2-2zM9 17H7v-7h2v7zm4 0h-2V7h2v10zm4 0h-2v-4h2v4z\"/>\n",
              "    </g>\n",
              "</svg>\n",
              "  </button>\n",
              "\n",
              "<style>\n",
              "  .colab-df-quickchart {\n",
              "      --bg-color: #E8F0FE;\n",
              "      --fill-color: #1967D2;\n",
              "      --hover-bg-color: #E2EBFA;\n",
              "      --hover-fill-color: #174EA6;\n",
              "      --disabled-fill-color: #AAA;\n",
              "      --disabled-bg-color: #DDD;\n",
              "  }\n",
              "\n",
              "  [theme=dark] .colab-df-quickchart {\n",
              "      --bg-color: #3B4455;\n",
              "      --fill-color: #D2E3FC;\n",
              "      --hover-bg-color: #434B5C;\n",
              "      --hover-fill-color: #FFFFFF;\n",
              "      --disabled-bg-color: #3B4455;\n",
              "      --disabled-fill-color: #666;\n",
              "  }\n",
              "\n",
              "  .colab-df-quickchart {\n",
              "    background-color: var(--bg-color);\n",
              "    border: none;\n",
              "    border-radius: 50%;\n",
              "    cursor: pointer;\n",
              "    display: none;\n",
              "    fill: var(--fill-color);\n",
              "    height: 32px;\n",
              "    padding: 0;\n",
              "    width: 32px;\n",
              "  }\n",
              "\n",
              "  .colab-df-quickchart:hover {\n",
              "    background-color: var(--hover-bg-color);\n",
              "    box-shadow: 0 1px 2px rgba(60, 64, 67, 0.3), 0 1px 3px 1px rgba(60, 64, 67, 0.15);\n",
              "    fill: var(--button-hover-fill-color);\n",
              "  }\n",
              "\n",
              "  .colab-df-quickchart-complete:disabled,\n",
              "  .colab-df-quickchart-complete:disabled:hover {\n",
              "    background-color: var(--disabled-bg-color);\n",
              "    fill: var(--disabled-fill-color);\n",
              "    box-shadow: none;\n",
              "  }\n",
              "\n",
              "  .colab-df-spinner {\n",
              "    border: 2px solid var(--fill-color);\n",
              "    border-color: transparent;\n",
              "    border-bottom-color: var(--fill-color);\n",
              "    animation:\n",
              "      spin 1s steps(1) infinite;\n",
              "  }\n",
              "\n",
              "  @keyframes spin {\n",
              "    0% {\n",
              "      border-color: transparent;\n",
              "      border-bottom-color: var(--fill-color);\n",
              "      border-left-color: var(--fill-color);\n",
              "    }\n",
              "    20% {\n",
              "      border-color: transparent;\n",
              "      border-left-color: var(--fill-color);\n",
              "      border-top-color: var(--fill-color);\n",
              "    }\n",
              "    30% {\n",
              "      border-color: transparent;\n",
              "      border-left-color: var(--fill-color);\n",
              "      border-top-color: var(--fill-color);\n",
              "      border-right-color: var(--fill-color);\n",
              "    }\n",
              "    40% {\n",
              "      border-color: transparent;\n",
              "      border-right-color: var(--fill-color);\n",
              "      border-top-color: var(--fill-color);\n",
              "    }\n",
              "    60% {\n",
              "      border-color: transparent;\n",
              "      border-right-color: var(--fill-color);\n",
              "    }\n",
              "    80% {\n",
              "      border-color: transparent;\n",
              "      border-right-color: var(--fill-color);\n",
              "      border-bottom-color: var(--fill-color);\n",
              "    }\n",
              "    90% {\n",
              "      border-color: transparent;\n",
              "      border-bottom-color: var(--fill-color);\n",
              "    }\n",
              "  }\n",
              "</style>\n",
              "\n",
              "  <script>\n",
              "    async function quickchart(key) {\n",
              "      const quickchartButtonEl =\n",
              "        document.querySelector('#' + key + ' button');\n",
              "      quickchartButtonEl.disabled = true;  // To prevent multiple clicks.\n",
              "      quickchartButtonEl.classList.add('colab-df-spinner');\n",
              "      try {\n",
              "        const charts = await google.colab.kernel.invokeFunction(\n",
              "            'suggestCharts', [key], {});\n",
              "      } catch (error) {\n",
              "        console.error('Error during call to suggestCharts:', error);\n",
              "      }\n",
              "      quickchartButtonEl.classList.remove('colab-df-spinner');\n",
              "      quickchartButtonEl.classList.add('colab-df-quickchart-complete');\n",
              "    }\n",
              "    (() => {\n",
              "      let quickchartButtonEl =\n",
              "        document.querySelector('#df-4ad82c8d-40c8-4d39-b2f7-d07373c162d2 button');\n",
              "      quickchartButtonEl.style.display =\n",
              "        google.colab.kernel.accessAllowed ? 'block' : 'none';\n",
              "    })();\n",
              "  </script>\n",
              "</div>\n",
              "\n",
              "    </div>\n",
              "  </div>\n"
            ],
            "application/vnd.google.colaboratory.intrinsic+json": {
              "type": "dataframe",
              "variable_name": "df",
              "summary": "{\n  \"name\": \"df\",\n  \"rows\": 32969,\n  \"fields\": [\n    {\n      \"column\": \"text\",\n      \"properties\": {\n        \"dtype\": \"string\",\n        \"num_unique_values\": 23858,\n        \"samples\": [\n          \"Kecewa sistem paylatwr seekarang\",\n          \"Terpercata\",\n          \"Mantap Aplikasinya\"\n        ],\n        \"semantic_type\": \"\",\n        \"description\": \"\"\n      }\n    },\n    {\n      \"column\": \"score\",\n      \"properties\": {\n        \"dtype\": \"number\",\n        \"std\": 1,\n        \"min\": 1,\n        \"max\": 5,\n        \"num_unique_values\": 4,\n        \"samples\": [\n          4,\n          2,\n          1\n        ],\n        \"semantic_type\": \"\",\n        \"description\": \"\"\n      }\n    },\n    {\n      \"column\": \"date\",\n      \"properties\": {\n        \"dtype\": \"object\",\n        \"num_unique_values\": 32919,\n        \"samples\": [\n          \"2023-12-23 22:26:47\",\n          \"2023-09-17 09:47:30\",\n          \"2023-12-21 05:02:37\"\n        ],\n        \"semantic_type\": \"\",\n        \"description\": \"\"\n      }\n    },\n    {\n      \"column\": \"app_version\",\n      \"properties\": {\n        \"dtype\": \"category\",\n        \"num_unique_values\": 31,\n        \"samples\": [\n          \"4.71.3\",\n          \"4.78.1\",\n          \"4.74.2\"\n        ],\n        \"semantic_type\": \"\",\n        \"description\": \"\"\n      }\n    },\n    {\n      \"column\": \"target\",\n      \"properties\": {\n        \"dtype\": \"category\",\n        \"num_unique_values\": 2,\n        \"samples\": [\n          \"positive\",\n          \"negative\"\n        ],\n        \"semantic_type\": \"\",\n        \"description\": \"\"\n      }\n    },\n    {\n      \"column\": \"target_binary\",\n      \"properties\": {\n        \"dtype\": \"number\",\n        \"std\": 0,\n        \"min\": 0,\n        \"max\": 1,\n        \"num_unique_values\": 2,\n        \"samples\": [\n          1,\n          0\n        ],\n        \"semantic_type\": \"\",\n        \"description\": \"\"\n      }\n    },\n    {\n      \"column\": \"app_version_cut\",\n      \"properties\": {\n        \"dtype\": \"category\",\n        \"num_unique_values\": 3,\n        \"samples\": [\n          \"4.9\",\n          \"4.8\"\n        ],\n        \"semantic_type\": \"\",\n        \"description\": \"\"\n      }\n    },\n    {\n      \"column\": \"text_processed\",\n      \"properties\": {\n        \"dtype\": \"string\",\n        \"num_unique_values\": 20716,\n        \"samples\": [\n          \"pelayananok\",\n          \"gopaylater lambat denda gede banget parah\"\n        ],\n        \"semantic_type\": \"\",\n        \"description\": \"\"\n      }\n    },\n    {\n      \"column\": \"tokens\",\n      \"properties\": {\n        \"dtype\": \"object\",\n        \"semantic_type\": \"\",\n        \"description\": \"\"\n      }\n    },\n    {\n      \"column\": \"tokens_without_stopword\",\n      \"properties\": {\n        \"dtype\": \"object\",\n        \"semantic_type\": \"\",\n        \"description\": \"\"\n      }\n    },\n    {\n      \"column\": \"prediction\",\n      \"properties\": {\n        \"dtype\": \"category\",\n        \"num_unique_values\": 2,\n        \"samples\": [\n          \"positive\",\n          \"negative\"\n        ],\n        \"semantic_type\": \"\",\n        \"description\": \"\"\n      }\n    },\n    {\n      \"column\": \"prediction_confidence\",\n      \"properties\": {\n        \"dtype\": \"number\",\n        \"std\": 0.13534648429637572,\n        \"min\": 0.5000134819383886,\n        \"max\": 0.9998402440467505,\n        \"num_unique_values\": 18959,\n        \"samples\": [\n          0.6607376510082232,\n          0.5835427879524193\n        ],\n        \"semantic_type\": \"\",\n        \"description\": \"\"\n      }\n    }\n  ]\n}"
            }
          },
          "metadata": {},
          "execution_count": 72
        }
      ]
    },
    {
      "cell_type": "code",
      "source": [
        "df.to_csv('gojek_appreview_v47_49_preprocessed.csv')"
      ],
      "metadata": {
        "_kg_hide-input": true,
        "id": "zyu3MkHygfTd"
      },
      "execution_count": 73,
      "outputs": []
    },
    {
      "cell_type": "markdown",
      "source": [
        "# Deep Learning Model, taking into account word order and meaning with Embedding.\n",
        "\n",
        "At this point, instead of continuing with deep learning models, we should get back to the data and re-label it instead for better performance. So on this points onward, purely for educational only."
      ],
      "metadata": {
        "id": "JvTkpbqSgfTd"
      }
    },
    {
      "cell_type": "code",
      "source": [
        "import tensorflow as tf\n",
        "from tensorflow.keras.preprocessing.text import Tokenizer\n",
        "from tensorflow.keras.preprocessing.sequence import pad_sequences\n",
        "from tensorflow.keras.layers import Dense, Input, GlobalMaxPooling1D\n",
        "from tensorflow.keras.layers import LSTM, Conv1D, MaxPooling1D, Embedding\n",
        "from tensorflow.keras.models import Model\n",
        "from tensorflow.keras.losses import SparseCategoricalCrossentropy"
      ],
      "metadata": {
        "execution": {
          "iopub.status.busy": "2024-02-19T04:15:16.389827Z",
          "iopub.execute_input": "2024-02-19T04:15:16.390223Z",
          "iopub.status.idle": "2024-02-19T04:15:29.381606Z",
          "shell.execute_reply.started": "2024-02-19T04:15:16.390194Z",
          "shell.execute_reply": "2024-02-19T04:15:29.380566Z"
        },
        "trusted": true,
        "id": "Y3SZgFXCgfTd"
      },
      "execution_count": 74,
      "outputs": []
    },
    {
      "cell_type": "code",
      "source": [
        "# number of classes\n",
        "K = df['target_binary'].max() + 1\n",
        "K"
      ],
      "metadata": {
        "execution": {
          "iopub.status.busy": "2024-02-19T04:15:29.382992Z",
          "iopub.execute_input": "2024-02-19T04:15:29.383552Z",
          "iopub.status.idle": "2024-02-19T04:15:29.390562Z",
          "shell.execute_reply.started": "2024-02-19T04:15:29.383525Z",
          "shell.execute_reply": "2024-02-19T04:15:29.389509Z"
        },
        "trusted": true,
        "id": "kHTRQnMbgfTd",
        "colab": {
          "base_uri": "https://localhost:8080/"
        },
        "outputId": "13a73116-7709-4a6c-fc7a-2059a8d4217a"
      },
      "execution_count": 75,
      "outputs": [
        {
          "output_type": "execute_result",
          "data": {
            "text/plain": [
              "2"
            ]
          },
          "metadata": {},
          "execution_count": 75
        }
      ]
    },
    {
      "cell_type": "code",
      "source": [
        "df_train, df_test = train_test_split(df, test_size=0.33, random_state=42)"
      ],
      "metadata": {
        "execution": {
          "iopub.status.busy": "2024-02-19T04:15:33.236113Z",
          "iopub.execute_input": "2024-02-19T04:15:33.236588Z",
          "iopub.status.idle": "2024-02-19T04:15:33.264081Z",
          "shell.execute_reply.started": "2024-02-19T04:15:33.236555Z",
          "shell.execute_reply": "2024-02-19T04:15:33.263109Z"
        },
        "trusted": true,
        "id": "yyxHnalJgfTd"
      },
      "execution_count": 76,
      "outputs": []
    },
    {
      "cell_type": "code",
      "source": [
        "MAX_VOCAB_SIZE = 3000\n",
        "tokenizer = Tokenizer(num_words=MAX_VOCAB_SIZE)\n",
        "tokenizer.fit_on_texts(df_train['tokens_without_stopword'])\n",
        "sequences_train = tokenizer.texts_to_sequences(df_train['tokens_without_stopword'])\n",
        "sequences_test = tokenizer.texts_to_sequences(df_test['tokens_without_stopword'])"
      ],
      "metadata": {
        "execution": {
          "iopub.status.busy": "2024-02-19T04:15:37.776413Z",
          "iopub.execute_input": "2024-02-19T04:15:37.776779Z",
          "iopub.status.idle": "2024-02-19T04:15:38.059815Z",
          "shell.execute_reply.started": "2024-02-19T04:15:37.776742Z",
          "shell.execute_reply": "2024-02-19T04:15:38.058877Z"
        },
        "trusted": true,
        "id": "b-fS4osogfTd"
      },
      "execution_count": 77,
      "outputs": []
    },
    {
      "cell_type": "code",
      "source": [
        "# get word -> integer mapping\n",
        "word2idx = tokenizer.word_index\n",
        "V = len(word2idx)\n",
        "print('Found %s unique tokens.' % V)"
      ],
      "metadata": {
        "execution": {
          "iopub.status.busy": "2024-02-19T04:15:41.493926Z",
          "iopub.execute_input": "2024-02-19T04:15:41.494394Z",
          "iopub.status.idle": "2024-02-19T04:15:41.500354Z",
          "shell.execute_reply.started": "2024-02-19T04:15:41.494357Z",
          "shell.execute_reply": "2024-02-19T04:15:41.499347Z"
        },
        "trusted": true,
        "id": "-1K6120vgfTd",
        "colab": {
          "base_uri": "https://localhost:8080/"
        },
        "outputId": "7bc9b5bd-430b-48b4-ac47-e72bd07f4b68"
      },
      "execution_count": 78,
      "outputs": [
        {
          "output_type": "stream",
          "name": "stdout",
          "text": [
            "Found 11877 unique tokens.\n"
          ]
        }
      ]
    },
    {
      "cell_type": "code",
      "source": [
        "# pad sequences to get a N x T matrix\n",
        "data_train = pad_sequences(sequences_train)\n",
        "print('Shape of data train tensor:', data_train.shape)\n",
        "\n",
        "# sequence length\n",
        "T = data_train.shape[1]"
      ],
      "metadata": {
        "execution": {
          "iopub.status.busy": "2024-02-19T04:15:43.859022Z",
          "iopub.execute_input": "2024-02-19T04:15:43.85978Z",
          "iopub.status.idle": "2024-02-19T04:15:43.926464Z",
          "shell.execute_reply.started": "2024-02-19T04:15:43.859742Z",
          "shell.execute_reply": "2024-02-19T04:15:43.925355Z"
        },
        "trusted": true,
        "id": "sdLgDqtKgfTd",
        "colab": {
          "base_uri": "https://localhost:8080/"
        },
        "outputId": "060fbc5e-03af-4216-89a6-6f82d0319dc8"
      },
      "execution_count": 79,
      "outputs": [
        {
          "output_type": "stream",
          "name": "stdout",
          "text": [
            "Shape of data train tensor: (22089, 55)\n"
          ]
        }
      ]
    },
    {
      "cell_type": "code",
      "source": [
        "data_test = pad_sequences(sequences_test, maxlen=T)\n",
        "print('Shape of data test tensor:', data_test.shape)"
      ],
      "metadata": {
        "execution": {
          "iopub.status.busy": "2024-02-19T04:15:47.285948Z",
          "iopub.execute_input": "2024-02-19T04:15:47.287027Z",
          "iopub.status.idle": "2024-02-19T04:15:47.324326Z",
          "shell.execute_reply.started": "2024-02-19T04:15:47.286963Z",
          "shell.execute_reply": "2024-02-19T04:15:47.323109Z"
        },
        "trusted": true,
        "id": "WfbGdL5AgfTd",
        "colab": {
          "base_uri": "https://localhost:8080/"
        },
        "outputId": "83c181e6-e45c-402d-9a4c-85a6b9a4ad1e"
      },
      "execution_count": 80,
      "outputs": [
        {
          "output_type": "stream",
          "name": "stdout",
          "text": [
            "Shape of data test tensor: (10880, 55)\n"
          ]
        }
      ]
    },
    {
      "cell_type": "markdown",
      "source": [
        "# **RNN LSTM**"
      ],
      "metadata": {
        "id": "NWAnqCnOgfTe"
      }
    },
    {
      "source": [
        "# number of classes\n",
        "K = df['target_binary'].max() + 1\n",
        "# Convert K to an integer if it's a float\n",
        "K = int(K)"
      ],
      "cell_type": "code",
      "metadata": {
        "id": "2an0zz7WguAW"
      },
      "execution_count": 81,
      "outputs": []
    },
    {
      "cell_type": "code",
      "source": [
        "# embedding dimensionality\n",
        "D = 10\n",
        "\n",
        "# size of the embedding to (V + 1) x D, because the first index starts from 1 and not 0\n",
        "\n",
        "i = Input(shape=(T,))\n",
        "x = Embedding(V + 1, D)(i)\n",
        "x = LSTM(16, return_sequences=True)(x)\n",
        "x = GlobalMaxPooling1D()(x)\n",
        "x = Dense(K)(x)\n",
        "\n",
        "model = Model(i, x)"
      ],
      "metadata": {
        "id": "pds9Ri2ggPd-"
      },
      "execution_count": 82,
      "outputs": []
    },
    {
      "cell_type": "code",
      "source": [
        "model.compile(\n",
        "  loss=SparseCategoricalCrossentropy(from_logits=True),\n",
        "  optimizer='adam',\n",
        "  metrics=['accuracy']\n",
        ")"
      ],
      "metadata": {
        "execution": {
          "iopub.status.busy": "2024-02-19T04:16:35.309412Z",
          "iopub.execute_input": "2024-02-19T04:16:35.309789Z",
          "iopub.status.idle": "2024-02-19T04:16:35.333227Z",
          "shell.execute_reply.started": "2024-02-19T04:16:35.309761Z",
          "shell.execute_reply": "2024-02-19T04:16:35.332311Z"
        },
        "trusted": true,
        "id": "u_nE8pmngfTe"
      },
      "execution_count": 83,
      "outputs": []
    },
    {
      "cell_type": "code",
      "source": [
        "model.summary()"
      ],
      "metadata": {
        "execution": {
          "iopub.status.busy": "2024-02-19T04:16:39.929962Z",
          "iopub.execute_input": "2024-02-19T04:16:39.930377Z",
          "iopub.status.idle": "2024-02-19T04:16:39.954581Z",
          "shell.execute_reply.started": "2024-02-19T04:16:39.930345Z",
          "shell.execute_reply": "2024-02-19T04:16:39.953636Z"
        },
        "trusted": true,
        "id": "jNHecQcCgfTe",
        "colab": {
          "base_uri": "https://localhost:8080/",
          "height": 314
        },
        "outputId": "18f4291c-a6cf-4407-ebf9-72683e576524"
      },
      "execution_count": 84,
      "outputs": [
        {
          "output_type": "display_data",
          "data": {
            "text/plain": [
              "\u001b[1mModel: \"functional\"\u001b[0m\n"
            ],
            "text/html": [
              "<pre style=\"white-space:pre;overflow-x:auto;line-height:normal;font-family:Menlo,'DejaVu Sans Mono',consolas,'Courier New',monospace\"><span style=\"font-weight: bold\">Model: \"functional\"</span>\n",
              "</pre>\n"
            ]
          },
          "metadata": {}
        },
        {
          "output_type": "display_data",
          "data": {
            "text/plain": [
              "┏━━━━━━━━━━━━━━━━━━━━━━━━━━━━━━━━━━━━━━┳━━━━━━━━━━━━━━━━━━━━━━━━━━━━━┳━━━━━━━━━━━━━━━━━┓\n",
              "┃\u001b[1m \u001b[0m\u001b[1mLayer (type)                        \u001b[0m\u001b[1m \u001b[0m┃\u001b[1m \u001b[0m\u001b[1mOutput Shape               \u001b[0m\u001b[1m \u001b[0m┃\u001b[1m \u001b[0m\u001b[1m        Param #\u001b[0m\u001b[1m \u001b[0m┃\n",
              "┡━━━━━━━━━━━━━━━━━━━━━━━━━━━━━━━━━━━━━━╇━━━━━━━━━━━━━━━━━━━━━━━━━━━━━╇━━━━━━━━━━━━━━━━━┩\n",
              "│ input_layer (\u001b[38;5;33mInputLayer\u001b[0m)             │ (\u001b[38;5;45mNone\u001b[0m, \u001b[38;5;34m55\u001b[0m)                  │               \u001b[38;5;34m0\u001b[0m │\n",
              "├──────────────────────────────────────┼─────────────────────────────┼─────────────────┤\n",
              "│ embedding (\u001b[38;5;33mEmbedding\u001b[0m)                │ (\u001b[38;5;45mNone\u001b[0m, \u001b[38;5;34m55\u001b[0m, \u001b[38;5;34m10\u001b[0m)              │         \u001b[38;5;34m118,780\u001b[0m │\n",
              "├──────────────────────────────────────┼─────────────────────────────┼─────────────────┤\n",
              "│ lstm (\u001b[38;5;33mLSTM\u001b[0m)                          │ (\u001b[38;5;45mNone\u001b[0m, \u001b[38;5;34m55\u001b[0m, \u001b[38;5;34m16\u001b[0m)              │           \u001b[38;5;34m1,728\u001b[0m │\n",
              "├──────────────────────────────────────┼─────────────────────────────┼─────────────────┤\n",
              "│ global_max_pooling1d                 │ (\u001b[38;5;45mNone\u001b[0m, \u001b[38;5;34m16\u001b[0m)                  │               \u001b[38;5;34m0\u001b[0m │\n",
              "│ (\u001b[38;5;33mGlobalMaxPooling1D\u001b[0m)                 │                             │                 │\n",
              "├──────────────────────────────────────┼─────────────────────────────┼─────────────────┤\n",
              "│ dense (\u001b[38;5;33mDense\u001b[0m)                        │ (\u001b[38;5;45mNone\u001b[0m, \u001b[38;5;34m2\u001b[0m)                   │              \u001b[38;5;34m34\u001b[0m │\n",
              "└──────────────────────────────────────┴─────────────────────────────┴─────────────────┘\n"
            ],
            "text/html": [
              "<pre style=\"white-space:pre;overflow-x:auto;line-height:normal;font-family:Menlo,'DejaVu Sans Mono',consolas,'Courier New',monospace\">┏━━━━━━━━━━━━━━━━━━━━━━━━━━━━━━━━━━━━━━┳━━━━━━━━━━━━━━━━━━━━━━━━━━━━━┳━━━━━━━━━━━━━━━━━┓\n",
              "┃<span style=\"font-weight: bold\"> Layer (type)                         </span>┃<span style=\"font-weight: bold\"> Output Shape                </span>┃<span style=\"font-weight: bold\">         Param # </span>┃\n",
              "┡━━━━━━━━━━━━━━━━━━━━━━━━━━━━━━━━━━━━━━╇━━━━━━━━━━━━━━━━━━━━━━━━━━━━━╇━━━━━━━━━━━━━━━━━┩\n",
              "│ input_layer (<span style=\"color: #0087ff; text-decoration-color: #0087ff\">InputLayer</span>)             │ (<span style=\"color: #00d7ff; text-decoration-color: #00d7ff\">None</span>, <span style=\"color: #00af00; text-decoration-color: #00af00\">55</span>)                  │               <span style=\"color: #00af00; text-decoration-color: #00af00\">0</span> │\n",
              "├──────────────────────────────────────┼─────────────────────────────┼─────────────────┤\n",
              "│ embedding (<span style=\"color: #0087ff; text-decoration-color: #0087ff\">Embedding</span>)                │ (<span style=\"color: #00d7ff; text-decoration-color: #00d7ff\">None</span>, <span style=\"color: #00af00; text-decoration-color: #00af00\">55</span>, <span style=\"color: #00af00; text-decoration-color: #00af00\">10</span>)              │         <span style=\"color: #00af00; text-decoration-color: #00af00\">118,780</span> │\n",
              "├──────────────────────────────────────┼─────────────────────────────┼─────────────────┤\n",
              "│ lstm (<span style=\"color: #0087ff; text-decoration-color: #0087ff\">LSTM</span>)                          │ (<span style=\"color: #00d7ff; text-decoration-color: #00d7ff\">None</span>, <span style=\"color: #00af00; text-decoration-color: #00af00\">55</span>, <span style=\"color: #00af00; text-decoration-color: #00af00\">16</span>)              │           <span style=\"color: #00af00; text-decoration-color: #00af00\">1,728</span> │\n",
              "├──────────────────────────────────────┼─────────────────────────────┼─────────────────┤\n",
              "│ global_max_pooling1d                 │ (<span style=\"color: #00d7ff; text-decoration-color: #00d7ff\">None</span>, <span style=\"color: #00af00; text-decoration-color: #00af00\">16</span>)                  │               <span style=\"color: #00af00; text-decoration-color: #00af00\">0</span> │\n",
              "│ (<span style=\"color: #0087ff; text-decoration-color: #0087ff\">GlobalMaxPooling1D</span>)                 │                             │                 │\n",
              "├──────────────────────────────────────┼─────────────────────────────┼─────────────────┤\n",
              "│ dense (<span style=\"color: #0087ff; text-decoration-color: #0087ff\">Dense</span>)                        │ (<span style=\"color: #00d7ff; text-decoration-color: #00d7ff\">None</span>, <span style=\"color: #00af00; text-decoration-color: #00af00\">2</span>)                   │              <span style=\"color: #00af00; text-decoration-color: #00af00\">34</span> │\n",
              "└──────────────────────────────────────┴─────────────────────────────┴─────────────────┘\n",
              "</pre>\n"
            ]
          },
          "metadata": {}
        },
        {
          "output_type": "display_data",
          "data": {
            "text/plain": [
              "\u001b[1m Total params: \u001b[0m\u001b[38;5;34m120,542\u001b[0m (470.87 KB)\n"
            ],
            "text/html": [
              "<pre style=\"white-space:pre;overflow-x:auto;line-height:normal;font-family:Menlo,'DejaVu Sans Mono',consolas,'Courier New',monospace\"><span style=\"font-weight: bold\"> Total params: </span><span style=\"color: #00af00; text-decoration-color: #00af00\">120,542</span> (470.87 KB)\n",
              "</pre>\n"
            ]
          },
          "metadata": {}
        },
        {
          "output_type": "display_data",
          "data": {
            "text/plain": [
              "\u001b[1m Trainable params: \u001b[0m\u001b[38;5;34m120,542\u001b[0m (470.87 KB)\n"
            ],
            "text/html": [
              "<pre style=\"white-space:pre;overflow-x:auto;line-height:normal;font-family:Menlo,'DejaVu Sans Mono',consolas,'Courier New',monospace\"><span style=\"font-weight: bold\"> Trainable params: </span><span style=\"color: #00af00; text-decoration-color: #00af00\">120,542</span> (470.87 KB)\n",
              "</pre>\n"
            ]
          },
          "metadata": {}
        },
        {
          "output_type": "display_data",
          "data": {
            "text/plain": [
              "\u001b[1m Non-trainable params: \u001b[0m\u001b[38;5;34m0\u001b[0m (0.00 B)\n"
            ],
            "text/html": [
              "<pre style=\"white-space:pre;overflow-x:auto;line-height:normal;font-family:Menlo,'DejaVu Sans Mono',consolas,'Courier New',monospace\"><span style=\"font-weight: bold\"> Non-trainable params: </span><span style=\"color: #00af00; text-decoration-color: #00af00\">0</span> (0.00 B)\n",
              "</pre>\n"
            ]
          },
          "metadata": {}
        }
      ]
    },
    {
      "cell_type": "code",
      "source": [
        "print('Training model...')\n",
        "r = model.fit(\n",
        "  data_train,\n",
        "  df_train['target_binary'],\n",
        "  epochs=5,\n",
        "  validation_data=(data_test, df_test['target_binary'])\n",
        ")"
      ],
      "metadata": {
        "execution": {
          "iopub.status.busy": "2024-02-19T04:16:43.372222Z",
          "iopub.execute_input": "2024-02-19T04:16:43.372617Z",
          "iopub.status.idle": "2024-02-19T04:18:07.445335Z",
          "shell.execute_reply.started": "2024-02-19T04:16:43.372584Z",
          "shell.execute_reply": "2024-02-19T04:18:07.444116Z"
        },
        "trusted": true,
        "id": "_9GSJLKMgfTe",
        "colab": {
          "base_uri": "https://localhost:8080/"
        },
        "outputId": "e9bfad7b-225d-4183-8b6a-779ef36ab63f"
      },
      "execution_count": 85,
      "outputs": [
        {
          "output_type": "stream",
          "name": "stdout",
          "text": [
            "Training model...\n",
            "Epoch 1/5\n",
            "\u001b[1m691/691\u001b[0m \u001b[32m━━━━━━━━━━━━━━━━━━━━\u001b[0m\u001b[37m\u001b[0m \u001b[1m22s\u001b[0m 29ms/step - accuracy: 0.7358 - loss: 0.5298 - val_accuracy: 0.8985 - val_loss: 0.2717\n",
            "Epoch 2/5\n",
            "\u001b[1m691/691\u001b[0m \u001b[32m━━━━━━━━━━━━━━━━━━━━\u001b[0m\u001b[37m\u001b[0m \u001b[1m19s\u001b[0m 27ms/step - accuracy: 0.9049 - loss: 0.2548 - val_accuracy: 0.9093 - val_loss: 0.2377\n",
            "Epoch 3/5\n",
            "\u001b[1m691/691\u001b[0m \u001b[32m━━━━━━━━━━━━━━━━━━━━\u001b[0m\u001b[37m\u001b[0m \u001b[1m22s\u001b[0m 28ms/step - accuracy: 0.9197 - loss: 0.2217 - val_accuracy: 0.9105 - val_loss: 0.2335\n",
            "Epoch 4/5\n",
            "\u001b[1m691/691\u001b[0m \u001b[32m━━━━━━━━━━━━━━━━━━━━\u001b[0m\u001b[37m\u001b[0m \u001b[1m20s\u001b[0m 28ms/step - accuracy: 0.9251 - loss: 0.2051 - val_accuracy: 0.9082 - val_loss: 0.2357\n",
            "Epoch 5/5\n",
            "\u001b[1m691/691\u001b[0m \u001b[32m━━━━━━━━━━━━━━━━━━━━\u001b[0m\u001b[37m\u001b[0m \u001b[1m20s\u001b[0m 28ms/step - accuracy: 0.9281 - loss: 0.1956 - val_accuracy: 0.9093 - val_loss: 0.2359\n"
          ]
        }
      ]
    },
    {
      "cell_type": "code",
      "source": [
        "# plot loss per iteration\n",
        "plt.plot(r.history['loss'], label='train loss')\n",
        "plt.plot(r.history['val_loss'], label='val loss')\n",
        "plt.legend();"
      ],
      "metadata": {
        "execution": {
          "iopub.status.busy": "2024-02-19T04:18:07.448797Z",
          "iopub.execute_input": "2024-02-19T04:18:07.449269Z",
          "iopub.status.idle": "2024-02-19T04:18:07.706391Z",
          "shell.execute_reply.started": "2024-02-19T04:18:07.449234Z",
          "shell.execute_reply": "2024-02-19T04:18:07.705084Z"
        },
        "trusted": true,
        "id": "4FW4A09igfTe",
        "colab": {
          "base_uri": "https://localhost:8080/",
          "height": 430
        },
        "outputId": "6e2d4cc8-d26a-4d2e-f2aa-3ab89e58bd4e"
      },
      "execution_count": 86,
      "outputs": [
        {
          "output_type": "display_data",
          "data": {
            "text/plain": [
              "<Figure size 640x480 with 1 Axes>"
            ],
            "image/png": "[encoded data removed]"
          },
          "metadata": {}
        }
      ]
    },
    {
      "cell_type": "code",
      "source": [
        "# plot accuracy per iteration\n",
        "plt.plot(r.history['accuracy'], label='train acc')\n",
        "plt.plot(r.history['val_accuracy'], label='val acc')\n",
        "plt.legend();"
      ],
      "metadata": {
        "execution": {
          "iopub.status.busy": "2024-02-19T04:18:12.287165Z",
          "iopub.execute_input": "2024-02-19T04:18:12.288186Z",
          "iopub.status.idle": "2024-02-19T04:18:12.521193Z",
          "shell.execute_reply.started": "2024-02-19T04:18:12.28815Z",
          "shell.execute_reply": "2024-02-19T04:18:12.519932Z"
        },
        "trusted": true,
        "id": "KqxLpuWYgfTe",
        "colab": {
          "base_uri": "https://localhost:8080/",
          "height": 430
        },
        "outputId": "a4e46ac3-90a4-4f82-a5f4-2796a3c363a5"
      },
      "execution_count": 87,
      "outputs": [
        {
          "output_type": "display_data",
          "data": {
            "text/plain": [
              "<Figure size 640x480 with 1 Axes>"
            ],
            "image/png": "[encoded data removed]"
          },
          "metadata": {}
        }
      ]
    },
    {
      "cell_type": "markdown",
      "source": [
        "# **CNN**"
      ],
      "metadata": {
        "id": "p_zsMOe0gfTe"
      }
    },
    {
      "cell_type": "code",
      "source": [
        "D = 10\n",
        "\n",
        "i = Input(shape=(T,))\n",
        "x = Embedding(V + 1, D)(i)\n",
        "x = Conv1D(16, 3, activation='relu')(x)\n",
        "x = GlobalMaxPooling1D()(x)\n",
        "x = Dense(K)(x)\n",
        "\n",
        "model = Model(i, x)"
      ],
      "metadata": {
        "execution": {
          "iopub.status.busy": "2024-02-19T04:18:16.38427Z",
          "iopub.execute_input": "2024-02-19T04:18:16.384649Z",
          "iopub.status.idle": "2024-02-19T04:18:16.445279Z",
          "shell.execute_reply.started": "2024-02-19T04:18:16.384621Z",
          "shell.execute_reply": "2024-02-19T04:18:16.443713Z"
        },
        "trusted": true,
        "id": "RkFAJl88gfTe"
      },
      "execution_count": 88,
      "outputs": []
    },
    {
      "cell_type": "code",
      "source": [
        "model.summary()"
      ],
      "metadata": {
        "execution": {
          "iopub.status.busy": "2024-02-19T04:18:19.809993Z",
          "iopub.execute_input": "2024-02-19T04:18:19.81042Z",
          "iopub.status.idle": "2024-02-19T04:18:19.837881Z",
          "shell.execute_reply.started": "2024-02-19T04:18:19.810372Z",
          "shell.execute_reply": "2024-02-19T04:18:19.83689Z"
        },
        "trusted": true,
        "id": "wje3l2RwgfTe",
        "colab": {
          "base_uri": "https://localhost:8080/",
          "height": 314
        },
        "outputId": "9fe63165-a18a-420a-e1b8-d694ebc537cd"
      },
      "execution_count": 89,
      "outputs": [
        {
          "output_type": "display_data",
          "data": {
            "text/plain": [
              "\u001b[1mModel: \"functional_1\"\u001b[0m\n"
            ],
            "text/html": [
              "<pre style=\"white-space:pre;overflow-x:auto;line-height:normal;font-family:Menlo,'DejaVu Sans Mono',consolas,'Courier New',monospace\"><span style=\"font-weight: bold\">Model: \"functional_1\"</span>\n",
              "</pre>\n"
            ]
          },
          "metadata": {}
        },
        {
          "output_type": "display_data",
          "data": {
            "text/plain": [
              "┏━━━━━━━━━━━━━━━━━━━━━━━━━━━━━━━━━━━━━━┳━━━━━━━━━━━━━━━━━━━━━━━━━━━━━┳━━━━━━━━━━━━━━━━━┓\n",
              "┃\u001b[1m \u001b[0m\u001b[1mLayer (type)                        \u001b[0m\u001b[1m \u001b[0m┃\u001b[1m \u001b[0m\u001b[1mOutput Shape               \u001b[0m\u001b[1m \u001b[0m┃\u001b[1m \u001b[0m\u001b[1m        Param #\u001b[0m\u001b[1m \u001b[0m┃\n",
              "┡━━━━━━━━━━━━━━━━━━━━━━━━━━━━━━━━━━━━━━╇━━━━━━━━━━━━━━━━━━━━━━━━━━━━━╇━━━━━━━━━━━━━━━━━┩\n",
              "│ input_layer_1 (\u001b[38;5;33mInputLayer\u001b[0m)           │ (\u001b[38;5;45mNone\u001b[0m, \u001b[38;5;34m55\u001b[0m)                  │               \u001b[38;5;34m0\u001b[0m │\n",
              "├──────────────────────────────────────┼─────────────────────────────┼─────────────────┤\n",
              "│ embedding_1 (\u001b[38;5;33mEmbedding\u001b[0m)              │ (\u001b[38;5;45mNone\u001b[0m, \u001b[38;5;34m55\u001b[0m, \u001b[38;5;34m10\u001b[0m)              │         \u001b[38;5;34m118,780\u001b[0m │\n",
              "├──────────────────────────────────────┼─────────────────────────────┼─────────────────┤\n",
              "│ conv1d (\u001b[38;5;33mConv1D\u001b[0m)                      │ (\u001b[38;5;45mNone\u001b[0m, \u001b[38;5;34m53\u001b[0m, \u001b[38;5;34m16\u001b[0m)              │             \u001b[38;5;34m496\u001b[0m │\n",
              "├──────────────────────────────────────┼─────────────────────────────┼─────────────────┤\n",
              "│ global_max_pooling1d_1               │ (\u001b[38;5;45mNone\u001b[0m, \u001b[38;5;34m16\u001b[0m)                  │               \u001b[38;5;34m0\u001b[0m │\n",
              "│ (\u001b[38;5;33mGlobalMaxPooling1D\u001b[0m)                 │                             │                 │\n",
              "├──────────────────────────────────────┼─────────────────────────────┼─────────────────┤\n",
              "│ dense_1 (\u001b[38;5;33mDense\u001b[0m)                      │ (\u001b[38;5;45mNone\u001b[0m, \u001b[38;5;34m2\u001b[0m)                   │              \u001b[38;5;34m34\u001b[0m │\n",
              "└──────────────────────────────────────┴─────────────────────────────┴─────────────────┘\n"
            ],
            "text/html": [
              "<pre style=\"white-space:pre;overflow-x:auto;line-height:normal;font-family:Menlo,'DejaVu Sans Mono',consolas,'Courier New',monospace\">┏━━━━━━━━━━━━━━━━━━━━━━━━━━━━━━━━━━━━━━┳━━━━━━━━━━━━━━━━━━━━━━━━━━━━━┳━━━━━━━━━━━━━━━━━┓\n",
              "┃<span style=\"font-weight: bold\"> Layer (type)                         </span>┃<span style=\"font-weight: bold\"> Output Shape                </span>┃<span style=\"font-weight: bold\">         Param # </span>┃\n",
              "┡━━━━━━━━━━━━━━━━━━━━━━━━━━━━━━━━━━━━━━╇━━━━━━━━━━━━━━━━━━━━━━━━━━━━━╇━━━━━━━━━━━━━━━━━┩\n",
              "│ input_layer_1 (<span style=\"color: #0087ff; text-decoration-color: #0087ff\">InputLayer</span>)           │ (<span style=\"color: #00d7ff; text-decoration-color: #00d7ff\">None</span>, <span style=\"color: #00af00; text-decoration-color: #00af00\">55</span>)                  │               <span style=\"color: #00af00; text-decoration-color: #00af00\">0</span> │\n",
              "├──────────────────────────────────────┼─────────────────────────────┼─────────────────┤\n",
              "│ embedding_1 (<span style=\"color: #0087ff; text-decoration-color: #0087ff\">Embedding</span>)              │ (<span style=\"color: #00d7ff; text-decoration-color: #00d7ff\">None</span>, <span style=\"color: #00af00; text-decoration-color: #00af00\">55</span>, <span style=\"color: #00af00; text-decoration-color: #00af00\">10</span>)              │         <span style=\"color: #00af00; text-decoration-color: #00af00\">118,780</span> │\n",
              "├──────────────────────────────────────┼─────────────────────────────┼─────────────────┤\n",
              "│ conv1d (<span style=\"color: #0087ff; text-decoration-color: #0087ff\">Conv1D</span>)                      │ (<span style=\"color: #00d7ff; text-decoration-color: #00d7ff\">None</span>, <span style=\"color: #00af00; text-decoration-color: #00af00\">53</span>, <span style=\"color: #00af00; text-decoration-color: #00af00\">16</span>)              │             <span style=\"color: #00af00; text-decoration-color: #00af00\">496</span> │\n",
              "├──────────────────────────────────────┼─────────────────────────────┼─────────────────┤\n",
              "│ global_max_pooling1d_1               │ (<span style=\"color: #00d7ff; text-decoration-color: #00d7ff\">None</span>, <span style=\"color: #00af00; text-decoration-color: #00af00\">16</span>)                  │               <span style=\"color: #00af00; text-decoration-color: #00af00\">0</span> │\n",
              "│ (<span style=\"color: #0087ff; text-decoration-color: #0087ff\">GlobalMaxPooling1D</span>)                 │                             │                 │\n",
              "├──────────────────────────────────────┼─────────────────────────────┼─────────────────┤\n",
              "│ dense_1 (<span style=\"color: #0087ff; text-decoration-color: #0087ff\">Dense</span>)                      │ (<span style=\"color: #00d7ff; text-decoration-color: #00d7ff\">None</span>, <span style=\"color: #00af00; text-decoration-color: #00af00\">2</span>)                   │              <span style=\"color: #00af00; text-decoration-color: #00af00\">34</span> │\n",
              "└──────────────────────────────────────┴─────────────────────────────┴─────────────────┘\n",
              "</pre>\n"
            ]
          },
          "metadata": {}
        },
        {
          "output_type": "display_data",
          "data": {
            "text/plain": [
              "\u001b[1m Total params: \u001b[0m\u001b[38;5;34m119,310\u001b[0m (466.05 KB)\n"
            ],
            "text/html": [
              "<pre style=\"white-space:pre;overflow-x:auto;line-height:normal;font-family:Menlo,'DejaVu Sans Mono',consolas,'Courier New',monospace\"><span style=\"font-weight: bold\"> Total params: </span><span style=\"color: #00af00; text-decoration-color: #00af00\">119,310</span> (466.05 KB)\n",
              "</pre>\n"
            ]
          },
          "metadata": {}
        },
        {
          "output_type": "display_data",
          "data": {
            "text/plain": [
              "\u001b[1m Trainable params: \u001b[0m\u001b[38;5;34m119,310\u001b[0m (466.05 KB)\n"
            ],
            "text/html": [
              "<pre style=\"white-space:pre;overflow-x:auto;line-height:normal;font-family:Menlo,'DejaVu Sans Mono',consolas,'Courier New',monospace\"><span style=\"font-weight: bold\"> Trainable params: </span><span style=\"color: #00af00; text-decoration-color: #00af00\">119,310</span> (466.05 KB)\n",
              "</pre>\n"
            ]
          },
          "metadata": {}
        },
        {
          "output_type": "display_data",
          "data": {
            "text/plain": [
              "\u001b[1m Non-trainable params: \u001b[0m\u001b[38;5;34m0\u001b[0m (0.00 B)\n"
            ],
            "text/html": [
              "<pre style=\"white-space:pre;overflow-x:auto;line-height:normal;font-family:Menlo,'DejaVu Sans Mono',consolas,'Courier New',monospace\"><span style=\"font-weight: bold\"> Non-trainable params: </span><span style=\"color: #00af00; text-decoration-color: #00af00\">0</span> (0.00 B)\n",
              "</pre>\n"
            ]
          },
          "metadata": {}
        }
      ]
    },
    {
      "cell_type": "code",
      "source": [
        "model.compile(\n",
        "  loss=SparseCategoricalCrossentropy(from_logits=True),\n",
        "  optimizer='adam',\n",
        "  metrics=['accuracy']\n",
        ")\n",
        "\n",
        "\n",
        "print('Training model...')\n",
        "r = model.fit(\n",
        "  data_train,\n",
        "  df_train['target_binary'],\n",
        "  epochs=5,\n",
        "  validation_data=(data_test, df_test['target_binary'])\n",
        ")"
      ],
      "metadata": {
        "execution": {
          "iopub.status.busy": "2024-02-19T04:18:23.278582Z",
          "iopub.execute_input": "2024-02-19T04:18:23.278969Z",
          "iopub.status.idle": "2024-02-19T04:18:44.5026Z",
          "shell.execute_reply.started": "2024-02-19T04:18:23.278937Z",
          "shell.execute_reply": "2024-02-19T04:18:44.501558Z"
        },
        "trusted": true,
        "id": "joLIvfSvgfTf",
        "colab": {
          "base_uri": "https://localhost:8080/"
        },
        "outputId": "38ae6b10-d87e-47e5-b48b-b289c8a76a32"
      },
      "execution_count": 90,
      "outputs": [
        {
          "output_type": "stream",
          "name": "stdout",
          "text": [
            "Training model...\n",
            "Epoch 1/5\n",
            "\u001b[1m691/691\u001b[0m \u001b[32m━━━━━━━━━━━━━━━━━━━━\u001b[0m\u001b[37m\u001b[0m \u001b[1m4s\u001b[0m 5ms/step - accuracy: 0.7738 - loss: 0.4766 - val_accuracy: 0.9077 - val_loss: 0.2490\n",
            "Epoch 2/5\n",
            "\u001b[1m691/691\u001b[0m \u001b[32m━━━━━━━━━━━━━━━━━━━━\u001b[0m\u001b[37m\u001b[0m \u001b[1m3s\u001b[0m 5ms/step - accuracy: 0.9113 - loss: 0.2336 - val_accuracy: 0.9050 - val_loss: 0.2382\n",
            "Epoch 3/5\n",
            "\u001b[1m691/691\u001b[0m \u001b[32m━━━━━━━━━━━━━━━━━━━━\u001b[0m\u001b[37m\u001b[0m \u001b[1m6s\u001b[0m 8ms/step - accuracy: 0.9249 - loss: 0.2063 - val_accuracy: 0.9024 - val_loss: 0.2419\n",
            "Epoch 4/5\n",
            "\u001b[1m691/691\u001b[0m \u001b[32m━━━━━━━━━━━━━━━━━━━━\u001b[0m\u001b[37m\u001b[0m \u001b[1m8s\u001b[0m 5ms/step - accuracy: 0.9314 - loss: 0.1889 - val_accuracy: 0.9074 - val_loss: 0.2430\n",
            "Epoch 5/5\n",
            "\u001b[1m691/691\u001b[0m \u001b[32m━━━━━━━━━━━━━━━━━━━━\u001b[0m\u001b[37m\u001b[0m \u001b[1m8s\u001b[0m 9ms/step - accuracy: 0.9363 - loss: 0.1759 - val_accuracy: 0.9044 - val_loss: 0.2494\n"
          ]
        }
      ]
    },
    {
      "cell_type": "markdown",
      "source": [
        "While a little uncommon, CNN models could be use to analyze text. The train time also much faster due to convolution (stride and/or pooling)."
      ],
      "metadata": {
        "id": "FQYahCragfTf"
      }
    },
    {
      "cell_type": "code",
      "source": [
        "# Plot loss per iteration\n",
        "plt.plot(r.history['loss'], label='train loss')\n",
        "plt.plot(r.history['val_loss'], label='val loss')\n",
        "plt.legend();"
      ],
      "metadata": {
        "execution": {
          "iopub.status.busy": "2024-02-19T04:18:44.504426Z",
          "iopub.execute_input": "2024-02-19T04:18:44.504747Z",
          "iopub.status.idle": "2024-02-19T04:18:44.750117Z",
          "shell.execute_reply.started": "2024-02-19T04:18:44.504719Z",
          "shell.execute_reply": "2024-02-19T04:18:44.749014Z"
        },
        "trusted": true,
        "id": "VfF7z-Y1gfTf",
        "colab": {
          "base_uri": "https://localhost:8080/",
          "height": 430
        },
        "outputId": "bbde0f78-07b2-403c-8527-20b4d2fee082"
      },
      "execution_count": 91,
      "outputs": [
        {
          "output_type": "display_data",
          "data": {
            "text/plain": [
              "<Figure size 640x480 with 1 Axes>"
            ],
            "image/png": "[encoded data removed]"
          },
          "metadata": {}
        }
      ]
    },
    {
      "cell_type": "code",
      "source": [
        "# Plot accuracy per iteration\n",
        "plt.plot(r.history['accuracy'], label='train acc')\n",
        "plt.plot(r.history['val_accuracy'], label='val acc')\n",
        "plt.legend();"
      ],
      "metadata": {
        "execution": {
          "iopub.status.busy": "2024-02-19T04:18:49.080325Z",
          "iopub.execute_input": "2024-02-19T04:18:49.080948Z",
          "iopub.status.idle": "2024-02-19T04:18:49.324475Z",
          "shell.execute_reply.started": "2024-02-19T04:18:49.080905Z",
          "shell.execute_reply": "2024-02-19T04:18:49.32323Z"
        },
        "trusted": true,
        "id": "PYHkzIcAgfTf",
        "colab": {
          "base_uri": "https://localhost:8080/",
          "height": 430
        },
        "outputId": "01f46805-835b-4e2c-ce5a-473716ca0f4a"
      },
      "execution_count": 92,
      "outputs": [
        {
          "output_type": "display_data",
          "data": {
            "text/plain": [
              "<Figure size 640x480 with 1 Axes>"
            ],
            "image/png": "[encoded data removed]"
          },
          "metadata": {}
        }
      ]
    },
    {
      "cell_type": "markdown",
      "source": [
        "Both base model result indeed doesn't differ much from Logistic Regression model results. It could means that the data aren't complex enough that a simple Bag of Word methods could capture the sentiments. Beside that, the mislabeled data really need to be fix first."
      ],
      "metadata": {
        "id": "ZXeiFutIgfTf"
      }
    },
    {
      "cell_type": "markdown",
      "source": [
        "# Gojek Sentiment BERT Fine Tuned NLP Model Prediction\n"
      ],
      "metadata": {
        "id": "Q-jCHNqtWcM3"
      }
    },
    {
      "cell_type": "code",
      "source": [
        "!pip install accelerate\n",
        "# requirement for using pytorch together with trainer"
      ],
      "metadata": {
        "colab": {
          "base_uri": "https://localhost:8080/"
        },
        "id": "ndJWfi2rqAKc",
        "outputId": "e2194b3f-384f-4acc-f2b3-954faebe19dd"
      },
      "execution_count": 93,
      "outputs": [
        {
          "output_type": "stream",
          "name": "stdout",
          "text": [
            "Requirement already satisfied: accelerate in /usr/local/lib/python3.10/dist-packages (1.2.1)\n",
            "Requirement already satisfied: numpy<3.0.0,>=1.17 in /usr/local/lib/python3.10/dist-packages (from accelerate) (1.26.4)\n",
            "Requirement already satisfied: packaging>=20.0 in /usr/local/lib/python3.10/dist-packages (from accelerate) (24.2)\n",
            "Requirement already satisfied: psutil in /usr/local/lib/python3.10/dist-packages (from accelerate) (5.9.5)\n",
            "Requirement already satisfied: pyyaml in /usr/local/lib/python3.10/dist-packages (from accelerate) (6.0.2)\n",
            "Requirement already satisfied: torch>=1.10.0 in /usr/local/lib/python3.10/dist-packages (from accelerate) (2.5.1+cu121)\n",
            "Requirement already satisfied: huggingface-hub>=0.21.0 in /usr/local/lib/python3.10/dist-packages (from accelerate) (0.23.4)\n",
            "Requirement already satisfied: safetensors>=0.4.3 in /usr/local/lib/python3.10/dist-packages (from accelerate) (0.4.5)\n",
            "Traceback (most recent call last):\n",
            "  File \"/usr/local/lib/python3.10/dist-packages/pip/_vendor/pkg_resources/__init__.py\", line 3070, in _dep_map\n",
            "    return self.__dep_map\n",
            "  File \"/usr/local/lib/python3.10/dist-packages/pip/_vendor/pkg_resources/__init__.py\", line 2863, in __getattr__\n",
            "    raise AttributeError(attr)\n",
            "AttributeError: _DistInfoDistribution__dep_map\n",
            "\n",
            "During handling of the above exception, another exception occurred:\n",
            "\n",
            "Traceback (most recent call last):\n",
            "  File \"/usr/local/lib/python3.10/dist-packages/pip/_internal/cli/base_command.py\", line 179, in exc_logging_wrapper\n",
            "    status = run_func(*args)\n",
            "  File \"/usr/local/lib/python3.10/dist-packages/pip/_internal/cli/req_command.py\", line 67, in wrapper\n",
            "    return func(self, options, args)\n",
            "  File \"/usr/local/lib/python3.10/dist-packages/pip/_internal/commands/install.py\", line 377, in run\n",
            "    requirement_set = resolver.resolve(\n",
            "  File \"/usr/local/lib/python3.10/dist-packages/pip/_internal/resolution/resolvelib/resolver.py\", line 95, in resolve\n",
            "    result = self._result = resolver.resolve(\n",
            "  File \"/usr/local/lib/python3.10/dist-packages/pip/_vendor/resolvelib/resolvers.py\", line 546, in resolve\n",
            "    state = resolution.resolve(requirements, max_rounds=max_rounds)\n",
            "  File \"/usr/local/lib/python3.10/dist-packages/pip/_vendor/resolvelib/resolvers.py\", line 427, in resolve\n",
            "    failure_causes = self._attempt_to_pin_criterion(name)\n",
            "  File \"/usr/local/lib/python3.10/dist-packages/pip/_vendor/resolvelib/resolvers.py\", line 239, in _attempt_to_pin_criterion\n",
            "    criteria = self._get_updated_criteria(candidate)\n",
            "  File \"/usr/local/lib/python3.10/dist-packages/pip/_vendor/resolvelib/resolvers.py\", line 229, in _get_updated_criteria\n",
            "    for requirement in self._p.get_dependencies(candidate=candidate):\n",
            "  File \"/usr/local/lib/python3.10/dist-packages/pip/_internal/resolution/resolvelib/provider.py\", line 247, in get_dependencies\n",
            "    return [r for r in candidate.iter_dependencies(with_requires) if r is not None]\n",
            "  File \"/usr/local/lib/python3.10/dist-packages/pip/_internal/resolution/resolvelib/provider.py\", line 247, in <listcomp>\n",
            "    return [r for r in candidate.iter_dependencies(with_requires) if r is not None]\n",
            "  File \"/usr/local/lib/python3.10/dist-packages/pip/_internal/resolution/resolvelib/candidates.py\", line 401, in iter_dependencies\n",
            "    for r in self.dist.iter_dependencies():\n",
            "  File \"/usr/local/lib/python3.10/dist-packages/pip/_internal/metadata/pkg_resources.py\", line 247, in iter_dependencies\n",
            "    return self._dist.requires(extras)\n",
            "  File \"/usr/local/lib/python3.10/dist-packages/pip/_vendor/pkg_resources/__init__.py\", line 2786, in requires\n",
            "    dm = self._dep_map\n",
            "  File \"/usr/local/lib/python3.10/dist-packages/pip/_vendor/pkg_resources/__init__.py\", line 3072, in _dep_map\n",
            "    self.__dep_map = self._compute_dependencies()\n",
            "  File \"/usr/local/lib/python3.10/dist-packages/pip/_vendor/pkg_resources/__init__.py\", line 3081, in _compute_dependencies\n",
            "    for req in self._parsed_pkg_info.get_all('Requires-Dist') or []:\n",
            "  File \"/usr/lib/python3.10/email/message.py\", line 510, in get_all\n",
            "    values.append(self.policy.header_fetch_parse(k, v))\n",
            "  File \"/usr/lib/python3.10/email/_policybase.py\", line 324, in header_fetch_parse\n",
            "    return self._sanitize_header(name, value)\n",
            "  File \"/usr/lib/python3.10/email/_policybase.py\", line 292, in _sanitize_header\n",
            "    if not isinstance(value, str):\n",
            "KeyboardInterrupt\n",
            "\n",
            "During handling of the above exception, another exception occurred:\n",
            "\n",
            "Traceback (most recent call last):\n",
            "  File \"/usr/local/bin/pip3\", line 8, in <module>\n",
            "    sys.exit(main())\n",
            "  File \"/usr/local/lib/python3.10/dist-packages/pip/_internal/cli/main.py\", line 80, in main\n",
            "    return command.main(cmd_args)\n",
            "  File \"/usr/local/lib/python3.10/dist-packages/pip/_internal/cli/base_command.py\", line 100, in main\n",
            "    return self._main(args)\n",
            "  File \"/usr/local/lib/python3.10/dist-packages/pip/_internal/cli/base_command.py\", line 232, in _main\n",
            "    return run(options, args)\n",
            "  File \"/usr/local/lib/python3.10/dist-packages/pip/_internal/cli/base_command.py\", line 215, in exc_logging_wrapper\n",
            "    logger.critical(\"Operation cancelled by user\")\n",
            "  File \"/usr/lib/python3.10/logging/__init__.py\", line 1524, in critical\n",
            "    self._log(CRITICAL, msg, args, **kwargs)\n",
            "  File \"/usr/lib/python3.10/logging/__init__.py\", line 1622, in _log\n",
            "    record = self.makeRecord(self.name, level, fn, lno, msg, args,\n",
            "  File \"/usr/lib/python3.10/logging/__init__.py\", line 1591, in makeRecord\n",
            "    rv = _logRecordFactory(name, level, fn, lno, msg, args, exc_info, func,\n",
            "  File \"/usr/lib/python3.10/logging/__init__.py\", line 283, in __init__\n",
            "    def __init__(self, name, level, pathname, lineno,\n",
            "KeyboardInterrupt\n",
            "^C\n"
          ]
        }
      ]
    },
    {
      "cell_type": "code",
      "source": [
        "import numpy as np\n",
        "import pandas as pd\n",
        "import seaborn as sn\n",
        "import matplotlib.pyplot as plt\n",
        "\n",
        "import torch\n",
        "\n",
        "from sklearn.metrics import f1_score, accuracy_score, confusion_matrix\n",
        "from sklearn.model_selection import train_test_split"
      ],
      "metadata": {
        "id": "AI_f6zVUXX-d",
        "colab": {
          "base_uri": "https://localhost:8080/"
        },
        "outputId": "7f9ae378-11fc-44e9-b86d-24618e105fd5"
      },
      "execution_count": 94,
      "outputs": [
        {
          "output_type": "stream",
          "name": "stderr",
          "text": [
            "Exception ignored in: <function _xla_gc_callback at 0x7dabb4c66560>\n",
            "Traceback (most recent call last):\n",
            "  File \"/usr/local/lib/python3.10/dist-packages/jax/_src/lib/__init__.py\", line 96, in _xla_gc_callback\n",
            "    def _xla_gc_callback(*args):\n",
            "KeyboardInterrupt: \n"
          ]
        }
      ]
    },
    {
      "cell_type": "code",
      "source": [
        "!pip install transformers datasets"
      ],
      "metadata": {
        "colab": {
          "base_uri": "https://localhost:8080/",
          "height": 957
        },
        "id": "MvwiRV8WW7RJ",
        "outputId": "368d6271-1e56-4e02-b148-4810834533c1"
      },
      "execution_count": 95,
      "outputs": [
        {
          "output_type": "stream",
          "name": "stdout",
          "text": [
            "Requirement already satisfied: transformers in /usr/local/lib/python3.10/dist-packages (4.47.1)\n",
            "Requirement already satisfied: datasets in /usr/local/lib/python3.10/dist-packages (3.2.0)\n",
            "Requirement already satisfied: filelock in /usr/local/lib/python3.10/dist-packages (from transformers) (3.16.1)\n",
            "Collecting huggingface-hub<1.0,>=0.24.0 (from transformers)\n",
            "  Using cached huggingface_hub-0.27.0-py3-none-any.whl.metadata (13 kB)\n",
            "Requirement already satisfied: numpy>=1.17 in /usr/local/lib/python3.10/dist-packages (from transformers) (1.26.4)\n",
            "Requirement already satisfied: packaging>=20.0 in /usr/local/lib/python3.10/dist-packages (from transformers) (24.2)\n",
            "Requirement already satisfied: pyyaml>=5.1 in /usr/local/lib/python3.10/dist-packages (from transformers) (6.0.2)\n",
            "Requirement already satisfied: regex!=2019.12.17 in /usr/local/lib/python3.10/dist-packages (from transformers) (2024.11.6)\n",
            "Requirement already satisfied: requests in /usr/local/lib/python3.10/dist-packages (from transformers) (2.32.3)\n",
            "Requirement already satisfied: tokenizers<0.22,>=0.21 in /usr/local/lib/python3.10/dist-packages (from transformers) (0.21.0)\n",
            "Requirement already satisfied: safetensors>=0.4.1 in /usr/local/lib/python3.10/dist-packages (from transformers) (0.4.5)\n",
            "Requirement already satisfied: tqdm>=4.27 in /usr/local/lib/python3.10/dist-packages (from transformers) (4.67.1)\n",
            "Requirement already satisfied: pyarrow>=15.0.0 in /usr/local/lib/python3.10/dist-packages (from datasets) (17.0.0)\n",
            "Requirement already satisfied: dill<0.3.9,>=0.3.0 in /usr/local/lib/python3.10/dist-packages (from datasets) (0.3.8)\n",
            "Requirement already satisfied: pandas in /usr/local/lib/python3.10/dist-packages (from datasets) (2.2.2)\n",
            "Requirement already satisfied: xxhash in /usr/local/lib/python3.10/dist-packages (from datasets) (3.5.0)\n",
            "Requirement already satisfied: multiprocess<0.70.17 in /usr/local/lib/python3.10/dist-packages (from datasets) (0.70.16)\n",
            "Requirement already satisfied: fsspec<=2024.9.0,>=2023.1.0 in /usr/local/lib/python3.10/dist-packages (from fsspec[http]<=2024.9.0,>=2023.1.0->datasets) (2024.9.0)\n",
            "Requirement already satisfied: aiohttp in /usr/local/lib/python3.10/dist-packages (from datasets) (3.11.10)\n",
            "Requirement already satisfied: aiohappyeyeballs>=2.3.0 in /usr/local/lib/python3.10/dist-packages (from aiohttp->datasets) (2.4.4)\n",
            "Requirement already satisfied: aiosignal>=1.1.2 in /usr/local/lib/python3.10/dist-packages (from aiohttp->datasets) (1.3.2)\n",
            "Requirement already satisfied: async-timeout<6.0,>=4.0 in /usr/local/lib/python3.10/dist-packages (from aiohttp->datasets) (4.0.3)\n",
            "Requirement already satisfied: attrs>=17.3.0 in /usr/local/lib/python3.10/dist-packages (from aiohttp->datasets) (24.3.0)\n",
            "Requirement already satisfied: frozenlist>=1.1.1 in /usr/local/lib/python3.10/dist-packages (from aiohttp->datasets) (1.5.0)\n",
            "Requirement already satisfied: multidict<7.0,>=4.5 in /usr/local/lib/python3.10/dist-packages (from aiohttp->datasets) (6.1.0)\n",
            "Requirement already satisfied: propcache>=0.2.0 in /usr/local/lib/python3.10/dist-packages (from aiohttp->datasets) (0.2.1)\n",
            "Requirement already satisfied: yarl<2.0,>=1.17.0 in /usr/local/lib/python3.10/dist-packages (from aiohttp->datasets) (1.18.3)\n",
            "Requirement already satisfied: typing-extensions>=3.7.4.3 in /usr/local/lib/python3.10/dist-packages (from huggingface-hub<1.0,>=0.24.0->transformers) (4.12.2)\n",
            "Requirement already satisfied: charset-normalizer<4,>=2 in /usr/local/lib/python3.10/dist-packages (from requests->transformers) (3.4.0)\n",
            "Requirement already satisfied: idna<4,>=2.5 in /usr/local/lib/python3.10/dist-packages (from requests->transformers) (3.10)\n",
            "Requirement already satisfied: urllib3<3,>=1.21.1 in /usr/local/lib/python3.10/dist-packages (from requests->transformers) (2.2.3)\n",
            "Requirement already satisfied: certifi>=2017.4.17 in /usr/local/lib/python3.10/dist-packages (from requests->transformers) (2024.12.14)\n",
            "Requirement already satisfied: python-dateutil>=2.8.2 in /usr/local/lib/python3.10/dist-packages (from pandas->datasets) (2.8.2)\n",
            "Requirement already satisfied: pytz>=2020.1 in /usr/local/lib/python3.10/dist-packages (from pandas->datasets) (2024.2)\n",
            "Requirement already satisfied: tzdata>=2022.7 in /usr/local/lib/python3.10/dist-packages (from pandas->datasets) (2024.2)\n",
            "Requirement already satisfied: six>=1.5 in /usr/local/lib/python3.10/dist-packages (from python-dateutil>=2.8.2->pandas->datasets) (1.17.0)\n",
            "Using cached huggingface_hub-0.27.0-py3-none-any.whl (450 kB)\n",
            "Installing collected packages: huggingface-hub\n",
            "  Attempting uninstall: huggingface-hub\n",
            "    Found existing installation: huggingface-hub 0.23.4\n",
            "    Uninstalling huggingface-hub-0.23.4:\n",
            "      Successfully uninstalled huggingface-hub-0.23.4\n",
            "\u001b[31mERROR: pip's dependency resolver does not currently take into account all the packages that are installed. This behaviour is the source of the following dependency conflicts.\n",
            "nlp-id 0.1.18.0 requires huggingface-hub==0.23.4, but you have huggingface-hub 0.27.0 which is incompatible.\u001b[0m\u001b[31m\n",
            "\u001b[0mSuccessfully installed huggingface-hub-0.27.0\n"
          ]
        },
        {
          "output_type": "display_data",
          "data": {
            "application/vnd.colab-display-data+json": {
              "pip_warning": {
                "packages": [
                  "huggingface_hub"
                ]
              },
              "id": "a1e46c7a303846e6bde386231afa65f0"
            }
          },
          "metadata": {}
        }
      ]
    },
    {
      "cell_type": "code",
      "source": [
        "df = pd.read_csv('/content/gojek_appreview_v47_49_preprocessed.csv')"
      ],
      "metadata": {
        "id": "XSF9gwuUXfma"
      },
      "execution_count": 96,
      "outputs": []
    },
    {
      "cell_type": "code",
      "source": [
        "df.head()"
      ],
      "metadata": {
        "colab": {
          "base_uri": "https://localhost:8080/",
          "height": 539
        },
        "id": "dy6OKKxdXry9",
        "outputId": "ed61c37e-30a3-482e-de6d-83ef507a3f6d"
      },
      "execution_count": 97,
      "outputs": [
        {
          "output_type": "execute_result",
          "data": {
            "text/plain": [
              "   Unnamed: 0                                               text  score  \\\n",
              "0           0                            akun gopay saya di blok      1   \n",
              "1           2  Kenapa sih dari kemarin sy buka aplikasi gojek...      4   \n",
              "2           3  Baru download gojek dan hape baru trus ditop u...      1   \n",
              "3           4                                             Mantap      5   \n",
              "4           5                                              Bagus      4   \n",
              "\n",
              "                  date app_version    target  target_binary  app_version_cut  \\\n",
              "0  2022-01-21 10:52:12       4.9.3  negative              0              4.9   \n",
              "1  2021-11-29 22:58:12       4.9.3  positive              1              4.9   \n",
              "2  2022-09-03 15:21:17       4.9.3  negative              0              4.9   \n",
              "3  2022-01-15 10:05:27       4.9.3  positive              1              4.9   \n",
              "4  2022-02-01 05:50:40       4.9.3  positive              1              4.9   \n",
              "\n",
              "                                      text_processed  \\\n",
              "0                                    akun gopay blok   \n",
              "1  sih kemarin buka aplikasi gojek kasih bintang ...   \n",
              "2  download gojek hape top lu gopay transaksi dia...   \n",
              "3                                             mantap   \n",
              "4                                              bagus   \n",
              "\n",
              "                                              tokens  \\\n",
              "0            ['akun', 'gopay', 'saya', 'di', 'blok']   \n",
              "1  ['kenapa', 'sih', 'dari', 'kemarin', 'saya', '...   \n",
              "2  ['baru', 'download', 'gojek', 'dan', 'hape', '...   \n",
              "3                                         ['mantap']   \n",
              "4                                          ['bagus']   \n",
              "\n",
              "                             tokens_without_stopword prediction  \\\n",
              "0                          ['akun', 'gopay', 'blok']   negative   \n",
              "1  ['sih', 'kemarin', 'buka', 'aplikasi', 'gojek'...   negative   \n",
              "2  ['download', 'gojek', 'hape', 'top', 'lu', 'go...   positive   \n",
              "3                                         ['mantap']   positive   \n",
              "4                                          ['bagus']   positive   \n",
              "\n",
              "   prediction_confidence  \n",
              "0               0.798842  \n",
              "1               0.541668  \n",
              "2               0.634071  \n",
              "3               0.995213  \n",
              "4               0.982354  "
            ],
            "text/html": [
              "\n",
              "  <div id=\"df-bc0e5c68-6edd-4b0a-979b-0cd32afd50af\" class=\"colab-df-container\">\n",
              "    <div>\n",
              "<style scoped>\n",
              "    .dataframe tbody tr th:only-of-type {\n",
              "        vertical-align: middle;\n",
              "    }\n",
              "\n",
              "    .dataframe tbody tr th {\n",
              "        vertical-align: top;\n",
              "    }\n",
              "\n",
              "    .dataframe thead th {\n",
              "        text-align: right;\n",
              "    }\n",
              "</style>\n",
              "<table border=\"1\" class=\"dataframe\">\n",
              "  <thead>\n",
              "    <tr style=\"text-align: right;\">\n",
              "      <th></th>\n",
              "      <th>Unnamed: 0</th>\n",
              "      <th>text</th>\n",
              "      <th>score</th>\n",
              "      <th>date</th>\n",
              "      <th>app_version</th>\n",
              "      <th>target</th>\n",
              "      <th>target_binary</th>\n",
              "      <th>app_version_cut</th>\n",
              "      <th>text_processed</th>\n",
              "      <th>tokens</th>\n",
              "      <th>tokens_without_stopword</th>\n",
              "      <th>prediction</th>\n",
              "      <th>prediction_confidence</th>\n",
              "    </tr>\n",
              "  </thead>\n",
              "  <tbody>\n",
              "    <tr>\n",
              "      <th>0</th>\n",
              "      <td>0</td>\n",
              "      <td>akun gopay saya di blok</td>\n",
              "      <td>1</td>\n",
              "      <td>2022-01-21 10:52:12</td>\n",
              "      <td>4.9.3</td>\n",
              "      <td>negative</td>\n",
              "      <td>0</td>\n",
              "      <td>4.9</td>\n",
              "      <td>akun gopay blok</td>\n",
              "      <td>['akun', 'gopay', 'saya', 'di', 'blok']</td>\n",
              "      <td>['akun', 'gopay', 'blok']</td>\n",
              "      <td>negative</td>\n",
              "      <td>0.798842</td>\n",
              "    </tr>\n",
              "    <tr>\n",
              "      <th>1</th>\n",
              "      <td>2</td>\n",
              "      <td>Kenapa sih dari kemarin sy buka aplikasi gojek...</td>\n",
              "      <td>4</td>\n",
              "      <td>2021-11-29 22:58:12</td>\n",
              "      <td>4.9.3</td>\n",
              "      <td>positive</td>\n",
              "      <td>1</td>\n",
              "      <td>4.9</td>\n",
              "      <td>sih kemarin buka aplikasi gojek kasih bintang ...</td>\n",
              "      <td>['kenapa', 'sih', 'dari', 'kemarin', 'saya', '...</td>\n",
              "      <td>['sih', 'kemarin', 'buka', 'aplikasi', 'gojek'...</td>\n",
              "      <td>negative</td>\n",
              "      <td>0.541668</td>\n",
              "    </tr>\n",
              "    <tr>\n",
              "      <th>2</th>\n",
              "      <td>3</td>\n",
              "      <td>Baru download gojek dan hape baru trus ditop u...</td>\n",
              "      <td>1</td>\n",
              "      <td>2022-09-03 15:21:17</td>\n",
              "      <td>4.9.3</td>\n",
              "      <td>negative</td>\n",
              "      <td>0</td>\n",
              "      <td>4.9</td>\n",
              "      <td>download gojek hape top lu gopay transaksi dia...</td>\n",
              "      <td>['baru', 'download', 'gojek', 'dan', 'hape', '...</td>\n",
              "      <td>['download', 'gojek', 'hape', 'top', 'lu', 'go...</td>\n",
              "      <td>positive</td>\n",
              "      <td>0.634071</td>\n",
              "    </tr>\n",
              "    <tr>\n",
              "      <th>3</th>\n",
              "      <td>4</td>\n",
              "      <td>Mantap</td>\n",
              "      <td>5</td>\n",
              "      <td>2022-01-15 10:05:27</td>\n",
              "      <td>4.9.3</td>\n",
              "      <td>positive</td>\n",
              "      <td>1</td>\n",
              "      <td>4.9</td>\n",
              "      <td>mantap</td>\n",
              "      <td>['mantap']</td>\n",
              "      <td>['mantap']</td>\n",
              "      <td>positive</td>\n",
              "      <td>0.995213</td>\n",
              "    </tr>\n",
              "    <tr>\n",
              "      <th>4</th>\n",
              "      <td>5</td>\n",
              "      <td>Bagus</td>\n",
              "      <td>4</td>\n",
              "      <td>2022-02-01 05:50:40</td>\n",
              "      <td>4.9.3</td>\n",
              "      <td>positive</td>\n",
              "      <td>1</td>\n",
              "      <td>4.9</td>\n",
              "      <td>bagus</td>\n",
              "      <td>['bagus']</td>\n",
              "      <td>['bagus']</td>\n",
              "      <td>positive</td>\n",
              "      <td>0.982354</td>\n",
              "    </tr>\n",
              "  </tbody>\n",
              "</table>\n",
              "</div>\n",
              "    <div class=\"colab-df-buttons\">\n",
              "\n",
              "  <div class=\"colab-df-container\">\n",
              "    <button class=\"colab-df-convert\" onclick=\"convertToInteractive('df-bc0e5c68-6edd-4b0a-979b-0cd32afd50af')\"\n",
              "            title=\"Convert this dataframe to an interactive table.\"\n",
              "            style=\"display:none;\">\n",
              "\n",
              "  <svg xmlns=\"http://www.w3.org/2000/svg\" height=\"24px\" viewBox=\"0 -960 960 960\">\n",
              "    <path d=\"M120-120v-720h720v720H120Zm60-500h600v-160H180v160Zm220 220h160v-160H400v160Zm0 220h160v-160H400v160ZM180-400h160v-160H180v160Zm440 0h160v-160H620v160ZM180-180h160v-160H180v160Zm440 0h160v-160H620v160Z\"/>\n",
              "  </svg>\n",
              "    </button>\n",
              "\n",
              "  <style>\n",
              "    .colab-df-container {\n",
              "      display:flex;\n",
              "      gap: 12px;\n",
              "    }\n",
              "\n",
              "    .colab-df-convert {\n",
              "      background-color: #E8F0FE;\n",
              "      border: none;\n",
              "      border-radius: 50%;\n",
              "      cursor: pointer;\n",
              "      display: none;\n",
              "      fill: #1967D2;\n",
              "      height: 32px;\n",
              "      padding: 0 0 0 0;\n",
              "      width: 32px;\n",
              "    }\n",
              "\n",
              "    .colab-df-convert:hover {\n",
              "      background-color: #E2EBFA;\n",
              "      box-shadow: 0px 1px 2px rgba(60, 64, 67, 0.3), 0px 1px 3px 1px rgba(60, 64, 67, 0.15);\n",
              "      fill: #174EA6;\n",
              "    }\n",
              "\n",
              "    .colab-df-buttons div {\n",
              "      margin-bottom: 4px;\n",
              "    }\n",
              "\n",
              "    [theme=dark] .colab-df-convert {\n",
              "      background-color: #3B4455;\n",
              "      fill: #D2E3FC;\n",
              "    }\n",
              "\n",
              "    [theme=dark] .colab-df-convert:hover {\n",
              "      background-color: #434B5C;\n",
              "      box-shadow: 0px 1px 3px 1px rgba(0, 0, 0, 0.15);\n",
              "      filter: drop-shadow(0px 1px 2px rgba(0, 0, 0, 0.3));\n",
              "      fill: #FFFFFF;\n",
              "    }\n",
              "  </style>\n",
              "\n",
              "    <script>\n",
              "      const buttonEl =\n",
              "        document.querySelector('#df-bc0e5c68-6edd-4b0a-979b-0cd32afd50af button.colab-df-convert');\n",
              "      buttonEl.style.display =\n",
              "        google.colab.kernel.accessAllowed ? 'block' : 'none';\n",
              "\n",
              "      async function convertToInteractive(key) {\n",
              "        const element = document.querySelector('#df-bc0e5c68-6edd-4b0a-979b-0cd32afd50af');\n",
              "        const dataTable =\n",
              "          await google.colab.kernel.invokeFunction('convertToInteractive',\n",
              "                                                    [key], {});\n",
              "        if (!dataTable) return;\n",
              "\n",
              "        const docLinkHtml = 'Like what you see? Visit the ' +\n",
              "          '<a target=\"_blank\" href=https://colab.research.google.com/notebooks/data_table.ipynb>data table notebook</a>'\n",
              "          + ' to learn more about interactive tables.';\n",
              "        element.innerHTML = '';\n",
              "        dataTable['output_type'] = 'display_data';\n",
              "        await google.colab.output.renderOutput(dataTable, element);\n",
              "        const docLink = document.createElement('div');\n",
              "        docLink.innerHTML = docLinkHtml;\n",
              "        element.appendChild(docLink);\n",
              "      }\n",
              "    </script>\n",
              "  </div>\n",
              "\n",
              "\n",
              "<div id=\"df-1de04d59-70d2-4442-ae62-9ac4a0e4656d\">\n",
              "  <button class=\"colab-df-quickchart\" onclick=\"quickchart('df-1de04d59-70d2-4442-ae62-9ac4a0e4656d')\"\n",
              "            title=\"Suggest charts\"\n",
              "            style=\"display:none;\">\n",
              "\n",
              "<svg xmlns=\"http://www.w3.org/2000/svg\" height=\"24px\"viewBox=\"0 0 24 24\"\n",
              "     width=\"24px\">\n",
              "    <g>\n",
              "        <path d=\"M19 3H5c-1.1 0-2 .9-2 2v14c0 1.1.9 2 2 2h14c1.1 0 2-.9 2-2V5c0-1.1-.9-2-2-2zM9 17H7v-7h2v7zm4 0h-2V7h2v10zm4 0h-2v-4h2v4z\"/>\n",
              "    </g>\n",
              "</svg>\n",
              "  </button>\n",
              "\n",
              "<style>\n",
              "  .colab-df-quickchart {\n",
              "      --bg-color: #E8F0FE;\n",
              "      --fill-color: #1967D2;\n",
              "      --hover-bg-color: #E2EBFA;\n",
              "      --hover-fill-color: #174EA6;\n",
              "      --disabled-fill-color: #AAA;\n",
              "      --disabled-bg-color: #DDD;\n",
              "  }\n",
              "\n",
              "  [theme=dark] .colab-df-quickchart {\n",
              "      --bg-color: #3B4455;\n",
              "      --fill-color: #D2E3FC;\n",
              "      --hover-bg-color: #434B5C;\n",
              "      --hover-fill-color: #FFFFFF;\n",
              "      --disabled-bg-color: #3B4455;\n",
              "      --disabled-fill-color: #666;\n",
              "  }\n",
              "\n",
              "  .colab-df-quickchart {\n",
              "    background-color: var(--bg-color);\n",
              "    border: none;\n",
              "    border-radius: 50%;\n",
              "    cursor: pointer;\n",
              "    display: none;\n",
              "    fill: var(--fill-color);\n",
              "    height: 32px;\n",
              "    padding: 0;\n",
              "    width: 32px;\n",
              "  }\n",
              "\n",
              "  .colab-df-quickchart:hover {\n",
              "    background-color: var(--hover-bg-color);\n",
              "    box-shadow: 0 1px 2px rgba(60, 64, 67, 0.3), 0 1px 3px 1px rgba(60, 64, 67, 0.15);\n",
              "    fill: var(--button-hover-fill-color);\n",
              "  }\n",
              "\n",
              "  .colab-df-quickchart-complete:disabled,\n",
              "  .colab-df-quickchart-complete:disabled:hover {\n",
              "    background-color: var(--disabled-bg-color);\n",
              "    fill: var(--disabled-fill-color);\n",
              "    box-shadow: none;\n",
              "  }\n",
              "\n",
              "  .colab-df-spinner {\n",
              "    border: 2px solid var(--fill-color);\n",
              "    border-color: transparent;\n",
              "    border-bottom-color: var(--fill-color);\n",
              "    animation:\n",
              "      spin 1s steps(1) infinite;\n",
              "  }\n",
              "\n",
              "  @keyframes spin {\n",
              "    0% {\n",
              "      border-color: transparent;\n",
              "      border-bottom-color: var(--fill-color);\n",
              "      border-left-color: var(--fill-color);\n",
              "    }\n",
              "    20% {\n",
              "      border-color: transparent;\n",
              "      border-left-color: var(--fill-color);\n",
              "      border-top-color: var(--fill-color);\n",
              "    }\n",
              "    30% {\n",
              "      border-color: transparent;\n",
              "      border-left-color: var(--fill-color);\n",
              "      border-top-color: var(--fill-color);\n",
              "      border-right-color: var(--fill-color);\n",
              "    }\n",
              "    40% {\n",
              "      border-color: transparent;\n",
              "      border-right-color: var(--fill-color);\n",
              "      border-top-color: var(--fill-color);\n",
              "    }\n",
              "    60% {\n",
              "      border-color: transparent;\n",
              "      border-right-color: var(--fill-color);\n",
              "    }\n",
              "    80% {\n",
              "      border-color: transparent;\n",
              "      border-right-color: var(--fill-color);\n",
              "      border-bottom-color: var(--fill-color);\n",
              "    }\n",
              "    90% {\n",
              "      border-color: transparent;\n",
              "      border-bottom-color: var(--fill-color);\n",
              "    }\n",
              "  }\n",
              "</style>\n",
              "\n",
              "  <script>\n",
              "    async function quickchart(key) {\n",
              "      const quickchartButtonEl =\n",
              "        document.querySelector('#' + key + ' button');\n",
              "      quickchartButtonEl.disabled = true;  // To prevent multiple clicks.\n",
              "      quickchartButtonEl.classList.add('colab-df-spinner');\n",
              "      try {\n",
              "        const charts = await google.colab.kernel.invokeFunction(\n",
              "            'suggestCharts', [key], {});\n",
              "      } catch (error) {\n",
              "        console.error('Error during call to suggestCharts:', error);\n",
              "      }\n",
              "      quickchartButtonEl.classList.remove('colab-df-spinner');\n",
              "      quickchartButtonEl.classList.add('colab-df-quickchart-complete');\n",
              "    }\n",
              "    (() => {\n",
              "      let quickchartButtonEl =\n",
              "        document.querySelector('#df-1de04d59-70d2-4442-ae62-9ac4a0e4656d button');\n",
              "      quickchartButtonEl.style.display =\n",
              "        google.colab.kernel.accessAllowed ? 'block' : 'none';\n",
              "    })();\n",
              "  </script>\n",
              "</div>\n",
              "\n",
              "    </div>\n",
              "  </div>\n"
            ],
            "application/vnd.google.colaboratory.intrinsic+json": {
              "type": "dataframe",
              "variable_name": "df",
              "summary": "{\n  \"name\": \"df\",\n  \"rows\": 32969,\n  \"fields\": [\n    {\n      \"column\": \"Unnamed: 0\",\n      \"properties\": {\n        \"dtype\": \"number\",\n        \"std\": 9977,\n        \"min\": 0,\n        \"max\": 34575,\n        \"num_unique_values\": 32969,\n        \"samples\": [\n          9501,\n          7529,\n          21143\n        ],\n        \"semantic_type\": \"\",\n        \"description\": \"\"\n      }\n    },\n    {\n      \"column\": \"text\",\n      \"properties\": {\n        \"dtype\": \"string\",\n        \"num_unique_values\": 23858,\n        \"samples\": [\n          \"Kecewa sistem paylatwr seekarang\",\n          \"Terpercata\",\n          \"Mantap Aplikasinya\"\n        ],\n        \"semantic_type\": \"\",\n        \"description\": \"\"\n      }\n    },\n    {\n      \"column\": \"score\",\n      \"properties\": {\n        \"dtype\": \"number\",\n        \"std\": 1,\n        \"min\": 1,\n        \"max\": 5,\n        \"num_unique_values\": 4,\n        \"samples\": [\n          4,\n          2,\n          1\n        ],\n        \"semantic_type\": \"\",\n        \"description\": \"\"\n      }\n    },\n    {\n      \"column\": \"date\",\n      \"properties\": {\n        \"dtype\": \"object\",\n        \"num_unique_values\": 32919,\n        \"samples\": [\n          \"2023-12-23 22:26:47\",\n          \"2023-09-17 09:47:30\",\n          \"2023-12-21 05:02:37\"\n        ],\n        \"semantic_type\": \"\",\n        \"description\": \"\"\n      }\n    },\n    {\n      \"column\": \"app_version\",\n      \"properties\": {\n        \"dtype\": \"category\",\n        \"num_unique_values\": 31,\n        \"samples\": [\n          \"4.71.3\",\n          \"4.78.1\",\n          \"4.74.2\"\n        ],\n        \"semantic_type\": \"\",\n        \"description\": \"\"\n      }\n    },\n    {\n      \"column\": \"target\",\n      \"properties\": {\n        \"dtype\": \"category\",\n        \"num_unique_values\": 2,\n        \"samples\": [\n          \"positive\",\n          \"negative\"\n        ],\n        \"semantic_type\": \"\",\n        \"description\": \"\"\n      }\n    },\n    {\n      \"column\": \"target_binary\",\n      \"properties\": {\n        \"dtype\": \"number\",\n        \"std\": 0,\n        \"min\": 0,\n        \"max\": 1,\n        \"num_unique_values\": 2,\n        \"samples\": [\n          1,\n          0\n        ],\n        \"semantic_type\": \"\",\n        \"description\": \"\"\n      }\n    },\n    {\n      \"column\": \"app_version_cut\",\n      \"properties\": {\n        \"dtype\": \"number\",\n        \"std\": 0.043675230731596903,\n        \"min\": 4.7,\n        \"max\": 4.9,\n        \"num_unique_values\": 3,\n        \"samples\": [\n          4.9,\n          4.8\n        ],\n        \"semantic_type\": \"\",\n        \"description\": \"\"\n      }\n    },\n    {\n      \"column\": \"text_processed\",\n      \"properties\": {\n        \"dtype\": \"string\",\n        \"num_unique_values\": 20715,\n        \"samples\": [\n          \"mantap layan\",\n          \"aman\"\n        ],\n        \"semantic_type\": \"\",\n        \"description\": \"\"\n      }\n    },\n    {\n      \"column\": \"tokens\",\n      \"properties\": {\n        \"dtype\": \"string\",\n        \"num_unique_values\": 22508,\n        \"samples\": [\n          \"['di', 'sini', 'saya', 'menemuka', 'driver', 'baik', 'banget', 'bahkan', 'ke', 'sasar', 'sekalipun', 'masih', 'baik', 'dan', 'sabar']\",\n          \"['bantu', 'sejak', 'ada', 'gojek']\"\n        ],\n        \"semantic_type\": \"\",\n        \"description\": \"\"\n      }\n    },\n    {\n      \"column\": \"tokens_without_stopword\",\n      \"properties\": {\n        \"dtype\": \"string\",\n        \"num_unique_values\": 20716,\n        \"samples\": [\n          \"['pelayananok']\",\n          \"['gopaylater', 'lambat', 'denda', 'gede', 'banget', 'parah']\"\n        ],\n        \"semantic_type\": \"\",\n        \"description\": \"\"\n      }\n    },\n    {\n      \"column\": \"prediction\",\n      \"properties\": {\n        \"dtype\": \"category\",\n        \"num_unique_values\": 2,\n        \"samples\": [\n          \"positive\",\n          \"negative\"\n        ],\n        \"semantic_type\": \"\",\n        \"description\": \"\"\n      }\n    },\n    {\n      \"column\": \"prediction_confidence\",\n      \"properties\": {\n        \"dtype\": \"number\",\n        \"std\": 0.1353464842963757,\n        \"min\": 0.5000134819383886,\n        \"max\": 0.9998402440467504,\n        \"num_unique_values\": 18959,\n        \"samples\": [\n          0.6607376510082232,\n          0.5835427879524193\n        ],\n        \"semantic_type\": \"\",\n        \"description\": \"\"\n      }\n    }\n  ]\n}"
            }
          },
          "metadata": {},
          "execution_count": 97
        }
      ]
    },
    {
      "cell_type": "code",
      "source": [
        "df2 = df[['text', 'target_binary']]\n",
        "df2.columns = ['sentence', 'label']\n",
        "df2.to_csv('data.csv', index=None)"
      ],
      "metadata": {
        "id": "Lf7l2TehXsfM"
      },
      "execution_count": 98,
      "outputs": []
    },
    {
      "cell_type": "code",
      "source": [
        "!head data.csv"
      ],
      "metadata": {
        "colab": {
          "base_uri": "https://localhost:8080/"
        },
        "id": "9Mgrl5EMYdmg",
        "outputId": "290c4357-ba96-4af8-ca5f-2f7c7a11822c"
      },
      "execution_count": 99,
      "outputs": [
        {
          "output_type": "stream",
          "name": "stdout",
          "text": [
            "sentence,label\n",
            "akun gopay saya di blok,0\n",
            "Kenapa sih dari kemarin sy buka aplikasi gojek malah keluar sendiri terus Saya kasih bintang 2 dulu kalo sudah normal sy kasih bintang 7,1\n",
            "Baru download gojek dan hape baru trus ditop u gopay transaksi dialfamart transaksi bloked transaksilaporan di pusat bantuan gak jelas yang ditanyakan apa jawaban lainlama lama gojek dikelola Tokopedia udah nyimpangapa gojek anak bangsa seperti dulu apa punya Tokopedia,0\n",
            "Mantap,1\n",
            "Bagus,1\n",
            "Coba dulu,0\n",
            "Ok,1\n",
            "Gimana ini kak pin saya salah terus padahal udah di ubah masih salah,0\n",
            "Biar aman kamu tidak bisa pakai gojek Jadi saya uninstal biar aman,0\n"
          ]
        }
      ]
    },
    {
      "source": [
        "!pip install --upgrade huggingface_hub"
      ],
      "cell_type": "code",
      "metadata": {
        "colab": {
          "base_uri": "https://localhost:8080/"
        },
        "id": "ALElDh1enPn5",
        "outputId": "9040a1ff-5a80-40d3-c391-67dd90149830"
      },
      "execution_count": 102,
      "outputs": [
        {
          "output_type": "stream",
          "name": "stdout",
          "text": [
            "Requirement already satisfied: huggingface_hub in /usr/local/lib/python3.10/dist-packages (0.27.0)\n",
            "Requirement already satisfied: filelock in /usr/local/lib/python3.10/dist-packages (from huggingface_hub) (3.16.1)\n",
            "Requirement already satisfied: fsspec>=2023.5.0 in /usr/local/lib/python3.10/dist-packages (from huggingface_hub) (2024.9.0)\n",
            "Requirement already satisfied: packaging>=20.9 in /usr/local/lib/python3.10/dist-packages (from huggingface_hub) (24.2)\n",
            "Requirement already satisfied: pyyaml>=5.1 in /usr/local/lib/python3.10/dist-packages (from huggingface_hub) (6.0.2)\n",
            "Requirement already satisfied: requests in /usr/local/lib/python3.10/dist-packages (from huggingface_hub) (2.32.3)\n",
            "Requirement already satisfied: tqdm>=4.42.1 in /usr/local/lib/python3.10/dist-packages (from huggingface_hub) (4.67.1)\n",
            "Requirement already satisfied: typing-extensions>=3.7.4.3 in /usr/local/lib/python3.10/dist-packages (from huggingface_hub) (4.12.2)\n",
            "Requirement already satisfied: charset-normalizer<4,>=2 in /usr/local/lib/python3.10/dist-packages (from requests->huggingface_hub) (3.4.0)\n",
            "Requirement already satisfied: idna<4,>=2.5 in /usr/local/lib/python3.10/dist-packages (from requests->huggingface_hub) (3.10)\n",
            "Requirement already satisfied: urllib3<3,>=1.21.1 in /usr/local/lib/python3.10/dist-packages (from requests->huggingface_hub) (2.2.3)\n",
            "Requirement already satisfied: certifi>=2017.4.17 in /usr/local/lib/python3.10/dist-packages (from requests->huggingface_hub) (2024.12.14)\n"
          ]
        }
      ]
    },
    {
      "cell_type": "code",
      "source": [
        "from datasets import load_dataset\n",
        "raw_dataset = load_dataset('csv', data_files='/content/data.csv')"
      ],
      "metadata": {
        "colab": {
          "base_uri": "https://localhost:8080/",
          "height": 613
        },
        "id": "UnEf-vAfYeCW",
        "outputId": "ca9e9e04-e138-41b0-fb3c-211a78536735"
      },
      "execution_count": 104,
      "outputs": [
        {
          "output_type": "error",
          "ename": "ImportError",
          "evalue": "cannot import name 'EntryNotFoundError' from 'huggingface_hub.errors' (/usr/local/lib/python3.10/dist-packages/huggingface_hub/errors.py)",
          "traceback": [
            "\u001b[0;31m---------------------------------------------------------------------------\u001b[0m",
            "\u001b[0;31mImportError\u001b[0m                               Traceback (most recent call last)",
            "\u001b[0;32m<ipython-input-104-3c2b45631072>\u001b[0m in \u001b[0;36m<cell line: 1>\u001b[0;34m()\u001b[0m\n\u001b[0;32m----> 1\u001b[0;31m \u001b[0;32mfrom\u001b[0m \u001b[0mdatasets\u001b[0m \u001b[0;32mimport\u001b[0m \u001b[0mload_dataset\u001b[0m\u001b[0;34m\u001b[0m\u001b[0;34m\u001b[0m\u001b[0m\n\u001b[0m\u001b[1;32m      2\u001b[0m \u001b[0mraw_dataset\u001b[0m \u001b[0;34m=\u001b[0m \u001b[0mload_dataset\u001b[0m\u001b[0;34m(\u001b[0m\u001b[0;34m'csv'\u001b[0m\u001b[0;34m,\u001b[0m \u001b[0mdata_files\u001b[0m\u001b[0;34m=\u001b[0m\u001b[0;34m'/content/data.csv'\u001b[0m\u001b[0;34m)\u001b[0m\u001b[0;34m\u001b[0m\u001b[0;34m\u001b[0m\u001b[0m\n",
            "\u001b[0;32m/usr/local/lib/python3.10/dist-packages/datasets/__init__.py\u001b[0m in \u001b[0;36m<module>\u001b[0;34m\u001b[0m\n\u001b[1;32m     15\u001b[0m \u001b[0m__version__\u001b[0m \u001b[0;34m=\u001b[0m \u001b[0;34m\"3.2.0\"\u001b[0m\u001b[0;34m\u001b[0m\u001b[0;34m\u001b[0m\u001b[0m\n\u001b[1;32m     16\u001b[0m \u001b[0;34m\u001b[0m\u001b[0m\n\u001b[0;32m---> 17\u001b[0;31m \u001b[0;32mfrom\u001b[0m \u001b[0;34m.\u001b[0m\u001b[0marrow_dataset\u001b[0m \u001b[0;32mimport\u001b[0m \u001b[0mDataset\u001b[0m\u001b[0;34m\u001b[0m\u001b[0;34m\u001b[0m\u001b[0m\n\u001b[0m\u001b[1;32m     18\u001b[0m \u001b[0;32mfrom\u001b[0m \u001b[0;34m.\u001b[0m\u001b[0marrow_reader\u001b[0m \u001b[0;32mimport\u001b[0m \u001b[0mReadInstruction\u001b[0m\u001b[0;34m\u001b[0m\u001b[0;34m\u001b[0m\u001b[0m\n\u001b[1;32m     19\u001b[0m \u001b[0;32mfrom\u001b[0m \u001b[0;34m.\u001b[0m\u001b[0mbuilder\u001b[0m \u001b[0;32mimport\u001b[0m \u001b[0mArrowBasedBuilder\u001b[0m\u001b[0;34m,\u001b[0m \u001b[0mBuilderConfig\u001b[0m\u001b[0;34m,\u001b[0m \u001b[0mDatasetBuilder\u001b[0m\u001b[0;34m,\u001b[0m \u001b[0mGeneratorBasedBuilder\u001b[0m\u001b[0;34m\u001b[0m\u001b[0;34m\u001b[0m\u001b[0m\n",
            "\u001b[0;32m/usr/local/lib/python3.10/dist-packages/datasets/arrow_dataset.py\u001b[0m in \u001b[0;36m<module>\u001b[0;34m\u001b[0m\n\u001b[1;32m     61\u001b[0m \u001b[0;32mimport\u001b[0m \u001b[0mpyarrow\u001b[0m\u001b[0;34m.\u001b[0m\u001b[0mcompute\u001b[0m \u001b[0;32mas\u001b[0m \u001b[0mpc\u001b[0m\u001b[0;34m\u001b[0m\u001b[0;34m\u001b[0m\u001b[0m\n\u001b[1;32m     62\u001b[0m \u001b[0;32mfrom\u001b[0m \u001b[0mfsspec\u001b[0m\u001b[0;34m.\u001b[0m\u001b[0mcore\u001b[0m \u001b[0;32mimport\u001b[0m \u001b[0murl_to_fs\u001b[0m\u001b[0;34m\u001b[0m\u001b[0;34m\u001b[0m\u001b[0m\n\u001b[0;32m---> 63\u001b[0;31m from huggingface_hub import (\n\u001b[0m\u001b[1;32m     64\u001b[0m     \u001b[0mCommitInfo\u001b[0m\u001b[0;34m,\u001b[0m\u001b[0;34m\u001b[0m\u001b[0;34m\u001b[0m\u001b[0m\n\u001b[1;32m     65\u001b[0m     \u001b[0mCommitOperationAdd\u001b[0m\u001b[0;34m,\u001b[0m\u001b[0;34m\u001b[0m\u001b[0;34m\u001b[0m\u001b[0m\n",
            "\u001b[0;32m/usr/local/lib/python3.10/dist-packages/huggingface_hub/__init__.py\u001b[0m in \u001b[0;36m__getattr__\u001b[0;34m(name)\u001b[0m\n\u001b[1;32m    501\u001b[0m     \u001b[0mTypically\u001b[0m\u001b[0;34m,\u001b[0m \u001b[0mmodules\u001b[0m \u001b[0;32mimport\u001b[0m \u001b[0msubmodules\u001b[0m \u001b[0;32mand\u001b[0m \u001b[0mattributes\u001b[0m \u001b[0;32mas\u001b[0m \u001b[0mfollows\u001b[0m\u001b[0;34m:\u001b[0m\u001b[0;34m\u001b[0m\u001b[0;34m\u001b[0m\u001b[0m\n\u001b[1;32m    502\u001b[0m \u001b[0;34m\u001b[0m\u001b[0m\n\u001b[0;32m--> 503\u001b[0;31m     \u001b[0;31m`\u001b[0m\u001b[0;31m`\u001b[0m\u001b[0;31m`\u001b[0m\u001b[0mpy\u001b[0m\u001b[0;34m\u001b[0m\u001b[0;34m\u001b[0m\u001b[0m\n\u001b[0m\u001b[1;32m    504\u001b[0m     \u001b[0;32mimport\u001b[0m \u001b[0mmysubmodule\u001b[0m\u001b[0;34m\u001b[0m\u001b[0;34m\u001b[0m\u001b[0m\n\u001b[1;32m    505\u001b[0m     \u001b[0;32mimport\u001b[0m \u001b[0manothersubmodule\u001b[0m\u001b[0;34m\u001b[0m\u001b[0;34m\u001b[0m\u001b[0m\n",
            "\u001b[0;32m/usr/lib/python3.10/importlib/__init__.py\u001b[0m in \u001b[0;36mimport_module\u001b[0;34m(name, package)\u001b[0m\n\u001b[1;32m    124\u001b[0m                 \u001b[0;32mbreak\u001b[0m\u001b[0;34m\u001b[0m\u001b[0;34m\u001b[0m\u001b[0m\n\u001b[1;32m    125\u001b[0m             \u001b[0mlevel\u001b[0m \u001b[0;34m+=\u001b[0m \u001b[0;36m1\u001b[0m\u001b[0;34m\u001b[0m\u001b[0;34m\u001b[0m\u001b[0m\n\u001b[0;32m--> 126\u001b[0;31m     \u001b[0;32mreturn\u001b[0m \u001b[0m_bootstrap\u001b[0m\u001b[0;34m.\u001b[0m\u001b[0m_gcd_import\u001b[0m\u001b[0;34m(\u001b[0m\u001b[0mname\u001b[0m\u001b[0;34m[\u001b[0m\u001b[0mlevel\u001b[0m\u001b[0;34m:\u001b[0m\u001b[0;34m]\u001b[0m\u001b[0;34m,\u001b[0m \u001b[0mpackage\u001b[0m\u001b[0;34m,\u001b[0m \u001b[0mlevel\u001b[0m\u001b[0;34m)\u001b[0m\u001b[0;34m\u001b[0m\u001b[0;34m\u001b[0m\u001b[0m\n\u001b[0m\u001b[1;32m    127\u001b[0m \u001b[0;34m\u001b[0m\u001b[0m\n\u001b[1;32m    128\u001b[0m \u001b[0;34m\u001b[0m\u001b[0m\n",
            "\u001b[0;32m/usr/local/lib/python3.10/dist-packages/huggingface_hub/hf_api.py\u001b[0m in \u001b[0;36m<module>\u001b[0;34m\u001b[0m\n\u001b[1;32m     50\u001b[0m \u001b[0;34m\u001b[0m\u001b[0m\n\u001b[1;32m     51\u001b[0m \u001b[0;32mfrom\u001b[0m \u001b[0;34m.\u001b[0m \u001b[0;32mimport\u001b[0m \u001b[0mconstants\u001b[0m\u001b[0;34m\u001b[0m\u001b[0;34m\u001b[0m\u001b[0m\n\u001b[0;32m---> 52\u001b[0;31m from ._commit_api import (\n\u001b[0m\u001b[1;32m     53\u001b[0m     \u001b[0mCommitOperation\u001b[0m\u001b[0;34m,\u001b[0m\u001b[0;34m\u001b[0m\u001b[0;34m\u001b[0m\u001b[0m\n\u001b[1;32m     54\u001b[0m     \u001b[0mCommitOperationAdd\u001b[0m\u001b[0;34m,\u001b[0m\u001b[0;34m\u001b[0m\u001b[0;34m\u001b[0m\u001b[0m\n",
            "\u001b[0;32m/usr/local/lib/python3.10/dist-packages/huggingface_hub/_commit_api.py\u001b[0m in \u001b[0;36m<module>\u001b[0;34m\u001b[0m\n\u001b[1;32m     17\u001b[0m \u001b[0;34m\u001b[0m\u001b[0m\n\u001b[1;32m     18\u001b[0m \u001b[0;32mfrom\u001b[0m \u001b[0;34m.\u001b[0m \u001b[0;32mimport\u001b[0m \u001b[0mconstants\u001b[0m\u001b[0;34m\u001b[0m\u001b[0;34m\u001b[0m\u001b[0m\n\u001b[0;32m---> 19\u001b[0;31m \u001b[0;32mfrom\u001b[0m \u001b[0;34m.\u001b[0m\u001b[0merrors\u001b[0m \u001b[0;32mimport\u001b[0m \u001b[0mEntryNotFoundError\u001b[0m\u001b[0;34m\u001b[0m\u001b[0;34m\u001b[0m\u001b[0m\n\u001b[0m\u001b[1;32m     20\u001b[0m \u001b[0;32mfrom\u001b[0m \u001b[0;34m.\u001b[0m\u001b[0mfile_download\u001b[0m \u001b[0;32mimport\u001b[0m \u001b[0mhf_hub_url\u001b[0m\u001b[0;34m\u001b[0m\u001b[0;34m\u001b[0m\u001b[0m\n\u001b[1;32m     21\u001b[0m \u001b[0;32mfrom\u001b[0m \u001b[0;34m.\u001b[0m\u001b[0mlfs\u001b[0m \u001b[0;32mimport\u001b[0m \u001b[0mUploadInfo\u001b[0m\u001b[0;34m,\u001b[0m \u001b[0mlfs_upload\u001b[0m\u001b[0;34m,\u001b[0m \u001b[0mpost_lfs_batch_info\u001b[0m\u001b[0;34m\u001b[0m\u001b[0;34m\u001b[0m\u001b[0m\n",
            "\u001b[0;31mImportError\u001b[0m: cannot import name 'EntryNotFoundError' from 'huggingface_hub.errors' (/usr/local/lib/python3.10/dist-packages/huggingface_hub/errors.py)",
            "",
            "\u001b[0;31m---------------------------------------------------------------------------\u001b[0;32m\nNOTE: If your import is failing due to a missing package, you can\nmanually install dependencies using either !pip or !apt.\n\nTo view examples of installing some common dependencies, click the\n\"Open Examples\" button below.\n\u001b[0;31m---------------------------------------------------------------------------\u001b[0m\n"
          ],
          "errorDetails": {
            "actions": [
              {
                "action": "open_url",
                "actionText": "Open Examples",
                "url": "/notebooks/snippets/importing_libraries.ipynb"
              }
            ]
          }
        }
      ]
    },
    {
      "cell_type": "code",
      "source": [
        "raw_dataset"
      ],
      "metadata": {
        "id": "jHJO1C2TYowh"
      },
      "execution_count": null,
      "outputs": []
    },
    {
      "cell_type": "code",
      "source": [
        "split = raw_dataset['train'].train_test_split(test_size=0.3, seed=42)"
      ],
      "metadata": {
        "id": "o6Ncoa7kYtFp"
      },
      "execution_count": null,
      "outputs": []
    },
    {
      "cell_type": "code",
      "source": [
        "split"
      ],
      "metadata": {
        "id": "RGt0KFHeYyfx"
      },
      "execution_count": null,
      "outputs": []
    },
    {
      "cell_type": "code",
      "source": [
        "split['train'][1]"
      ],
      "metadata": {
        "id": "gHV_WXtZY12r"
      },
      "execution_count": null,
      "outputs": []
    },
    {
      "cell_type": "code",
      "source": [
        "from transformers import AutoTokenizer"
      ],
      "metadata": {
        "id": "mfo3dU_FZKTp"
      },
      "execution_count": null,
      "outputs": []
    },
    {
      "cell_type": "code",
      "source": [
        "checkpoint = 'cahya/bert-base-indonesian-522M'"
      ],
      "metadata": {
        "id": "_UWRl6mVZYnt"
      },
      "execution_count": null,
      "outputs": []
    },
    {
      "cell_type": "code",
      "source": [
        "tokenizer = AutoTokenizer.from_pretrained(checkpoint)"
      ],
      "metadata": {
        "id": "pSAewdFhcPdR"
      },
      "execution_count": null,
      "outputs": []
    },
    {
      "cell_type": "code",
      "source": [
        "tokenized_sentences = tokenizer(split['train'][1]['sentence'])\n",
        "from pprint import pprint\n",
        "pprint(tokenized_sentences)"
      ],
      "metadata": {
        "id": "6rlVZR0ccWDT"
      },
      "execution_count": null,
      "outputs": []
    },
    {
      "cell_type": "code",
      "source": [
        "def tokenize_fn(batch):\n",
        "  return tokenizer(batch['sentence'], truncation=False)"
      ],
      "metadata": {
        "id": "hbLHlIcXcQRW"
      },
      "execution_count": null,
      "outputs": []
    },
    {
      "cell_type": "code",
      "source": [
        "from transformers import AutoModelForSequenceClassification, AutoConfig, Trainer, TrainingArguments"
      ],
      "metadata": {
        "id": "L-yuhXETcZPc"
      },
      "execution_count": null,
      "outputs": []
    },
    {
      "cell_type": "code",
      "source": [
        "config = AutoConfig.from_pretrained(checkpoint)\n",
        "config"
      ],
      "metadata": {
        "id": "7GYTwtS4dWAO"
      },
      "execution_count": null,
      "outputs": []
    },
    {
      "cell_type": "code",
      "source": [
        "config.id2label"
      ],
      "metadata": {
        "id": "3Y1co9dzdyrv"
      },
      "execution_count": null,
      "outputs": []
    },
    {
      "cell_type": "code",
      "source": [
        "config.label2id"
      ],
      "metadata": {
        "id": "oKl6a5j7d3sR"
      },
      "execution_count": null,
      "outputs": []
    },
    {
      "cell_type": "code",
      "source": [
        "target_map = {'positive': 1, 'negative': 0}\n",
        "config.id2label = {v:k for k, v in target_map.items()}\n",
        "config.label2id = target_map"
      ],
      "metadata": {
        "id": "uwEWPs76d5JH"
      },
      "execution_count": null,
      "outputs": []
    },
    {
      "cell_type": "code",
      "source": [
        "config.id2label"
      ],
      "metadata": {
        "id": "H5uR6znHd62C"
      },
      "execution_count": null,
      "outputs": []
    },
    {
      "cell_type": "code",
      "source": [
        "config.label2id"
      ],
      "metadata": {
        "id": "_nH9vWRTeNmc"
      },
      "execution_count": null,
      "outputs": []
    },
    {
      "cell_type": "code",
      "source": [
        "model = AutoModelForSequenceClassification.from_pretrained(\n",
        "    checkpoint, config=config)"
      ],
      "metadata": {
        "id": "YFUG7DuUeOxs"
      },
      "execution_count": null,
      "outputs": []
    },
    {
      "cell_type": "code",
      "source": [
        "pip install torchinfo"
      ],
      "metadata": {
        "id": "6Gj6XoRfeWdl"
      },
      "execution_count": null,
      "outputs": []
    },
    {
      "cell_type": "code",
      "source": [
        "from torchinfo import summary\n",
        "summary(model)"
      ],
      "metadata": {
        "id": "O23yzHhVelx_"
      },
      "execution_count": null,
      "outputs": []
    },
    {
      "cell_type": "code",
      "source": [
        "training_args = TrainingArguments(\n",
        "  output_dir='training_dir',\n",
        "  evaluation_strategy='epoch',\n",
        "  save_strategy='epoch',\n",
        "  num_train_epochs=3,\n",
        "  per_device_train_batch_size=16,\n",
        "  per_device_eval_batch_size=64,\n",
        ")"
      ],
      "metadata": {
        "id": "YOhypcAfetHE"
      },
      "execution_count": null,
      "outputs": []
    },
    {
      "cell_type": "code",
      "source": [
        "def compute_metrics(logits_and_labels):\n",
        "  logits, labels = logits_and_labels\n",
        "  predictions = np.argmax(logits, axis=-1)\n",
        "  acc = np.mean(predictions == labels)\n",
        "  f1 = f1_score(labels, predictions, average='macro')\n",
        "  return {'accuracy': acc, 'f1': f1}"
      ],
      "metadata": {
        "id": "9XfTEMT4yAPd"
      },
      "execution_count": null,
      "outputs": []
    },
    {
      "cell_type": "code",
      "source": [
        "tokenized_datasets = split.map(tokenize_fn, batched=True)\n",
        "trainer = Trainer(\n",
        "    model,\n",
        "    training_args,\n",
        "    train_dataset=tokenized_datasets[\"train\"],\n",
        "    eval_dataset=tokenized_datasets[\"test\"],\n",
        "    tokenizer=tokenizer,\n",
        "    compute_metrics=compute_metrics,\n",
        ")\n",
        "\n"
      ],
      "metadata": {
        "id": "fYaoU8dnx9dH"
      },
      "execution_count": null,
      "outputs": []
    },
    {
      "cell_type": "code",
      "source": [
        "trainer.train()"
      ],
      "metadata": {
        "id": "bYAS5FMlyKvQ"
      },
      "execution_count": null,
      "outputs": []
    },
    {
      "cell_type": "code",
      "source": [
        "!ls training_dir"
      ],
      "metadata": {
        "id": "xWhbzoKUyMqU"
      },
      "execution_count": null,
      "outputs": []
    },
    {
      "cell_type": "code",
      "source": [
        "from transformers import pipeline"
      ],
      "metadata": {
        "id": "OeGeqZsMyNzl"
      },
      "execution_count": null,
      "outputs": []
    },
    {
      "cell_type": "code",
      "source": [
        "savedmodel = pipeline('text-classification',\n",
        "                      model='training_dir/checkpoint-2886',\n",
        "                      device=0)"
      ],
      "metadata": {
        "id": "JiIK1WuYyOeA"
      },
      "execution_count": null,
      "outputs": []
    },
    {
      "cell_type": "code",
      "source": [
        "s = split['test']['sentence'][1]\n",
        "print(s)\n",
        "savedmodel(s)"
      ],
      "metadata": {
        "id": "OniLvD87yOmJ"
      },
      "execution_count": null,
      "outputs": []
    },
    {
      "cell_type": "code",
      "source": [
        "# Meminta input manual dari pengguna\n",
        "s = input(\"Masukkan kalimat untuk diprediksi: jelek banget pelayanannya\")\n",
        "\n",
        "# Menampilkan input untuk konfirmasi\n",
        "print(f\"Kalimat yang dimasukkan: {s}\")\n",
        "\n",
        "# Menggunakan model untuk memprediksi\n",
        "hasil = savedmodel(s)\n",
        "\n",
        "# Menampilkan hasil prediksi\n",
        "print(hasil)\n"
      ],
      "metadata": {
        "id": "7V5dacEMQbVC"
      },
      "execution_count": null,
      "outputs": []
    },
    {
      "cell_type": "code",
      "source": [
        "!pip install flask-ngrok\n"
      ],
      "metadata": {
        "id": "c2NGxqFsRY3r"
      },
      "execution_count": null,
      "outputs": []
    },
    {
      "cell_type": "code",
      "source": [
        "!pip install streamlit\n"
      ],
      "metadata": {
        "id": "vXoBvnE8SeU4"
      },
      "execution_count": null,
      "outputs": []
    }
  ]
}